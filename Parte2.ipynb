{
 "cells": [
  {
   "cell_type": "markdown",
   "metadata": {},
   "source": [
    "## Parte 2 - Análisis del discurso"
   ]
  },
  {
   "cell_type": "markdown",
   "metadata": {},
   "source": [
    "Se hizo el análsis de discurso a 16000 items de cada corpus; de esos items 6747 del corpus con diagnostico negativo, y 6236 con diagnistico positivo, son analizables."
   ]
  },
  {
   "cell_type": "markdown",
   "metadata": {},
   "source": [
    "Se recopilan los arboles de coherencia usando CODRA, para cada uno de los items del corpus."
   ]
  },
  {
   "cell_type": "code",
   "execution_count": 17,
   "metadata": {},
   "outputs": [],
   "source": [
    "import os\n",
    "import docker\n",
    "import math\n",
    "import signal\n",
    "import multiprocessing\n",
    "import time\n",
    "import pickle5 as pickle\n",
    "import numpy as np\n",
    "\n",
    "client = docker.from_env()\n",
    "from IPython.display import clear_output\n",
    "\n",
    "\n",
    "class TimeoutException(Exception): \n",
    "    pass\n",
    "\n",
    "def timeout_handler(signum, frame): \n",
    "    raise TimeoutException\n",
    "\n",
    "signal.signal(signal.SIGALRM, timeout_handler)\n",
    "\n",
    "\n",
    "def coherence(row):\n",
    "\n",
    "    if((pd.isna(row[\"tree\"]))):\n",
    "        os.system(\"echo '\"+row['text']+\"' > input.txt\")\n",
    "        os.system(\"cp input.txt /Users/raulbarrantes/tmp/\")\n",
    "        clear_output(wait=True)\n",
    "        print(row.name)\n",
    "        signal.alarm(360)\n",
    "        try:\n",
    "            return client.containers.run(\"nlpbox/codra\", \"/tmp/input.txt\",  tty=True, volumes={'/Users/raulbarrantes/tmp': {'bind': '/tmp/'}},)\n",
    "        except TimeoutException: \n",
    "            return \"No\"\n",
    "        except:\n",
    "            return \"No\"\n",
    "    else:\n",
    "        return row[\"tree\"]\n",
    "    \n",
    "def coherenceChar(row):\n",
    "    os.system(\"echo '\"+row['text']+\"' > input.txt\")\n",
    "    os.system(\"cp input.txt /Users/raulbarrantes/tmp/\")\n",
    "    clear_output(wait=True)\n",
    "    print(row.name)\n",
    "    signal.alarm(360)\n",
    "    try:\n",
    "        return client.containers.run(\"nlpbox/codra\", \"/tmp/input.txt\",  tty=True, volumes={'/Users/raulbarrantes/tmp': {'bind': '/tmp/'}},)\n",
    "    except TimeoutException: \n",
    "        return \"No\"\n",
    "    except:\n",
    "        return \"No\"\n"
   ]
  },
  {
   "cell_type": "code",
   "execution_count": null,
   "metadata": {},
   "outputs": [],
   "source": [
    "for n in range(12550, 14000, 50):\n",
    "    dfNegative['tree'] = dfNegative.iloc[0:n+1].apply(coherence,axis=1)\n",
    "    with open('dfNegative.pickle', 'wb') as handle:\n",
    "        pickle.dump(dfNegative, handle, protocol=pickle.HIGHEST_PROTOCOL)"
   ]
  },
  {
   "cell_type": "code",
   "execution_count": 4,
   "metadata": {},
   "outputs": [
    {
     "name": "stdout",
     "output_type": "stream",
     "text": [
      "16000\n"
     ]
    },
    {
     "name": "stderr",
     "output_type": "stream",
     "text": [
      "ERROR:root:Invalid alias: The name clear can't be aliased because it is another magic command.\n",
      "ERROR:root:Invalid alias: The name more can't be aliased because it is another magic command.\n",
      "ERROR:root:Invalid alias: The name less can't be aliased because it is another magic command.\n",
      "ERROR:root:Invalid alias: The name man can't be aliased because it is another magic command.\n"
     ]
    }
   ],
   "source": [
    "for n in range(0, 90022, 50):\n",
    "    dfPositive['tree'] = dfPositive.iloc[0:n+1].apply(coherence,axis=1)\n",
    "    with open('dfPositive.pickle', 'wb') as handle:\n",
    "        pickle.dump(dfPositive, handle, protocol=pickle.HIGHEST_PROTOCOL)"
   ]
  },
  {
   "cell_type": "code",
   "execution_count": 29,
   "metadata": {},
   "outputs": [],
   "source": [
    "import pandas as pd\n",
    "import matplotlib.pyplot as plt\n",
    "import numpy as np"
   ]
  },
  {
   "cell_type": "code",
   "execution_count": 30,
   "metadata": {},
   "outputs": [],
   "source": [
    "dfNegative = pd.read_json('dfNegative.json')\n",
    "dfPositive = pd.read_json('dfPositive.json')"
   ]
  },
  {
   "cell_type": "markdown",
   "metadata": {},
   "source": [
    "Se filtan los datos que pueden ser analizados."
   ]
  },
  {
   "cell_type": "code",
   "execution_count": 31,
   "metadata": {},
   "outputs": [
    {
     "data": {
      "text/html": [
       "<div>\n",
       "<style scoped>\n",
       "    .dataframe tbody tr th:only-of-type {\n",
       "        vertical-align: middle;\n",
       "    }\n",
       "\n",
       "    .dataframe tbody tr th {\n",
       "        vertical-align: top;\n",
       "    }\n",
       "\n",
       "    .dataframe thead th {\n",
       "        text-align: right;\n",
       "    }\n",
       "</style>\n",
       "<table border=\"1\" class=\"dataframe\">\n",
       "  <thead>\n",
       "    <tr style=\"text-align: right;\">\n",
       "      <th></th>\n",
       "      <th>date</th>\n",
       "      <th>info</th>\n",
       "      <th>text</th>\n",
       "      <th>diagnose</th>\n",
       "      <th>word_count_text</th>\n",
       "      <th>char_count_text</th>\n",
       "      <th>avg_word_text</th>\n",
       "      <th>stopwords_text</th>\n",
       "      <th>percentage_stopwords</th>\n",
       "      <th>tree</th>\n",
       "    </tr>\n",
       "  </thead>\n",
       "  <tbody>\n",
       "    <tr>\n",
       "      <th>0</th>\n",
       "      <td>2015-05-04 07:25:36</td>\n",
       "      <td>reddit post</td>\n",
       "      <td>I go after what I want. Why should I wait for...</td>\n",
       "      <td>true</td>\n",
       "      <td>27</td>\n",
       "      <td>115</td>\n",
       "      <td>3.708333</td>\n",
       "      <td>10</td>\n",
       "      <td>37.037037</td>\n",
       "      <td>( Root (span 1 4)\\r\\n  ( Nucleus (leaf 1) (rel...</td>\n",
       "    </tr>\n",
       "    <tr>\n",
       "      <th>3</th>\n",
       "      <td>2014-10-26 19:39:11</td>\n",
       "      <td>reddit post</td>\n",
       "      <td>My parents grew up here (New Holland). It's l...</td>\n",
       "      <td>true</td>\n",
       "      <td>32</td>\n",
       "      <td>176</td>\n",
       "      <td>5.000000</td>\n",
       "      <td>7</td>\n",
       "      <td>21.875000</td>\n",
       "      <td>( Root (span 1 6)\\r\\n  ( Nucleus (span 1 5) (r...</td>\n",
       "    </tr>\n",
       "    <tr>\n",
       "      <th>10</th>\n",
       "      <td>2014-09-12 05:42:07</td>\n",
       "      <td>reddit post</td>\n",
       "      <td>Iowa State University  Record high enrollment...</td>\n",
       "      <td>true</td>\n",
       "      <td>16</td>\n",
       "      <td>82</td>\n",
       "      <td>5.583333</td>\n",
       "      <td>3</td>\n",
       "      <td>18.750000</td>\n",
       "      <td>( Root (span 1 2)\\r\\n  ( Nucleus (leaf 1) (rel...</td>\n",
       "    </tr>\n",
       "    <tr>\n",
       "      <th>11</th>\n",
       "      <td>2014-08-16 00:43:59</td>\n",
       "      <td>reddit post</td>\n",
       "      <td>Michael Buble: \"Everything\" - he smiles when ...</td>\n",
       "      <td>true</td>\n",
       "      <td>23</td>\n",
       "      <td>114</td>\n",
       "      <td>4.600000</td>\n",
       "      <td>8</td>\n",
       "      <td>34.782609</td>\n",
       "      <td>( Root (span 1 2)\\r\\n  ( Nucleus (leaf 1) (rel...</td>\n",
       "    </tr>\n",
       "    <tr>\n",
       "      <th>12</th>\n",
       "      <td>2014-08-15 21:30:47</td>\n",
       "      <td>reddit post</td>\n",
       "      <td>It is sturdy. Feels like something that would...</td>\n",
       "      <td>true</td>\n",
       "      <td>38</td>\n",
       "      <td>184</td>\n",
       "      <td>4.200000</td>\n",
       "      <td>15</td>\n",
       "      <td>39.473684</td>\n",
       "      <td>( Root (span 1 8)\\r\\n  ( Nucleus (span 1 3) (r...</td>\n",
       "    </tr>\n",
       "    <tr>\n",
       "      <th>...</th>\n",
       "      <td>...</td>\n",
       "      <td>...</td>\n",
       "      <td>...</td>\n",
       "      <td>...</td>\n",
       "      <td>...</td>\n",
       "      <td>...</td>\n",
       "      <td>...</td>\n",
       "      <td>...</td>\n",
       "      <td>...</td>\n",
       "      <td>...</td>\n",
       "    </tr>\n",
       "    <tr>\n",
       "      <th>41098</th>\n",
       "      <td>2013-10-26 05:49:11</td>\n",
       "      <td>reddit post</td>\n",
       "      <td>could you tell me a bit about the course? wha...</td>\n",
       "      <td>true</td>\n",
       "      <td>25</td>\n",
       "      <td>121</td>\n",
       "      <td>4.409091</td>\n",
       "      <td>10</td>\n",
       "      <td>40.000000</td>\n",
       "      <td>( Root (span 1 4)\\n  ( Nucleus (leaf 1) (rel2p...</td>\n",
       "    </tr>\n",
       "    <tr>\n",
       "      <th>41099</th>\n",
       "      <td>2013-10-26 02:19:14</td>\n",
       "      <td>reddit post</td>\n",
       "      <td>anyone know of an light 100 or 200 level half...</td>\n",
       "      <td>true</td>\n",
       "      <td>38</td>\n",
       "      <td>211</td>\n",
       "      <td>5.117647</td>\n",
       "      <td>10</td>\n",
       "      <td>26.315789</td>\n",
       "      <td>( Root (span 1 3)\\n  ( Nucleus (span 1 2) (rel...</td>\n",
       "    </tr>\n",
       "    <tr>\n",
       "      <th>41100</th>\n",
       "      <td>2013-10-26 00:40:28</td>\n",
       "      <td>reddit post</td>\n",
       "      <td>just because he's sitting in a normal chair d...</td>\n",
       "      <td>true</td>\n",
       "      <td>43</td>\n",
       "      <td>236</td>\n",
       "      <td>4.850000</td>\n",
       "      <td>18</td>\n",
       "      <td>41.860465</td>\n",
       "      <td>( Root (span 1 7)\\n  ( Nucleus (span 1 3) (rel...</td>\n",
       "    </tr>\n",
       "    <tr>\n",
       "      <th>41103</th>\n",
       "      <td>2013-10-19 00:23:59</td>\n",
       "      <td>reddit post</td>\n",
       "      <td>any must reads that are rarely mentioned?  i ...</td>\n",
       "      <td>true</td>\n",
       "      <td>42</td>\n",
       "      <td>233</td>\n",
       "      <td>5.052632</td>\n",
       "      <td>15</td>\n",
       "      <td>35.714286</td>\n",
       "      <td>( Root (span 1 6)\\n  ( Nucleus (span 1 2) (rel...</td>\n",
       "    </tr>\n",
       "    <tr>\n",
       "      <th>41104</th>\n",
       "      <td>2013-10-13 17:36:08</td>\n",
       "      <td>reddit post</td>\n",
       "      <td>not enough people live in most of these areas...</td>\n",
       "      <td>true</td>\n",
       "      <td>44</td>\n",
       "      <td>221</td>\n",
       "      <td>4.341463</td>\n",
       "      <td>19</td>\n",
       "      <td>43.181818</td>\n",
       "      <td>( Root (span 1 7)\\n  ( Nucleus (span 1 4) (rel...</td>\n",
       "    </tr>\n",
       "  </tbody>\n",
       "</table>\n",
       "<p>18229 rows × 10 columns</p>\n",
       "</div>"
      ],
      "text/plain": [
       "                     date           info  \\\n",
       "0     2015-05-04 07:25:36   reddit post    \n",
       "3     2014-10-26 19:39:11   reddit post    \n",
       "10    2014-09-12 05:42:07   reddit post    \n",
       "11    2014-08-16 00:43:59   reddit post    \n",
       "12    2014-08-15 21:30:47   reddit post    \n",
       "...                   ...            ...   \n",
       "41098 2013-10-26 05:49:11   reddit post    \n",
       "41099 2013-10-26 02:19:14   reddit post    \n",
       "41100 2013-10-26 00:40:28   reddit post    \n",
       "41103 2013-10-19 00:23:59   reddit post    \n",
       "41104 2013-10-13 17:36:08   reddit post    \n",
       "\n",
       "                                                    text diagnose  \\\n",
       "0       I go after what I want. Why should I wait for...     true   \n",
       "3       My parents grew up here (New Holland). It's l...     true   \n",
       "10      Iowa State University  Record high enrollment...     true   \n",
       "11      Michael Buble: \"Everything\" - he smiles when ...     true   \n",
       "12      It is sturdy. Feels like something that would...     true   \n",
       "...                                                  ...      ...   \n",
       "41098   could you tell me a bit about the course? wha...     true   \n",
       "41099   anyone know of an light 100 or 200 level half...     true   \n",
       "41100   just because he's sitting in a normal chair d...     true   \n",
       "41103   any must reads that are rarely mentioned?  i ...     true   \n",
       "41104   not enough people live in most of these areas...     true   \n",
       "\n",
       "       word_count_text  char_count_text  avg_word_text  stopwords_text  \\\n",
       "0                   27              115       3.708333              10   \n",
       "3                   32              176       5.000000               7   \n",
       "10                  16               82       5.583333               3   \n",
       "11                  23              114       4.600000               8   \n",
       "12                  38              184       4.200000              15   \n",
       "...                ...              ...            ...             ...   \n",
       "41098               25              121       4.409091              10   \n",
       "41099               38              211       5.117647              10   \n",
       "41100               43              236       4.850000              18   \n",
       "41103               42              233       5.052632              15   \n",
       "41104               44              221       4.341463              19   \n",
       "\n",
       "       percentage_stopwords                                               tree  \n",
       "0                 37.037037  ( Root (span 1 4)\\r\\n  ( Nucleus (leaf 1) (rel...  \n",
       "3                 21.875000  ( Root (span 1 6)\\r\\n  ( Nucleus (span 1 5) (r...  \n",
       "10                18.750000  ( Root (span 1 2)\\r\\n  ( Nucleus (leaf 1) (rel...  \n",
       "11                34.782609  ( Root (span 1 2)\\r\\n  ( Nucleus (leaf 1) (rel...  \n",
       "12                39.473684  ( Root (span 1 8)\\r\\n  ( Nucleus (span 1 3) (r...  \n",
       "...                     ...                                                ...  \n",
       "41098             40.000000  ( Root (span 1 4)\\n  ( Nucleus (leaf 1) (rel2p...  \n",
       "41099             26.315789  ( Root (span 1 3)\\n  ( Nucleus (span 1 2) (rel...  \n",
       "41100             41.860465  ( Root (span 1 7)\\n  ( Nucleus (span 1 3) (rel...  \n",
       "41103             35.714286  ( Root (span 1 6)\\n  ( Nucleus (span 1 2) (rel...  \n",
       "41104             43.181818  ( Root (span 1 7)\\n  ( Nucleus (span 1 4) (rel...  \n",
       "\n",
       "[18229 rows x 10 columns]"
      ]
     },
     "execution_count": 31,
     "metadata": {},
     "output_type": "execute_result"
    }
   ],
   "source": [
    "dfPositive = dfPositive.dropna()\n",
    "dfPositive = dfPositive[dfPositive['tree']!='No']\n",
    "dfPositive = dfPositive[dfPositive['tree'].str.contains(\"Root\").fillna(False)]\n",
    "dfPositive"
   ]
  },
  {
   "cell_type": "code",
   "execution_count": 32,
   "metadata": {},
   "outputs": [
    {
     "data": {
      "text/html": [
       "<div>\n",
       "<style scoped>\n",
       "    .dataframe tbody tr th:only-of-type {\n",
       "        vertical-align: middle;\n",
       "    }\n",
       "\n",
       "    .dataframe tbody tr th {\n",
       "        vertical-align: top;\n",
       "    }\n",
       "\n",
       "    .dataframe thead th {\n",
       "        text-align: right;\n",
       "    }\n",
       "</style>\n",
       "<table border=\"1\" class=\"dataframe\">\n",
       "  <thead>\n",
       "    <tr style=\"text-align: right;\">\n",
       "      <th></th>\n",
       "      <th>date</th>\n",
       "      <th>info</th>\n",
       "      <th>text</th>\n",
       "      <th>diagnose</th>\n",
       "      <th>word_count_text</th>\n",
       "      <th>char_count_text</th>\n",
       "      <th>avg_word_text</th>\n",
       "      <th>stopwords_text</th>\n",
       "      <th>percentage_stopwords</th>\n",
       "      <th>tree</th>\n",
       "    </tr>\n",
       "  </thead>\n",
       "  <tbody>\n",
       "    <tr>\n",
       "      <th>2</th>\n",
       "      <td>2015-07-22 04:07:17</td>\n",
       "      <td>reddit post</td>\n",
       "      <td>My favorite snack (pickled herring + saltines)</td>\n",
       "      <td>false</td>\n",
       "      <td>9</td>\n",
       "      <td>48</td>\n",
       "      <td>5.714286</td>\n",
       "      <td>0</td>\n",
       "      <td>0.000000</td>\n",
       "      <td>( Root (span 1 2)\\r\\n  ( Nucleus (leaf 1) (rel...</td>\n",
       "    </tr>\n",
       "    <tr>\n",
       "      <th>3</th>\n",
       "      <td>2015-07-21 16:51:21</td>\n",
       "      <td>reddit post</td>\n",
       "      <td>I make curried butternut squash risotto. Fusi...</td>\n",
       "      <td>false</td>\n",
       "      <td>14</td>\n",
       "      <td>75</td>\n",
       "      <td>5.166667</td>\n",
       "      <td>1</td>\n",
       "      <td>7.142857</td>\n",
       "      <td>( Root (span 1 2)\\r\\n  ( Nucleus (leaf 1) (rel...</td>\n",
       "    </tr>\n",
       "    <tr>\n",
       "      <th>4</th>\n",
       "      <td>2015-07-21 15:40:41</td>\n",
       "      <td>reddit post</td>\n",
       "      <td>Bake like crazy.  You can also freeze some, b...</td>\n",
       "      <td>false</td>\n",
       "      <td>39</td>\n",
       "      <td>191</td>\n",
       "      <td>4.250000</td>\n",
       "      <td>15</td>\n",
       "      <td>38.461538</td>\n",
       "      <td>( Root (span 1 2)\\r\\n  ( Nucleus (leaf 1) (rel...</td>\n",
       "    </tr>\n",
       "    <tr>\n",
       "      <th>6</th>\n",
       "      <td>2015-07-19 17:31:54</td>\n",
       "      <td>reddit post</td>\n",
       "      <td>I've found it's also cheaper to buy blocks an...</td>\n",
       "      <td>false</td>\n",
       "      <td>31</td>\n",
       "      <td>146</td>\n",
       "      <td>4.000000</td>\n",
       "      <td>11</td>\n",
       "      <td>35.483871</td>\n",
       "      <td>( Root (span 1 5)\\r\\n  ( Nucleus (span 1 2) (r...</td>\n",
       "    </tr>\n",
       "    <tr>\n",
       "      <th>10</th>\n",
       "      <td>2015-07-13 17:06:16</td>\n",
       "      <td>reddit post</td>\n",
       "      <td>My orange boy is named Bill, after the Weasle...</td>\n",
       "      <td>false</td>\n",
       "      <td>24</td>\n",
       "      <td>113</td>\n",
       "      <td>4.090909</td>\n",
       "      <td>9</td>\n",
       "      <td>37.500000</td>\n",
       "      <td>( Root (span 1 5)\\r\\n  ( Nucleus (span 1 2) (r...</td>\n",
       "    </tr>\n",
       "    <tr>\n",
       "      <th>...</th>\n",
       "      <td>...</td>\n",
       "      <td>...</td>\n",
       "      <td>...</td>\n",
       "      <td>...</td>\n",
       "      <td>...</td>\n",
       "      <td>...</td>\n",
       "      <td>...</td>\n",
       "      <td>...</td>\n",
       "      <td>...</td>\n",
       "      <td>...</td>\n",
       "    </tr>\n",
       "    <tr>\n",
       "      <th>55880</th>\n",
       "      <td>2015-03-30 03:45:22</td>\n",
       "      <td>reddit post</td>\n",
       "      <td>[ARE YOU TRYING TO KILL ME??] (https://www.go...</td>\n",
       "      <td>false</td>\n",
       "      <td>64</td>\n",
       "      <td>444</td>\n",
       "      <td>6.350000</td>\n",
       "      <td>21</td>\n",
       "      <td>32.812500</td>\n",
       "      <td>( Root (span 1 9)\\n  ( Nucleus (leaf 1) (rel2p...</td>\n",
       "    </tr>\n",
       "    <tr>\n",
       "      <th>55883</th>\n",
       "      <td>2015-03-30 03:10:55</td>\n",
       "      <td>reddit post</td>\n",
       "      <td>Wait *was*? So you saw it?? If you had to rat...</td>\n",
       "      <td>false</td>\n",
       "      <td>49</td>\n",
       "      <td>221</td>\n",
       "      <td>3.680851</td>\n",
       "      <td>20</td>\n",
       "      <td>40.816327</td>\n",
       "      <td>( Root (span 1 9)\\n  ( Nucleus (span 1 2) (rel...</td>\n",
       "    </tr>\n",
       "    <tr>\n",
       "      <th>55884</th>\n",
       "      <td>2015-03-30 03:02:31</td>\n",
       "      <td>reddit post</td>\n",
       "      <td>initially only available through Apple devic...</td>\n",
       "      <td>false</td>\n",
       "      <td>32</td>\n",
       "      <td>174</td>\n",
       "      <td>5.107143</td>\n",
       "      <td>10</td>\n",
       "      <td>31.250000</td>\n",
       "      <td>( Root (span 1 4)\\n  ( Nucleus (span 1 3) (rel...</td>\n",
       "    </tr>\n",
       "    <tr>\n",
       "      <th>55888</th>\n",
       "      <td>2015-03-19 00:12:33</td>\n",
       "      <td>reddit post</td>\n",
       "      <td>\"And as you can see, the blood stains *almost...</td>\n",
       "      <td>false</td>\n",
       "      <td>27</td>\n",
       "      <td>137</td>\n",
       "      <td>4.440000</td>\n",
       "      <td>9</td>\n",
       "      <td>33.333333</td>\n",
       "      <td>( Root (span 1 7)\\n  ( Nucleus (span 1 3) (rel...</td>\n",
       "    </tr>\n",
       "    <tr>\n",
       "      <th>55892</th>\n",
       "      <td>2015-03-18 19:53:11</td>\n",
       "      <td>reddit post</td>\n",
       "      <td>\"If she keeps pissing all over the carpet, we...</td>\n",
       "      <td>false</td>\n",
       "      <td>18</td>\n",
       "      <td>81</td>\n",
       "      <td>4.000000</td>\n",
       "      <td>9</td>\n",
       "      <td>50.000000</td>\n",
       "      <td>( Root (span 1 2)\\n  ( Satellite (leaf 1) (rel...</td>\n",
       "    </tr>\n",
       "  </tbody>\n",
       "</table>\n",
       "<p>26797 rows × 10 columns</p>\n",
       "</div>"
      ],
      "text/plain": [
       "                     date           info  \\\n",
       "2     2015-07-22 04:07:17   reddit post    \n",
       "3     2015-07-21 16:51:21   reddit post    \n",
       "4     2015-07-21 15:40:41   reddit post    \n",
       "6     2015-07-19 17:31:54   reddit post    \n",
       "10    2015-07-13 17:06:16   reddit post    \n",
       "...                   ...            ...   \n",
       "55880 2015-03-30 03:45:22   reddit post    \n",
       "55883 2015-03-30 03:10:55   reddit post    \n",
       "55884 2015-03-30 03:02:31   reddit post    \n",
       "55888 2015-03-19 00:12:33   reddit post    \n",
       "55892 2015-03-18 19:53:11   reddit post    \n",
       "\n",
       "                                                    text diagnose  \\\n",
       "2        My favorite snack (pickled herring + saltines)     false   \n",
       "3       I make curried butternut squash risotto. Fusi...    false   \n",
       "4       Bake like crazy.  You can also freeze some, b...    false   \n",
       "6       I've found it's also cheaper to buy blocks an...    false   \n",
       "10      My orange boy is named Bill, after the Weasle...    false   \n",
       "...                                                  ...      ...   \n",
       "55880   [ARE YOU TRYING TO KILL ME??] (https://www.go...    false   \n",
       "55883   Wait *was*? So you saw it?? If you had to rat...    false   \n",
       "55884    initially only available through Apple devic...    false   \n",
       "55888   \"And as you can see, the blood stains *almost...    false   \n",
       "55892   \"If she keeps pissing all over the carpet, we...    false   \n",
       "\n",
       "       word_count_text  char_count_text  avg_word_text  stopwords_text  \\\n",
       "2                    9               48       5.714286               0   \n",
       "3                   14               75       5.166667               1   \n",
       "4                   39              191       4.250000              15   \n",
       "6                   31              146       4.000000              11   \n",
       "10                  24              113       4.090909               9   \n",
       "...                ...              ...            ...             ...   \n",
       "55880               64              444       6.350000              21   \n",
       "55883               49              221       3.680851              20   \n",
       "55884               32              174       5.107143              10   \n",
       "55888               27              137       4.440000               9   \n",
       "55892               18               81       4.000000               9   \n",
       "\n",
       "       percentage_stopwords                                               tree  \n",
       "2                  0.000000  ( Root (span 1 2)\\r\\n  ( Nucleus (leaf 1) (rel...  \n",
       "3                  7.142857  ( Root (span 1 2)\\r\\n  ( Nucleus (leaf 1) (rel...  \n",
       "4                 38.461538  ( Root (span 1 2)\\r\\n  ( Nucleus (leaf 1) (rel...  \n",
       "6                 35.483871  ( Root (span 1 5)\\r\\n  ( Nucleus (span 1 2) (r...  \n",
       "10                37.500000  ( Root (span 1 5)\\r\\n  ( Nucleus (span 1 2) (r...  \n",
       "...                     ...                                                ...  \n",
       "55880             32.812500  ( Root (span 1 9)\\n  ( Nucleus (leaf 1) (rel2p...  \n",
       "55883             40.816327  ( Root (span 1 9)\\n  ( Nucleus (span 1 2) (rel...  \n",
       "55884             31.250000  ( Root (span 1 4)\\n  ( Nucleus (span 1 3) (rel...  \n",
       "55888             33.333333  ( Root (span 1 7)\\n  ( Nucleus (span 1 3) (rel...  \n",
       "55892             50.000000  ( Root (span 1 2)\\n  ( Satellite (leaf 1) (rel...  \n",
       "\n",
       "[26797 rows x 10 columns]"
      ]
     },
     "execution_count": 32,
     "metadata": {},
     "output_type": "execute_result"
    }
   ],
   "source": [
    "dfNegative = dfNegative.dropna()\n",
    "dfNegative = dfNegative[dfNegative['tree']!='No']\n",
    "dfNegative = dfNegative[dfNegative['tree'].str.contains(\"Root\").fillna(False)]\n",
    "dfNegative"
   ]
  },
  {
   "cell_type": "markdown",
   "metadata": {},
   "source": [
    "## Generacion de archivos con datos no procesados"
   ]
  },
  {
   "cell_type": "code",
   "execution_count": 28,
   "metadata": {},
   "outputs": [],
   "source": [
    "dfNegativeNo = pd.read_json('dfNegative.json')\n",
    "dfNegativeNo = dfNegativeNo.dropna()\n",
    "dfNegativeNo = dfNegativeNo[~dfNegativeNo['tree'].str.contains(\"Root\").fillna(False)]\n",
    "dfNegativeNo['tree'] =  np.nan\n",
    "dfNegativeNo.to_json(r'dfNegativeNo.json')"
   ]
  },
  {
   "cell_type": "code",
   "execution_count": 27,
   "metadata": {},
   "outputs": [],
   "source": [
    "dfPositiveNo = pd.read_json('dfPositive.json')\n",
    "dfPositiveNo = dfPositiveNo.dropna()\n",
    "dfPositiveNo = dfPositiveNo[~dfPositiveNo['tree'].str.contains(\"Root\").fillna(False)]\n",
    "dfPositiveNo['tree'] =  np.nan\n",
    "dfPositiveNo.to_json(r'dfPositiveNo.json')"
   ]
  },
  {
   "cell_type": "markdown",
   "metadata": {},
   "source": [
    "Se recopila la información generada por los análisis, primero se recopila el número de frases en una sentencia:"
   ]
  },
  {
   "cell_type": "code",
   "execution_count": 102,
   "metadata": {},
   "outputs": [],
   "source": [
    "import re\n",
    "def num_phrases(sentence):\n",
    "    x = re.search(r\"\\( Root \\(span 1 (\\d)+\", sentence)\n",
    "    return int(x.group()[15:]) \n",
    "\n",
    "dfPositive['num_phrases'] = dfPositive['tree'].apply(lambda x: num_phrases(x))\n",
    "dfNegative['num_phrases'] = dfNegative['tree'].apply(lambda x: num_phrases(x))\n"
   ]
  },
  {
   "cell_type": "markdown",
   "metadata": {},
   "source": [
    "El número de frases de elaboración:"
   ]
  },
  {
   "cell_type": "code",
   "execution_count": 103,
   "metadata": {},
   "outputs": [],
   "source": [
    "def num_elaboration(sentence):\n",
    "    x  = re.findall(r\"Elaboration\", sentence)\n",
    "    return len(x)\n",
    "\n",
    "dfPositive['num_elaboration'] = dfPositive['tree'].apply(lambda x: num_elaboration(x))\n",
    "dfNegative['num_elaboration'] = dfNegative['tree'].apply(lambda x: num_elaboration(x))\n"
   ]
  },
  {
   "cell_type": "markdown",
   "metadata": {},
   "source": [
    "El número de frases de enablement:"
   ]
  },
  {
   "cell_type": "code",
   "execution_count": 104,
   "metadata": {},
   "outputs": [],
   "source": [
    "def num_enablement(sentence):\n",
    "    x  = re.findall(r\"Enablement\", sentence)\n",
    "    return len(x)\n",
    "\n",
    "dfPositive['num_enablement'] = dfPositive['tree'].apply(lambda x: num_enablement(x))\n",
    "dfNegative['num_enablement'] = dfNegative['tree'].apply(lambda x: num_enablement(x))\n"
   ]
  },
  {
   "cell_type": "markdown",
   "metadata": {},
   "source": [
    "El número de frases de contraste:"
   ]
  },
  {
   "cell_type": "code",
   "execution_count": 105,
   "metadata": {},
   "outputs": [],
   "source": [
    "def num_contrast(sentence):\n",
    "    x  = re.findall(r\"Contrast\", sentence)\n",
    "    return len(x)\n",
    "\n",
    "dfPositive['num_contrast'] = dfPositive['tree'].apply(lambda x: num_contrast(x))\n",
    "dfNegative['num_contrast'] = dfNegative['tree'].apply(lambda x: num_contrast(x))\n"
   ]
  },
  {
   "cell_type": "markdown",
   "metadata": {},
   "source": [
    "El número de hojas de núcleo:"
   ]
  },
  {
   "cell_type": "code",
   "execution_count": 106,
   "metadata": {},
   "outputs": [],
   "source": [
    "def num_nucleus_leaf(sentence):\n",
    "    x  = re.findall(r\"\\( Nucleus \\(leaf.*\\) \\)\\r\\n\", sentence)\n",
    "    return len(x)\n",
    "\n",
    "dfPositive['num_nucleus_leaf'] = dfPositive['tree'].apply(lambda x: num_nucleus_leaf(x))\n",
    "dfNegative['num_nucleus_leaf'] = dfNegative['tree'].apply(lambda x: num_nucleus_leaf(x))\n"
   ]
  },
  {
   "cell_type": "code",
   "execution_count": 107,
   "metadata": {},
   "outputs": [],
   "source": [
    "def num_satellite_leaf(sentence):\n",
    "    x  = re.findall(r\"\\( Satellite \\(leaf.*\\) \\)\\r\\n\", sentence)\n",
    "    return len(x)\n",
    "\n",
    "dfPositive['num_satellite_leaf'] = dfPositive['tree'].apply(lambda x: num_satellite_leaf(x))\n",
    "dfNegative['num_satellite_leaf'] = dfNegative['tree'].apply(lambda x: num_satellite_leaf(x))\n"
   ]
  },
  {
   "cell_type": "code",
   "execution_count": 108,
   "metadata": {},
   "outputs": [],
   "source": [
    "def num_nucleus_span(sentence):\n",
    "    x  = re.findall(r\"\\( Nucleus \\(span\", sentence)\n",
    "    return len(x)\n",
    "\n",
    "dfPositive['num_nucleus_span'] = dfPositive['tree'].apply(lambda x: num_nucleus_span(x))\n",
    "dfNegative['num_nucleus_span'] = dfNegative['tree'].apply(lambda x: num_nucleus_span(x))\n"
   ]
  },
  {
   "cell_type": "code",
   "execution_count": 109,
   "metadata": {},
   "outputs": [],
   "source": [
    "def num_satellite_span(sentence):\n",
    "    x  = re.findall(r\"\\( Satellite \\(span\", sentence)\n",
    "    return len(x)\n",
    "\n",
    "dfPositive['num_satellite_span'] = dfPositive['tree'].apply(lambda x: num_satellite_span(x))\n",
    "dfNegative['num_satellite_span'] = dfNegative['tree'].apply(lambda x: num_satellite_span(x))\n"
   ]
  },
  {
   "cell_type": "markdown",
   "metadata": {},
   "source": [
    "## Estadísticas de análisis de coherencia"
   ]
  },
  {
   "cell_type": "markdown",
   "metadata": {},
   "source": [
    "### Numero de frases"
   ]
  },
  {
   "cell_type": "markdown",
   "metadata": {},
   "source": [
    "#### Conteo de las frases en el texto (de 1 a 20, sin contar los datos que están vacíos)."
   ]
  },
  {
   "cell_type": "code",
   "execution_count": 110,
   "metadata": {},
   "outputs": [
    {
     "data": {
      "text/plain": [
       "<BarContainer object of 20 artists>"
      ]
     },
     "execution_count": 110,
     "metadata": {},
     "output_type": "execute_result"
    },
    {
     "data": {
      "image/png": "[encoded data removed]",
      "text/plain": [
       "<Figure size 432x288 with 1 Axes>"
      ]
     },
     "metadata": {
      "needs_background": "light"
     },
     "output_type": "display_data"
    }
   ],
   "source": [
    "fig, ax = plt.subplots()\n",
    "\n",
    "a_heights, a_bins = np.histogram(dfNegative['num_phrases'], bins=20, range=(1,20))\n",
    "b_heights, b_bins = np.histogram(dfPositive['num_phrases'], bins=20, range=(1,20))\n",
    "\n",
    "width = (a_bins[1] - a_bins[0])/3\n",
    "\n",
    "ax.bar(a_bins[:-1], a_heights, width=width, facecolor='red')\n",
    "ax.bar(b_bins[:-1]+width, b_heights, width=width, facecolor='seagreen')"
   ]
  },
  {
   "cell_type": "markdown",
   "metadata": {},
   "source": [
    "#### Medias"
   ]
  },
  {
   "cell_type": "code",
   "execution_count": 111,
   "metadata": {},
   "outputs": [
    {
     "data": {
      "text/plain": [
       "8.568160623182841"
      ]
     },
     "execution_count": 111,
     "metadata": {},
     "output_type": "execute_result"
    }
   ],
   "source": [
    "dfPositive[\"num_phrases\"].mean()"
   ]
  },
  {
   "cell_type": "code",
   "execution_count": 112,
   "metadata": {},
   "outputs": [
    {
     "data": {
      "text/plain": [
       "6.248236742918984"
      ]
     },
     "execution_count": 112,
     "metadata": {},
     "output_type": "execute_result"
    }
   ],
   "source": [
    "dfNegative[\"num_phrases\"].mean()"
   ]
  },
  {
   "cell_type": "markdown",
   "metadata": {},
   "source": [
    "#### Medianas"
   ]
  },
  {
   "cell_type": "code",
   "execution_count": 113,
   "metadata": {},
   "outputs": [
    {
     "data": {
      "text/plain": [
       "5.0"
      ]
     },
     "execution_count": 113,
     "metadata": {},
     "output_type": "execute_result"
    }
   ],
   "source": [
    "dfPositive[\"num_phrases\"].median()"
   ]
  },
  {
   "cell_type": "code",
   "execution_count": 114,
   "metadata": {},
   "outputs": [
    {
     "data": {
      "text/plain": [
       "4.0"
      ]
     },
     "execution_count": 114,
     "metadata": {},
     "output_type": "execute_result"
    }
   ],
   "source": [
    "dfNegative[\"num_phrases\"].median()"
   ]
  },
  {
   "cell_type": "markdown",
   "metadata": {},
   "source": [
    "#### Porcentajes"
   ]
  },
  {
   "cell_type": "code",
   "execution_count": 115,
   "metadata": {},
   "outputs": [],
   "source": [
    "dfPositive.loc[dfPositive['num_phrases'] > 10, 'num_phrases'] = \"> 10\"\n",
    "dfNegative.loc[dfNegative['num_phrases'] > 10, 'num_phrases'] = \"> 10\""
   ]
  },
  {
   "cell_type": "markdown",
   "metadata": {},
   "source": [
    "##### Corpus Positivo"
   ]
  },
  {
   "cell_type": "code",
   "execution_count": 116,
   "metadata": {},
   "outputs": [
    {
     "data": {
      "text/html": [
       "<div>\n",
       "<style scoped>\n",
       "    .dataframe tbody tr th:only-of-type {\n",
       "        vertical-align: middle;\n",
       "    }\n",
       "\n",
       "    .dataframe tbody tr th {\n",
       "        vertical-align: top;\n",
       "    }\n",
       "\n",
       "    .dataframe thead th {\n",
       "        text-align: right;\n",
       "    }\n",
       "</style>\n",
       "<table border=\"1\" class=\"dataframe\">\n",
       "  <thead>\n",
       "    <tr style=\"text-align: right;\">\n",
       "      <th></th>\n",
       "      <th>counts</th>\n",
       "      <th>per</th>\n",
       "      <th>per100</th>\n",
       "    </tr>\n",
       "  </thead>\n",
       "  <tbody>\n",
       "    <tr>\n",
       "      <th>&gt; 10</th>\n",
       "      <td>4130</td>\n",
       "      <td>0.226562</td>\n",
       "      <td>22.7%</td>\n",
       "    </tr>\n",
       "    <tr>\n",
       "      <th>2</th>\n",
       "      <td>3041</td>\n",
       "      <td>0.166822</td>\n",
       "      <td>16.7%</td>\n",
       "    </tr>\n",
       "    <tr>\n",
       "      <th>3</th>\n",
       "      <td>2964</td>\n",
       "      <td>0.162598</td>\n",
       "      <td>16.3%</td>\n",
       "    </tr>\n",
       "    <tr>\n",
       "      <th>4</th>\n",
       "      <td>2330</td>\n",
       "      <td>0.127818</td>\n",
       "      <td>12.8%</td>\n",
       "    </tr>\n",
       "    <tr>\n",
       "      <th>5</th>\n",
       "      <td>1606</td>\n",
       "      <td>0.088101</td>\n",
       "      <td>8.8%</td>\n",
       "    </tr>\n",
       "    <tr>\n",
       "      <th>6</th>\n",
       "      <td>1280</td>\n",
       "      <td>0.070218</td>\n",
       "      <td>7.0%</td>\n",
       "    </tr>\n",
       "    <tr>\n",
       "      <th>7</th>\n",
       "      <td>973</td>\n",
       "      <td>0.053376</td>\n",
       "      <td>5.3%</td>\n",
       "    </tr>\n",
       "    <tr>\n",
       "      <th>8</th>\n",
       "      <td>756</td>\n",
       "      <td>0.041472</td>\n",
       "      <td>4.1%</td>\n",
       "    </tr>\n",
       "    <tr>\n",
       "      <th>9</th>\n",
       "      <td>637</td>\n",
       "      <td>0.034944</td>\n",
       "      <td>3.5%</td>\n",
       "    </tr>\n",
       "    <tr>\n",
       "      <th>10</th>\n",
       "      <td>512</td>\n",
       "      <td>0.028087</td>\n",
       "      <td>2.8%</td>\n",
       "    </tr>\n",
       "  </tbody>\n",
       "</table>\n",
       "</div>"
      ],
      "text/plain": [
       "      counts       per per100\n",
       "> 10    4130  0.226562  22.7%\n",
       "2       3041  0.166822  16.7%\n",
       "3       2964  0.162598  16.3%\n",
       "4       2330  0.127818  12.8%\n",
       "5       1606  0.088101   8.8%\n",
       "6       1280  0.070218   7.0%\n",
       "7        973  0.053376   5.3%\n",
       "8        756  0.041472   4.1%\n",
       "9        637  0.034944   3.5%\n",
       "10       512  0.028087   2.8%"
      ]
     },
     "execution_count": 116,
     "metadata": {},
     "output_type": "execute_result"
    }
   ],
   "source": [
    "s = dfPositive.num_phrases\n",
    "counts = s.value_counts()\n",
    "percent = s.value_counts(normalize=True)\n",
    "percent100 = s.value_counts(normalize=True).mul(100).round(1).astype(str) + '%'\n",
    "pd.DataFrame({'counts': counts, 'per': percent, 'per100': percent100}).head(10)"
   ]
  },
  {
   "cell_type": "markdown",
   "metadata": {},
   "source": [
    "##### Corpus Negativo"
   ]
  },
  {
   "cell_type": "code",
   "execution_count": 117,
   "metadata": {},
   "outputs": [
    {
     "data": {
      "text/html": [
       "<div>\n",
       "<style scoped>\n",
       "    .dataframe tbody tr th:only-of-type {\n",
       "        vertical-align: middle;\n",
       "    }\n",
       "\n",
       "    .dataframe tbody tr th {\n",
       "        vertical-align: top;\n",
       "    }\n",
       "\n",
       "    .dataframe thead th {\n",
       "        text-align: right;\n",
       "    }\n",
       "</style>\n",
       "<table border=\"1\" class=\"dataframe\">\n",
       "  <thead>\n",
       "    <tr style=\"text-align: right;\">\n",
       "      <th></th>\n",
       "      <th>counts</th>\n",
       "      <th>per</th>\n",
       "      <th>per100</th>\n",
       "    </tr>\n",
       "  </thead>\n",
       "  <tbody>\n",
       "    <tr>\n",
       "      <th>2</th>\n",
       "      <td>7219</td>\n",
       "      <td>0.269396</td>\n",
       "      <td>26.9%</td>\n",
       "    </tr>\n",
       "    <tr>\n",
       "      <th>3</th>\n",
       "      <td>4983</td>\n",
       "      <td>0.185954</td>\n",
       "      <td>18.6%</td>\n",
       "    </tr>\n",
       "    <tr>\n",
       "      <th>&gt; 10</th>\n",
       "      <td>3729</td>\n",
       "      <td>0.139157</td>\n",
       "      <td>13.9%</td>\n",
       "    </tr>\n",
       "    <tr>\n",
       "      <th>4</th>\n",
       "      <td>3309</td>\n",
       "      <td>0.123484</td>\n",
       "      <td>12.3%</td>\n",
       "    </tr>\n",
       "    <tr>\n",
       "      <th>5</th>\n",
       "      <td>2285</td>\n",
       "      <td>0.085271</td>\n",
       "      <td>8.5%</td>\n",
       "    </tr>\n",
       "    <tr>\n",
       "      <th>6</th>\n",
       "      <td>1742</td>\n",
       "      <td>0.065007</td>\n",
       "      <td>6.5%</td>\n",
       "    </tr>\n",
       "    <tr>\n",
       "      <th>7</th>\n",
       "      <td>1246</td>\n",
       "      <td>0.046498</td>\n",
       "      <td>4.6%</td>\n",
       "    </tr>\n",
       "    <tr>\n",
       "      <th>8</th>\n",
       "      <td>951</td>\n",
       "      <td>0.035489</td>\n",
       "      <td>3.5%</td>\n",
       "    </tr>\n",
       "    <tr>\n",
       "      <th>9</th>\n",
       "      <td>737</td>\n",
       "      <td>0.027503</td>\n",
       "      <td>2.8%</td>\n",
       "    </tr>\n",
       "    <tr>\n",
       "      <th>10</th>\n",
       "      <td>596</td>\n",
       "      <td>0.022241</td>\n",
       "      <td>2.2%</td>\n",
       "    </tr>\n",
       "  </tbody>\n",
       "</table>\n",
       "</div>"
      ],
      "text/plain": [
       "      counts       per per100\n",
       "2       7219  0.269396  26.9%\n",
       "3       4983  0.185954  18.6%\n",
       "> 10    3729  0.139157  13.9%\n",
       "4       3309  0.123484  12.3%\n",
       "5       2285  0.085271   8.5%\n",
       "6       1742  0.065007   6.5%\n",
       "7       1246  0.046498   4.6%\n",
       "8        951  0.035489   3.5%\n",
       "9        737  0.027503   2.8%\n",
       "10       596  0.022241   2.2%"
      ]
     },
     "execution_count": 117,
     "metadata": {},
     "output_type": "execute_result"
    }
   ],
   "source": [
    "s = dfNegative.num_phrases\n",
    "counts = s.value_counts()\n",
    "percent = s.value_counts(normalize=True)\n",
    "percent100 = s.value_counts(normalize=True).mul(100).round(1).astype(str) + '%'\n",
    "pd.DataFrame({'counts': counts, 'per': percent, 'per100': percent100}).head(10)"
   ]
  },
  {
   "cell_type": "markdown",
   "metadata": {},
   "source": [
    "### Conteo de las frases de elaboración*"
   ]
  },
  {
   "cell_type": "code",
   "execution_count": 118,
   "metadata": {},
   "outputs": [
    {
     "data": {
      "text/plain": [
       "<BarContainer object of 20 artists>"
      ]
     },
     "execution_count": 118,
     "metadata": {},
     "output_type": "execute_result"
    },
    {
     "data": {
      "image/png": "[encoded data removed]",
      "text/plain": [
       "<Figure size 432x288 with 1 Axes>"
      ]
     },
     "metadata": {
      "needs_background": "light"
     },
     "output_type": "display_data"
    }
   ],
   "source": [
    "fig, ax = plt.subplots()\n",
    "\n",
    "a_heights, a_bins = np.histogram(dfNegative['num_elaboration'], bins=20, range=(1,20))\n",
    "b_heights, b_bins = np.histogram(dfPositive['num_elaboration'], bins=20, range=(1,20))\n",
    "\n",
    "width = (a_bins[1] - a_bins[0])/3\n",
    "\n",
    "ax.bar(a_bins[:-1], a_heights, width=width, facecolor='red')\n",
    "ax.bar(b_bins[:-1]+width, b_heights, width=width, facecolor='seagreen')"
   ]
  },
  {
   "cell_type": "markdown",
   "metadata": {},
   "source": [
    "#### Medias"
   ]
  },
  {
   "cell_type": "code",
   "execution_count": 119,
   "metadata": {},
   "outputs": [
    {
     "data": {
      "text/plain": [
       "3.314663448351528"
      ]
     },
     "execution_count": 119,
     "metadata": {},
     "output_type": "execute_result"
    }
   ],
   "source": [
    "dfPositive[\"num_elaboration\"].mean()"
   ]
  },
  {
   "cell_type": "code",
   "execution_count": 120,
   "metadata": {},
   "outputs": [
    {
     "data": {
      "text/plain": [
       "2.5191999104377354"
      ]
     },
     "execution_count": 120,
     "metadata": {},
     "output_type": "execute_result"
    }
   ],
   "source": [
    "dfNegative[\"num_elaboration\"].mean()"
   ]
  },
  {
   "cell_type": "markdown",
   "metadata": {},
   "source": [
    "#### Medianas"
   ]
  },
  {
   "cell_type": "code",
   "execution_count": 121,
   "metadata": {},
   "outputs": [
    {
     "data": {
      "text/plain": [
       "2.0"
      ]
     },
     "execution_count": 121,
     "metadata": {},
     "output_type": "execute_result"
    }
   ],
   "source": [
    "dfPositive[\"num_elaboration\"].median()"
   ]
  },
  {
   "cell_type": "code",
   "execution_count": 122,
   "metadata": {},
   "outputs": [
    {
     "data": {
      "text/plain": [
       "2.0"
      ]
     },
     "execution_count": 122,
     "metadata": {},
     "output_type": "execute_result"
    }
   ],
   "source": [
    "dfPositive[\"num_elaboration\"].median()"
   ]
  },
  {
   "cell_type": "markdown",
   "metadata": {},
   "source": [
    "#### Porcentajes"
   ]
  },
  {
   "cell_type": "code",
   "execution_count": 123,
   "metadata": {},
   "outputs": [],
   "source": [
    "dfPositive.loc[dfPositive['num_elaboration'] > 10, 'num_elaboration'] = \"> 10\"\n",
    "dfNegative.loc[dfNegative['num_elaboration'] > 10, 'num_elaboration'] = \"> 10\""
   ]
  },
  {
   "cell_type": "markdown",
   "metadata": {},
   "source": [
    "##### Corpus Positivo"
   ]
  },
  {
   "cell_type": "code",
   "execution_count": 124,
   "metadata": {},
   "outputs": [
    {
     "data": {
      "text/html": [
       "<div>\n",
       "<style scoped>\n",
       "    .dataframe tbody tr th:only-of-type {\n",
       "        vertical-align: middle;\n",
       "    }\n",
       "\n",
       "    .dataframe tbody tr th {\n",
       "        vertical-align: top;\n",
       "    }\n",
       "\n",
       "    .dataframe thead th {\n",
       "        text-align: right;\n",
       "    }\n",
       "</style>\n",
       "<table border=\"1\" class=\"dataframe\">\n",
       "  <thead>\n",
       "    <tr style=\"text-align: right;\">\n",
       "      <th></th>\n",
       "      <th>counts</th>\n",
       "      <th>per</th>\n",
       "      <th>per100</th>\n",
       "    </tr>\n",
       "  </thead>\n",
       "  <tbody>\n",
       "    <tr>\n",
       "      <th>1</th>\n",
       "      <td>4631</td>\n",
       "      <td>0.254046</td>\n",
       "      <td>25.4%</td>\n",
       "    </tr>\n",
       "    <tr>\n",
       "      <th>2</th>\n",
       "      <td>3124</td>\n",
       "      <td>0.171375</td>\n",
       "      <td>17.1%</td>\n",
       "    </tr>\n",
       "    <tr>\n",
       "      <th>0</th>\n",
       "      <td>2833</td>\n",
       "      <td>0.155412</td>\n",
       "      <td>15.5%</td>\n",
       "    </tr>\n",
       "    <tr>\n",
       "      <th>3</th>\n",
       "      <td>2078</td>\n",
       "      <td>0.113994</td>\n",
       "      <td>11.4%</td>\n",
       "    </tr>\n",
       "    <tr>\n",
       "      <th>4</th>\n",
       "      <td>1351</td>\n",
       "      <td>0.074113</td>\n",
       "      <td>7.4%</td>\n",
       "    </tr>\n",
       "    <tr>\n",
       "      <th>&gt; 10</th>\n",
       "      <td>1083</td>\n",
       "      <td>0.059411</td>\n",
       "      <td>5.9%</td>\n",
       "    </tr>\n",
       "    <tr>\n",
       "      <th>5</th>\n",
       "      <td>921</td>\n",
       "      <td>0.050524</td>\n",
       "      <td>5.1%</td>\n",
       "    </tr>\n",
       "    <tr>\n",
       "      <th>6</th>\n",
       "      <td>728</td>\n",
       "      <td>0.039936</td>\n",
       "      <td>4.0%</td>\n",
       "    </tr>\n",
       "    <tr>\n",
       "      <th>7</th>\n",
       "      <td>502</td>\n",
       "      <td>0.027539</td>\n",
       "      <td>2.8%</td>\n",
       "    </tr>\n",
       "    <tr>\n",
       "      <th>8</th>\n",
       "      <td>450</td>\n",
       "      <td>0.024686</td>\n",
       "      <td>2.5%</td>\n",
       "    </tr>\n",
       "  </tbody>\n",
       "</table>\n",
       "</div>"
      ],
      "text/plain": [
       "      counts       per per100\n",
       "1       4631  0.254046  25.4%\n",
       "2       3124  0.171375  17.1%\n",
       "0       2833  0.155412  15.5%\n",
       "3       2078  0.113994  11.4%\n",
       "4       1351  0.074113   7.4%\n",
       "> 10    1083  0.059411   5.9%\n",
       "5        921  0.050524   5.1%\n",
       "6        728  0.039936   4.0%\n",
       "7        502  0.027539   2.8%\n",
       "8        450  0.024686   2.5%"
      ]
     },
     "execution_count": 124,
     "metadata": {},
     "output_type": "execute_result"
    }
   ],
   "source": [
    "s = dfPositive.num_elaboration\n",
    "counts = s.value_counts()\n",
    "percent = s.value_counts(normalize=True)\n",
    "percent100 = s.value_counts(normalize=True).mul(100).round(1).astype(str) + '%'\n",
    "pd.DataFrame({'counts': counts, 'per': percent, 'per100': percent100}).head(10)"
   ]
  },
  {
   "cell_type": "markdown",
   "metadata": {},
   "source": [
    "##### Corpus Negativo"
   ]
  },
  {
   "cell_type": "code",
   "execution_count": 125,
   "metadata": {},
   "outputs": [
    {
     "data": {
      "text/html": [
       "<div>\n",
       "<style scoped>\n",
       "    .dataframe tbody tr th:only-of-type {\n",
       "        vertical-align: middle;\n",
       "    }\n",
       "\n",
       "    .dataframe tbody tr th {\n",
       "        vertical-align: top;\n",
       "    }\n",
       "\n",
       "    .dataframe thead th {\n",
       "        text-align: right;\n",
       "    }\n",
       "</style>\n",
       "<table border=\"1\" class=\"dataframe\">\n",
       "  <thead>\n",
       "    <tr style=\"text-align: right;\">\n",
       "      <th></th>\n",
       "      <th>counts</th>\n",
       "      <th>per</th>\n",
       "      <th>per100</th>\n",
       "    </tr>\n",
       "  </thead>\n",
       "  <tbody>\n",
       "    <tr>\n",
       "      <th>1</th>\n",
       "      <td>8719</td>\n",
       "      <td>0.325372</td>\n",
       "      <td>32.5%</td>\n",
       "    </tr>\n",
       "    <tr>\n",
       "      <th>0</th>\n",
       "      <td>5006</td>\n",
       "      <td>0.186812</td>\n",
       "      <td>18.7%</td>\n",
       "    </tr>\n",
       "    <tr>\n",
       "      <th>2</th>\n",
       "      <td>4594</td>\n",
       "      <td>0.171437</td>\n",
       "      <td>17.1%</td>\n",
       "    </tr>\n",
       "    <tr>\n",
       "      <th>3</th>\n",
       "      <td>2639</td>\n",
       "      <td>0.098481</td>\n",
       "      <td>9.8%</td>\n",
       "    </tr>\n",
       "    <tr>\n",
       "      <th>4</th>\n",
       "      <td>1748</td>\n",
       "      <td>0.065231</td>\n",
       "      <td>6.5%</td>\n",
       "    </tr>\n",
       "    <tr>\n",
       "      <th>5</th>\n",
       "      <td>1101</td>\n",
       "      <td>0.041087</td>\n",
       "      <td>4.1%</td>\n",
       "    </tr>\n",
       "    <tr>\n",
       "      <th>&gt; 10</th>\n",
       "      <td>838</td>\n",
       "      <td>0.031272</td>\n",
       "      <td>3.1%</td>\n",
       "    </tr>\n",
       "    <tr>\n",
       "      <th>6</th>\n",
       "      <td>707</td>\n",
       "      <td>0.026384</td>\n",
       "      <td>2.6%</td>\n",
       "    </tr>\n",
       "    <tr>\n",
       "      <th>7</th>\n",
       "      <td>535</td>\n",
       "      <td>0.019965</td>\n",
       "      <td>2.0%</td>\n",
       "    </tr>\n",
       "    <tr>\n",
       "      <th>8</th>\n",
       "      <td>404</td>\n",
       "      <td>0.015076</td>\n",
       "      <td>1.5%</td>\n",
       "    </tr>\n",
       "  </tbody>\n",
       "</table>\n",
       "</div>"
      ],
      "text/plain": [
       "      counts       per per100\n",
       "1       8719  0.325372  32.5%\n",
       "0       5006  0.186812  18.7%\n",
       "2       4594  0.171437  17.1%\n",
       "3       2639  0.098481   9.8%\n",
       "4       1748  0.065231   6.5%\n",
       "5       1101  0.041087   4.1%\n",
       "> 10     838  0.031272   3.1%\n",
       "6        707  0.026384   2.6%\n",
       "7        535  0.019965   2.0%\n",
       "8        404  0.015076   1.5%"
      ]
     },
     "execution_count": 125,
     "metadata": {},
     "output_type": "execute_result"
    }
   ],
   "source": [
    "s = dfNegative.num_elaboration\n",
    "counts = s.value_counts()\n",
    "percent = s.value_counts(normalize=True)\n",
    "percent100 = s.value_counts(normalize=True).mul(100).round(1).astype(str) + '%'\n",
    "pd.DataFrame({'counts': counts, 'per': percent, 'per100': percent100}).head(10)"
   ]
  },
  {
   "cell_type": "markdown",
   "metadata": {},
   "source": [
    "### Conteo de las frases de enablement*"
   ]
  },
  {
   "cell_type": "code",
   "execution_count": 126,
   "metadata": {},
   "outputs": [
    {
     "data": {
      "text/plain": [
       "<BarContainer object of 5 artists>"
      ]
     },
     "execution_count": 126,
     "metadata": {},
     "output_type": "execute_result"
    },
    {
     "data": {
      "image/png": "[encoded data removed]",
      "text/plain": [
       "<Figure size 432x288 with 1 Axes>"
      ]
     },
     "metadata": {
      "needs_background": "light"
     },
     "output_type": "display_data"
    }
   ],
   "source": [
    "fig, ax = plt.subplots()\n",
    "\n",
    "a_heights, a_bins = np.histogram(dfNegative['num_enablement'], bins=5, range=(1,5))\n",
    "b_heights, b_bins = np.histogram(dfPositive['num_enablement'], bins=5, range=(1,5))\n",
    "\n",
    "width = (a_bins[1] - a_bins[0])/3\n",
    "\n",
    "ax.bar(a_bins[:-1], a_heights, width=width, facecolor='red')\n",
    "ax.bar(b_bins[:-1]+width, b_heights, width=width, facecolor='seagreen')"
   ]
  },
  {
   "cell_type": "markdown",
   "metadata": {},
   "source": [
    "#### Medias"
   ]
  },
  {
   "cell_type": "code",
   "execution_count": 127,
   "metadata": {},
   "outputs": [
    {
     "data": {
      "text/plain": [
       "0.15458884195512645"
      ]
     },
     "execution_count": 127,
     "metadata": {},
     "output_type": "execute_result"
    }
   ],
   "source": [
    "dfPositive[\"num_enablement\"].mean()"
   ]
  },
  {
   "cell_type": "code",
   "execution_count": 128,
   "metadata": {},
   "outputs": [
    {
     "data": {
      "text/plain": [
       "0.11527409784677389"
      ]
     },
     "execution_count": 128,
     "metadata": {},
     "output_type": "execute_result"
    }
   ],
   "source": [
    "dfNegative[\"num_enablement\"].mean()"
   ]
  },
  {
   "cell_type": "markdown",
   "metadata": {},
   "source": [
    "#### Medianas"
   ]
  },
  {
   "cell_type": "code",
   "execution_count": 129,
   "metadata": {},
   "outputs": [
    {
     "data": {
      "text/plain": [
       "0.0"
      ]
     },
     "execution_count": 129,
     "metadata": {},
     "output_type": "execute_result"
    }
   ],
   "source": [
    "dfPositive[\"num_enablement\"].median()"
   ]
  },
  {
   "cell_type": "code",
   "execution_count": 130,
   "metadata": {},
   "outputs": [
    {
     "data": {
      "text/plain": [
       "0.0"
      ]
     },
     "execution_count": 130,
     "metadata": {},
     "output_type": "execute_result"
    }
   ],
   "source": [
    "dfNegative[\"num_enablement\"].median()"
   ]
  },
  {
   "cell_type": "markdown",
   "metadata": {},
   "source": [
    "#### Porcentajes"
   ]
  },
  {
   "cell_type": "code",
   "execution_count": 131,
   "metadata": {},
   "outputs": [],
   "source": [
    "dfPositive.loc[dfPositive['num_enablement'] > 10, 'num_enablement'] = \"> 10\"\n",
    "dfNegative.loc[dfNegative['num_enablement'] > 10, 'num_enablement'] = \"> 10\""
   ]
  },
  {
   "cell_type": "markdown",
   "metadata": {},
   "source": [
    "##### Corpus Positivo"
   ]
  },
  {
   "cell_type": "code",
   "execution_count": 132,
   "metadata": {},
   "outputs": [
    {
     "data": {
      "text/html": [
       "<div>\n",
       "<style scoped>\n",
       "    .dataframe tbody tr th:only-of-type {\n",
       "        vertical-align: middle;\n",
       "    }\n",
       "\n",
       "    .dataframe tbody tr th {\n",
       "        vertical-align: top;\n",
       "    }\n",
       "\n",
       "    .dataframe thead th {\n",
       "        text-align: right;\n",
       "    }\n",
       "</style>\n",
       "<table border=\"1\" class=\"dataframe\">\n",
       "  <thead>\n",
       "    <tr style=\"text-align: right;\">\n",
       "      <th></th>\n",
       "      <th>counts</th>\n",
       "      <th>per</th>\n",
       "      <th>per100</th>\n",
       "    </tr>\n",
       "  </thead>\n",
       "  <tbody>\n",
       "    <tr>\n",
       "      <th>0</th>\n",
       "      <td>15898</td>\n",
       "      <td>0.872127</td>\n",
       "      <td>87.2%</td>\n",
       "    </tr>\n",
       "    <tr>\n",
       "      <th>1</th>\n",
       "      <td>1956</td>\n",
       "      <td>0.107302</td>\n",
       "      <td>10.7%</td>\n",
       "    </tr>\n",
       "    <tr>\n",
       "      <th>2</th>\n",
       "      <td>300</td>\n",
       "      <td>0.016457</td>\n",
       "      <td>1.6%</td>\n",
       "    </tr>\n",
       "    <tr>\n",
       "      <th>3</th>\n",
       "      <td>51</td>\n",
       "      <td>0.002798</td>\n",
       "      <td>0.3%</td>\n",
       "    </tr>\n",
       "    <tr>\n",
       "      <th>4</th>\n",
       "      <td>17</td>\n",
       "      <td>0.000933</td>\n",
       "      <td>0.1%</td>\n",
       "    </tr>\n",
       "    <tr>\n",
       "      <th>5</th>\n",
       "      <td>4</td>\n",
       "      <td>0.000219</td>\n",
       "      <td>0.0%</td>\n",
       "    </tr>\n",
       "    <tr>\n",
       "      <th>8</th>\n",
       "      <td>1</td>\n",
       "      <td>0.000055</td>\n",
       "      <td>0.0%</td>\n",
       "    </tr>\n",
       "    <tr>\n",
       "      <th>7</th>\n",
       "      <td>1</td>\n",
       "      <td>0.000055</td>\n",
       "      <td>0.0%</td>\n",
       "    </tr>\n",
       "    <tr>\n",
       "      <th>6</th>\n",
       "      <td>1</td>\n",
       "      <td>0.000055</td>\n",
       "      <td>0.0%</td>\n",
       "    </tr>\n",
       "  </tbody>\n",
       "</table>\n",
       "</div>"
      ],
      "text/plain": [
       "   counts       per per100\n",
       "0   15898  0.872127  87.2%\n",
       "1    1956  0.107302  10.7%\n",
       "2     300  0.016457   1.6%\n",
       "3      51  0.002798   0.3%\n",
       "4      17  0.000933   0.1%\n",
       "5       4  0.000219   0.0%\n",
       "8       1  0.000055   0.0%\n",
       "7       1  0.000055   0.0%\n",
       "6       1  0.000055   0.0%"
      ]
     },
     "execution_count": 132,
     "metadata": {},
     "output_type": "execute_result"
    }
   ],
   "source": [
    "s = dfPositive.num_enablement\n",
    "counts = s.value_counts()\n",
    "percent = s.value_counts(normalize=True)\n",
    "percent100 = s.value_counts(normalize=True).mul(100).round(1).astype(str) + '%'\n",
    "pd.DataFrame({'counts': counts, 'per': percent, 'per100': percent100}).head(10)"
   ]
  },
  {
   "cell_type": "markdown",
   "metadata": {},
   "source": [
    "##### Corpus Negativo"
   ]
  },
  {
   "cell_type": "code",
   "execution_count": 133,
   "metadata": {},
   "outputs": [
    {
     "data": {
      "text/html": [
       "<div>\n",
       "<style scoped>\n",
       "    .dataframe tbody tr th:only-of-type {\n",
       "        vertical-align: middle;\n",
       "    }\n",
       "\n",
       "    .dataframe tbody tr th {\n",
       "        vertical-align: top;\n",
       "    }\n",
       "\n",
       "    .dataframe thead th {\n",
       "        text-align: right;\n",
       "    }\n",
       "</style>\n",
       "<table border=\"1\" class=\"dataframe\">\n",
       "  <thead>\n",
       "    <tr style=\"text-align: right;\">\n",
       "      <th></th>\n",
       "      <th>counts</th>\n",
       "      <th>per</th>\n",
       "      <th>per100</th>\n",
       "    </tr>\n",
       "  </thead>\n",
       "  <tbody>\n",
       "    <tr>\n",
       "      <th>0</th>\n",
       "      <td>24106</td>\n",
       "      <td>0.899578</td>\n",
       "      <td>90.0%</td>\n",
       "    </tr>\n",
       "    <tr>\n",
       "      <th>1</th>\n",
       "      <td>2383</td>\n",
       "      <td>0.088928</td>\n",
       "      <td>8.9%</td>\n",
       "    </tr>\n",
       "    <tr>\n",
       "      <th>2</th>\n",
       "      <td>241</td>\n",
       "      <td>0.008994</td>\n",
       "      <td>0.9%</td>\n",
       "    </tr>\n",
       "    <tr>\n",
       "      <th>3</th>\n",
       "      <td>54</td>\n",
       "      <td>0.002015</td>\n",
       "      <td>0.2%</td>\n",
       "    </tr>\n",
       "    <tr>\n",
       "      <th>5</th>\n",
       "      <td>6</td>\n",
       "      <td>0.000224</td>\n",
       "      <td>0.0%</td>\n",
       "    </tr>\n",
       "    <tr>\n",
       "      <th>4</th>\n",
       "      <td>5</td>\n",
       "      <td>0.000187</td>\n",
       "      <td>0.0%</td>\n",
       "    </tr>\n",
       "    <tr>\n",
       "      <th>6</th>\n",
       "      <td>2</td>\n",
       "      <td>0.000075</td>\n",
       "      <td>0.0%</td>\n",
       "    </tr>\n",
       "  </tbody>\n",
       "</table>\n",
       "</div>"
      ],
      "text/plain": [
       "   counts       per per100\n",
       "0   24106  0.899578  90.0%\n",
       "1    2383  0.088928   8.9%\n",
       "2     241  0.008994   0.9%\n",
       "3      54  0.002015   0.2%\n",
       "5       6  0.000224   0.0%\n",
       "4       5  0.000187   0.0%\n",
       "6       2  0.000075   0.0%"
      ]
     },
     "execution_count": 133,
     "metadata": {},
     "output_type": "execute_result"
    }
   ],
   "source": [
    "s = dfNegative.num_enablement\n",
    "counts = s.value_counts()\n",
    "percent = s.value_counts(normalize=True)\n",
    "percent100 = s.value_counts(normalize=True).mul(100).round(1).astype(str) + '%'\n",
    "pd.DataFrame({'counts': counts, 'per': percent, 'per100': percent100}).head(10)"
   ]
  },
  {
   "cell_type": "markdown",
   "metadata": {},
   "source": [
    "### Conteo de las frases de contraste"
   ]
  },
  {
   "cell_type": "code",
   "execution_count": 134,
   "metadata": {},
   "outputs": [
    {
     "data": {
      "text/plain": [
       "<BarContainer object of 5 artists>"
      ]
     },
     "execution_count": 134,
     "metadata": {},
     "output_type": "execute_result"
    },
    {
     "data": {
      "image/png": "[encoded data removed]",
      "text/plain": [
       "<Figure size 432x288 with 1 Axes>"
      ]
     },
     "metadata": {
      "needs_background": "light"
     },
     "output_type": "display_data"
    }
   ],
   "source": [
    "fig, ax = plt.subplots()\n",
    "\n",
    "a_heights, a_bins = np.histogram(dfNegative['num_contrast'], bins=5, range=(1,5))\n",
    "b_heights, b_bins = np.histogram(dfPositive['num_contrast'], bins=5, range=(1,5))\n",
    "\n",
    "width = (a_bins[1] - a_bins[0])/3\n",
    "\n",
    "ax.bar(a_bins[:-1], a_heights, width=width, facecolor='red')\n",
    "ax.bar(b_bins[:-1]+width, b_heights, width=width, facecolor='seagreen')"
   ]
  },
  {
   "cell_type": "markdown",
   "metadata": {},
   "source": [
    "#### Medias"
   ]
  },
  {
   "cell_type": "code",
   "execution_count": 135,
   "metadata": {},
   "outputs": [
    {
     "data": {
      "text/plain": [
       "0.5613034176312469"
      ]
     },
     "execution_count": 135,
     "metadata": {},
     "output_type": "execute_result"
    }
   ],
   "source": [
    "dfPositive[\"num_contrast\"].mean()"
   ]
  },
  {
   "cell_type": "code",
   "execution_count": 136,
   "metadata": {},
   "outputs": [
    {
     "data": {
      "text/plain": [
       "0.34884501996492145"
      ]
     },
     "execution_count": 136,
     "metadata": {},
     "output_type": "execute_result"
    }
   ],
   "source": [
    "dfNegative[\"num_contrast\"].mean()"
   ]
  },
  {
   "cell_type": "markdown",
   "metadata": {},
   "source": [
    "#### Medianas"
   ]
  },
  {
   "cell_type": "code",
   "execution_count": 137,
   "metadata": {},
   "outputs": [
    {
     "data": {
      "text/plain": [
       "0.0"
      ]
     },
     "execution_count": 137,
     "metadata": {},
     "output_type": "execute_result"
    }
   ],
   "source": [
    "dfPositive[\"num_contrast\"].median()"
   ]
  },
  {
   "cell_type": "code",
   "execution_count": 138,
   "metadata": {},
   "outputs": [
    {
     "data": {
      "text/plain": [
       "0.0"
      ]
     },
     "execution_count": 138,
     "metadata": {},
     "output_type": "execute_result"
    }
   ],
   "source": [
    "dfNegative[\"num_contrast\"].median()"
   ]
  },
  {
   "cell_type": "markdown",
   "metadata": {},
   "source": [
    "#### Porcentajes"
   ]
  },
  {
   "cell_type": "code",
   "execution_count": 139,
   "metadata": {},
   "outputs": [],
   "source": [
    "dfPositive.loc[dfPositive['num_contrast'] > 10, 'num_contrast'] = \"> 10\"\n",
    "dfNegative.loc[dfNegative['num_contrast'] > 10, 'num_contrast'] = \"> 10\""
   ]
  },
  {
   "cell_type": "markdown",
   "metadata": {},
   "source": [
    "##### Corpus Positivo"
   ]
  },
  {
   "cell_type": "code",
   "execution_count": 140,
   "metadata": {},
   "outputs": [
    {
     "data": {
      "text/html": [
       "<div>\n",
       "<style scoped>\n",
       "    .dataframe tbody tr th:only-of-type {\n",
       "        vertical-align: middle;\n",
       "    }\n",
       "\n",
       "    .dataframe tbody tr th {\n",
       "        vertical-align: top;\n",
       "    }\n",
       "\n",
       "    .dataframe thead th {\n",
       "        text-align: right;\n",
       "    }\n",
       "</style>\n",
       "<table border=\"1\" class=\"dataframe\">\n",
       "  <thead>\n",
       "    <tr style=\"text-align: right;\">\n",
       "      <th></th>\n",
       "      <th>counts</th>\n",
       "      <th>per</th>\n",
       "      <th>per100</th>\n",
       "    </tr>\n",
       "  </thead>\n",
       "  <tbody>\n",
       "    <tr>\n",
       "      <th>0</th>\n",
       "      <td>13048</td>\n",
       "      <td>0.715783</td>\n",
       "      <td>71.6%</td>\n",
       "    </tr>\n",
       "    <tr>\n",
       "      <th>1</th>\n",
       "      <td>2181</td>\n",
       "      <td>0.119645</td>\n",
       "      <td>12.0%</td>\n",
       "    </tr>\n",
       "    <tr>\n",
       "      <th>2</th>\n",
       "      <td>2020</td>\n",
       "      <td>0.110812</td>\n",
       "      <td>11.1%</td>\n",
       "    </tr>\n",
       "    <tr>\n",
       "      <th>3</th>\n",
       "      <td>487</td>\n",
       "      <td>0.026716</td>\n",
       "      <td>2.7%</td>\n",
       "    </tr>\n",
       "    <tr>\n",
       "      <th>4</th>\n",
       "      <td>244</td>\n",
       "      <td>0.013385</td>\n",
       "      <td>1.3%</td>\n",
       "    </tr>\n",
       "    <tr>\n",
       "      <th>5</th>\n",
       "      <td>107</td>\n",
       "      <td>0.005870</td>\n",
       "      <td>0.6%</td>\n",
       "    </tr>\n",
       "    <tr>\n",
       "      <th>6</th>\n",
       "      <td>66</td>\n",
       "      <td>0.003621</td>\n",
       "      <td>0.4%</td>\n",
       "    </tr>\n",
       "    <tr>\n",
       "      <th>7</th>\n",
       "      <td>33</td>\n",
       "      <td>0.001810</td>\n",
       "      <td>0.2%</td>\n",
       "    </tr>\n",
       "    <tr>\n",
       "      <th>10</th>\n",
       "      <td>19</td>\n",
       "      <td>0.001042</td>\n",
       "      <td>0.1%</td>\n",
       "    </tr>\n",
       "    <tr>\n",
       "      <th>8</th>\n",
       "      <td>14</td>\n",
       "      <td>0.000768</td>\n",
       "      <td>0.1%</td>\n",
       "    </tr>\n",
       "  </tbody>\n",
       "</table>\n",
       "</div>"
      ],
      "text/plain": [
       "    counts       per per100\n",
       "0    13048  0.715783  71.6%\n",
       "1     2181  0.119645  12.0%\n",
       "2     2020  0.110812  11.1%\n",
       "3      487  0.026716   2.7%\n",
       "4      244  0.013385   1.3%\n",
       "5      107  0.005870   0.6%\n",
       "6       66  0.003621   0.4%\n",
       "7       33  0.001810   0.2%\n",
       "10      19  0.001042   0.1%\n",
       "8       14  0.000768   0.1%"
      ]
     },
     "execution_count": 140,
     "metadata": {},
     "output_type": "execute_result"
    }
   ],
   "source": [
    "s = dfPositive.num_contrast\n",
    "counts = s.value_counts()\n",
    "percent = s.value_counts(normalize=True)\n",
    "percent100 = s.value_counts(normalize=True).mul(100).round(1).astype(str) + '%'\n",
    "pd.DataFrame({'counts': counts, 'per': percent, 'per100': percent100}).head(10)"
   ]
  },
  {
   "cell_type": "markdown",
   "metadata": {},
   "source": [
    "##### Corpus Negativo"
   ]
  },
  {
   "cell_type": "code",
   "execution_count": 141,
   "metadata": {},
   "outputs": [
    {
     "data": {
      "text/html": [
       "<div>\n",
       "<style scoped>\n",
       "    .dataframe tbody tr th:only-of-type {\n",
       "        vertical-align: middle;\n",
       "    }\n",
       "\n",
       "    .dataframe tbody tr th {\n",
       "        vertical-align: top;\n",
       "    }\n",
       "\n",
       "    .dataframe thead th {\n",
       "        text-align: right;\n",
       "    }\n",
       "</style>\n",
       "<table border=\"1\" class=\"dataframe\">\n",
       "  <thead>\n",
       "    <tr style=\"text-align: right;\">\n",
       "      <th></th>\n",
       "      <th>counts</th>\n",
       "      <th>per</th>\n",
       "      <th>per100</th>\n",
       "    </tr>\n",
       "  </thead>\n",
       "  <tbody>\n",
       "    <tr>\n",
       "      <th>0</th>\n",
       "      <td>21682</td>\n",
       "      <td>0.809120</td>\n",
       "      <td>80.9%</td>\n",
       "    </tr>\n",
       "    <tr>\n",
       "      <th>1</th>\n",
       "      <td>2236</td>\n",
       "      <td>0.083442</td>\n",
       "      <td>8.3%</td>\n",
       "    </tr>\n",
       "    <tr>\n",
       "      <th>2</th>\n",
       "      <td>2143</td>\n",
       "      <td>0.079972</td>\n",
       "      <td>8.0%</td>\n",
       "    </tr>\n",
       "    <tr>\n",
       "      <th>3</th>\n",
       "      <td>413</td>\n",
       "      <td>0.015412</td>\n",
       "      <td>1.5%</td>\n",
       "    </tr>\n",
       "    <tr>\n",
       "      <th>4</th>\n",
       "      <td>187</td>\n",
       "      <td>0.006978</td>\n",
       "      <td>0.7%</td>\n",
       "    </tr>\n",
       "    <tr>\n",
       "      <th>5</th>\n",
       "      <td>61</td>\n",
       "      <td>0.002276</td>\n",
       "      <td>0.2%</td>\n",
       "    </tr>\n",
       "    <tr>\n",
       "      <th>6</th>\n",
       "      <td>42</td>\n",
       "      <td>0.001567</td>\n",
       "      <td>0.2%</td>\n",
       "    </tr>\n",
       "    <tr>\n",
       "      <th>7</th>\n",
       "      <td>14</td>\n",
       "      <td>0.000522</td>\n",
       "      <td>0.1%</td>\n",
       "    </tr>\n",
       "    <tr>\n",
       "      <th>9</th>\n",
       "      <td>7</td>\n",
       "      <td>0.000261</td>\n",
       "      <td>0.0%</td>\n",
       "    </tr>\n",
       "    <tr>\n",
       "      <th>8</th>\n",
       "      <td>6</td>\n",
       "      <td>0.000224</td>\n",
       "      <td>0.0%</td>\n",
       "    </tr>\n",
       "  </tbody>\n",
       "</table>\n",
       "</div>"
      ],
      "text/plain": [
       "   counts       per per100\n",
       "0   21682  0.809120  80.9%\n",
       "1    2236  0.083442   8.3%\n",
       "2    2143  0.079972   8.0%\n",
       "3     413  0.015412   1.5%\n",
       "4     187  0.006978   0.7%\n",
       "5      61  0.002276   0.2%\n",
       "6      42  0.001567   0.2%\n",
       "7      14  0.000522   0.1%\n",
       "9       7  0.000261   0.0%\n",
       "8       6  0.000224   0.0%"
      ]
     },
     "execution_count": 141,
     "metadata": {},
     "output_type": "execute_result"
    }
   ],
   "source": [
    "s = dfNegative.num_contrast\n",
    "counts = s.value_counts()\n",
    "percent = s.value_counts(normalize=True)\n",
    "percent100 = s.value_counts(normalize=True).mul(100).round(1).astype(str) + '%'\n",
    "pd.DataFrame({'counts': counts, 'per': percent, 'per100': percent100}).head(10)"
   ]
  },
  {
   "cell_type": "markdown",
   "metadata": {},
   "source": [
    "### Conteo de las frases de núcleo"
   ]
  },
  {
   "cell_type": "code",
   "execution_count": 142,
   "metadata": {},
   "outputs": [
    {
     "data": {
      "text/plain": [
       "<BarContainer object of 10 artists>"
      ]
     },
     "execution_count": 142,
     "metadata": {},
     "output_type": "execute_result"
    },
    {
     "data": {
      "image/png": "[encoded data removed]",
      "text/plain": [
       "<Figure size 432x288 with 1 Axes>"
      ]
     },
     "metadata": {
      "needs_background": "light"
     },
     "output_type": "display_data"
    }
   ],
   "source": [
    "fig, ax = plt.subplots()\n",
    "\n",
    "a_heights, a_bins = np.histogram(dfNegative['num_nucleus_leaf'], bins=10, range=(1,10))\n",
    "b_heights, b_bins = np.histogram(dfPositive['num_nucleus_leaf'], bins=10, range=(1,10))\n",
    "\n",
    "width = (a_bins[1] - a_bins[0])/3\n",
    "\n",
    "ax.bar(a_bins[:-1], a_heights, width=width, facecolor='red')\n",
    "ax.bar(b_bins[:-1]+width, b_heights, width=width, facecolor='seagreen')"
   ]
  },
  {
   "cell_type": "markdown",
   "metadata": {},
   "source": [
    "#### Medias"
   ]
  },
  {
   "cell_type": "code",
   "execution_count": 143,
   "metadata": {},
   "outputs": [
    {
     "data": {
      "text/plain": [
       "1.4962971090021395"
      ]
     },
     "execution_count": 143,
     "metadata": {},
     "output_type": "execute_result"
    }
   ],
   "source": [
    "dfPositive[\"num_nucleus_leaf\"].mean()"
   ]
  },
  {
   "cell_type": "code",
   "execution_count": 144,
   "metadata": {},
   "outputs": [
    {
     "data": {
      "text/plain": [
       "0.9119677575848043"
      ]
     },
     "execution_count": 144,
     "metadata": {},
     "output_type": "execute_result"
    }
   ],
   "source": [
    "dfNegative[\"num_nucleus_leaf\"].mean()"
   ]
  },
  {
   "cell_type": "markdown",
   "metadata": {},
   "source": [
    "#### Medianas"
   ]
  },
  {
   "cell_type": "code",
   "execution_count": 145,
   "metadata": {},
   "outputs": [
    {
     "data": {
      "text/plain": [
       "0.0"
      ]
     },
     "execution_count": 145,
     "metadata": {},
     "output_type": "execute_result"
    }
   ],
   "source": [
    "dfPositive[\"num_nucleus_leaf\"].median()"
   ]
  },
  {
   "cell_type": "code",
   "execution_count": 146,
   "metadata": {},
   "outputs": [
    {
     "data": {
      "text/plain": [
       "0.0"
      ]
     },
     "execution_count": 146,
     "metadata": {},
     "output_type": "execute_result"
    }
   ],
   "source": [
    "dfNegative[\"num_nucleus_leaf\"].median()"
   ]
  },
  {
   "cell_type": "markdown",
   "metadata": {},
   "source": [
    "#### Porcentajes"
   ]
  },
  {
   "cell_type": "code",
   "execution_count": 147,
   "metadata": {},
   "outputs": [],
   "source": [
    "dfPositive.loc[dfPositive['num_nucleus_leaf'] > 10, 'num_nucleus_leaf'] = \"> 10\"\n",
    "dfNegative.loc[dfNegative['num_nucleus_leaf'] > 10, 'num_nucleus_leaf'] = \"> 10\""
   ]
  },
  {
   "cell_type": "markdown",
   "metadata": {},
   "source": [
    "##### Corpus Positivo"
   ]
  },
  {
   "cell_type": "code",
   "execution_count": 148,
   "metadata": {},
   "outputs": [
    {
     "data": {
      "text/html": [
       "<div>\n",
       "<style scoped>\n",
       "    .dataframe tbody tr th:only-of-type {\n",
       "        vertical-align: middle;\n",
       "    }\n",
       "\n",
       "    .dataframe tbody tr th {\n",
       "        vertical-align: top;\n",
       "    }\n",
       "\n",
       "    .dataframe thead th {\n",
       "        text-align: right;\n",
       "    }\n",
       "</style>\n",
       "<table border=\"1\" class=\"dataframe\">\n",
       "  <thead>\n",
       "    <tr style=\"text-align: right;\">\n",
       "      <th></th>\n",
       "      <th>counts</th>\n",
       "      <th>per</th>\n",
       "      <th>per100</th>\n",
       "    </tr>\n",
       "  </thead>\n",
       "  <tbody>\n",
       "    <tr>\n",
       "      <th>0</th>\n",
       "      <td>11993</td>\n",
       "      <td>0.657908</td>\n",
       "      <td>65.8%</td>\n",
       "    </tr>\n",
       "    <tr>\n",
       "      <th>1</th>\n",
       "      <td>1485</td>\n",
       "      <td>0.081464</td>\n",
       "      <td>8.1%</td>\n",
       "    </tr>\n",
       "    <tr>\n",
       "      <th>2</th>\n",
       "      <td>1463</td>\n",
       "      <td>0.080257</td>\n",
       "      <td>8.0%</td>\n",
       "    </tr>\n",
       "    <tr>\n",
       "      <th>3</th>\n",
       "      <td>992</td>\n",
       "      <td>0.054419</td>\n",
       "      <td>5.4%</td>\n",
       "    </tr>\n",
       "    <tr>\n",
       "      <th>4</th>\n",
       "      <td>546</td>\n",
       "      <td>0.029952</td>\n",
       "      <td>3.0%</td>\n",
       "    </tr>\n",
       "    <tr>\n",
       "      <th>&gt; 10</th>\n",
       "      <td>515</td>\n",
       "      <td>0.028252</td>\n",
       "      <td>2.8%</td>\n",
       "    </tr>\n",
       "    <tr>\n",
       "      <th>5</th>\n",
       "      <td>385</td>\n",
       "      <td>0.021120</td>\n",
       "      <td>2.1%</td>\n",
       "    </tr>\n",
       "    <tr>\n",
       "      <th>6</th>\n",
       "      <td>299</td>\n",
       "      <td>0.016402</td>\n",
       "      <td>1.6%</td>\n",
       "    </tr>\n",
       "    <tr>\n",
       "      <th>7</th>\n",
       "      <td>182</td>\n",
       "      <td>0.009984</td>\n",
       "      <td>1.0%</td>\n",
       "    </tr>\n",
       "    <tr>\n",
       "      <th>8</th>\n",
       "      <td>141</td>\n",
       "      <td>0.007735</td>\n",
       "      <td>0.8%</td>\n",
       "    </tr>\n",
       "  </tbody>\n",
       "</table>\n",
       "</div>"
      ],
      "text/plain": [
       "      counts       per per100\n",
       "0      11993  0.657908  65.8%\n",
       "1       1485  0.081464   8.1%\n",
       "2       1463  0.080257   8.0%\n",
       "3        992  0.054419   5.4%\n",
       "4        546  0.029952   3.0%\n",
       "> 10     515  0.028252   2.8%\n",
       "5        385  0.021120   2.1%\n",
       "6        299  0.016402   1.6%\n",
       "7        182  0.009984   1.0%\n",
       "8        141  0.007735   0.8%"
      ]
     },
     "execution_count": 148,
     "metadata": {},
     "output_type": "execute_result"
    }
   ],
   "source": [
    "s = dfPositive.num_nucleus_leaf\n",
    "counts = s.value_counts()\n",
    "percent = s.value_counts(normalize=True)\n",
    "percent100 = s.value_counts(normalize=True).mul(100).round(1).astype(str) + '%'\n",
    "pd.DataFrame({'counts': counts, 'per': percent, 'per100': percent100}).head(10)"
   ]
  },
  {
   "cell_type": "markdown",
   "metadata": {},
   "source": [
    "##### Corpus Negativo"
   ]
  },
  {
   "cell_type": "code",
   "execution_count": 149,
   "metadata": {},
   "outputs": [
    {
     "data": {
      "text/html": [
       "<div>\n",
       "<style scoped>\n",
       "    .dataframe tbody tr th:only-of-type {\n",
       "        vertical-align: middle;\n",
       "    }\n",
       "\n",
       "    .dataframe tbody tr th {\n",
       "        vertical-align: top;\n",
       "    }\n",
       "\n",
       "    .dataframe thead th {\n",
       "        text-align: right;\n",
       "    }\n",
       "</style>\n",
       "<table border=\"1\" class=\"dataframe\">\n",
       "  <thead>\n",
       "    <tr style=\"text-align: right;\">\n",
       "      <th></th>\n",
       "      <th>counts</th>\n",
       "      <th>per</th>\n",
       "      <th>per100</th>\n",
       "    </tr>\n",
       "  </thead>\n",
       "  <tbody>\n",
       "    <tr>\n",
       "      <th>0</th>\n",
       "      <td>20050</td>\n",
       "      <td>0.748218</td>\n",
       "      <td>74.8%</td>\n",
       "    </tr>\n",
       "    <tr>\n",
       "      <th>1</th>\n",
       "      <td>2022</td>\n",
       "      <td>0.075456</td>\n",
       "      <td>7.5%</td>\n",
       "    </tr>\n",
       "    <tr>\n",
       "      <th>2</th>\n",
       "      <td>1579</td>\n",
       "      <td>0.058925</td>\n",
       "      <td>5.9%</td>\n",
       "    </tr>\n",
       "    <tr>\n",
       "      <th>3</th>\n",
       "      <td>962</td>\n",
       "      <td>0.035900</td>\n",
       "      <td>3.6%</td>\n",
       "    </tr>\n",
       "    <tr>\n",
       "      <th>4</th>\n",
       "      <td>662</td>\n",
       "      <td>0.024704</td>\n",
       "      <td>2.5%</td>\n",
       "    </tr>\n",
       "    <tr>\n",
       "      <th>&gt; 10</th>\n",
       "      <td>371</td>\n",
       "      <td>0.013845</td>\n",
       "      <td>1.4%</td>\n",
       "    </tr>\n",
       "    <tr>\n",
       "      <th>5</th>\n",
       "      <td>350</td>\n",
       "      <td>0.013061</td>\n",
       "      <td>1.3%</td>\n",
       "    </tr>\n",
       "    <tr>\n",
       "      <th>6</th>\n",
       "      <td>293</td>\n",
       "      <td>0.010934</td>\n",
       "      <td>1.1%</td>\n",
       "    </tr>\n",
       "    <tr>\n",
       "      <th>7</th>\n",
       "      <td>191</td>\n",
       "      <td>0.007128</td>\n",
       "      <td>0.7%</td>\n",
       "    </tr>\n",
       "    <tr>\n",
       "      <th>8</th>\n",
       "      <td>149</td>\n",
       "      <td>0.005560</td>\n",
       "      <td>0.6%</td>\n",
       "    </tr>\n",
       "  </tbody>\n",
       "</table>\n",
       "</div>"
      ],
      "text/plain": [
       "      counts       per per100\n",
       "0      20050  0.748218  74.8%\n",
       "1       2022  0.075456   7.5%\n",
       "2       1579  0.058925   5.9%\n",
       "3        962  0.035900   3.6%\n",
       "4        662  0.024704   2.5%\n",
       "> 10     371  0.013845   1.4%\n",
       "5        350  0.013061   1.3%\n",
       "6        293  0.010934   1.1%\n",
       "7        191  0.007128   0.7%\n",
       "8        149  0.005560   0.6%"
      ]
     },
     "execution_count": 149,
     "metadata": {},
     "output_type": "execute_result"
    }
   ],
   "source": [
    "s = dfNegative.num_nucleus_leaf\n",
    "counts = s.value_counts()\n",
    "percent = s.value_counts(normalize=True)\n",
    "percent100 = s.value_counts(normalize=True).mul(100).round(1).astype(str) + '%'\n",
    "pd.DataFrame({'counts': counts, 'per': percent, 'per100': percent100}).head(10)"
   ]
  },
  {
   "cell_type": "markdown",
   "metadata": {},
   "source": [
    "### Conteo de las frases de satelite"
   ]
  },
  {
   "cell_type": "code",
   "execution_count": 150,
   "metadata": {},
   "outputs": [
    {
     "data": {
      "text/plain": [
       "<BarContainer object of 10 artists>"
      ]
     },
     "execution_count": 150,
     "metadata": {},
     "output_type": "execute_result"
    },
    {
     "data": {
      "image/png": "[encoded data removed]",
      "text/plain": [
       "<Figure size 432x288 with 1 Axes>"
      ]
     },
     "metadata": {
      "needs_background": "light"
     },
     "output_type": "display_data"
    }
   ],
   "source": [
    "fig, ax = plt.subplots()\n",
    "\n",
    "a_heights, a_bins = np.histogram(dfNegative['num_satellite_leaf'], bins=10, range=(1,10))\n",
    "b_heights, b_bins = np.histogram(dfPositive['num_satellite_leaf'], bins=10, range=(1,10))\n",
    "\n",
    "width = (a_bins[1] - a_bins[0])/3\n",
    "\n",
    "ax.bar(a_bins[:-1], a_heights, width=width, facecolor='red')\n",
    "ax.bar(b_bins[:-1]+width, b_heights, width=width, facecolor='seagreen')"
   ]
  },
  {
   "cell_type": "markdown",
   "metadata": {},
   "source": [
    "#### Medias"
   ]
  },
  {
   "cell_type": "code",
   "execution_count": 151,
   "metadata": {},
   "outputs": [
    {
     "data": {
      "text/plain": [
       "0.9416863239892479"
      ]
     },
     "execution_count": 151,
     "metadata": {},
     "output_type": "execute_result"
    }
   ],
   "source": [
    "dfPositive[\"num_satellite_leaf\"].mean()"
   ]
  },
  {
   "cell_type": "code",
   "execution_count": 152,
   "metadata": {},
   "outputs": [
    {
     "data": {
      "text/plain": [
       "0.6130910176512296"
      ]
     },
     "execution_count": 152,
     "metadata": {},
     "output_type": "execute_result"
    }
   ],
   "source": [
    "dfNegative[\"num_satellite_leaf\"].mean()"
   ]
  },
  {
   "cell_type": "markdown",
   "metadata": {},
   "source": [
    "#### Medianas"
   ]
  },
  {
   "cell_type": "code",
   "execution_count": 153,
   "metadata": {},
   "outputs": [
    {
     "data": {
      "text/plain": [
       "0.0"
      ]
     },
     "execution_count": 153,
     "metadata": {},
     "output_type": "execute_result"
    }
   ],
   "source": [
    "dfPositive[\"num_satellite_leaf\"].median()"
   ]
  },
  {
   "cell_type": "code",
   "execution_count": 154,
   "metadata": {},
   "outputs": [
    {
     "data": {
      "text/plain": [
       "0.0"
      ]
     },
     "execution_count": 154,
     "metadata": {},
     "output_type": "execute_result"
    }
   ],
   "source": [
    "dfNegative[\"num_satellite_leaf\"].median()"
   ]
  },
  {
   "cell_type": "markdown",
   "metadata": {},
   "source": [
    "#### Porcentajes"
   ]
  },
  {
   "cell_type": "code",
   "execution_count": 155,
   "metadata": {},
   "outputs": [],
   "source": [
    "dfPositive.loc[dfPositive['num_satellite_leaf'] > 10, 'num_satellite_leaf'] = \"> 10\"\n",
    "dfNegative.loc[dfNegative['num_satellite_leaf'] > 10, 'num_satellite_leaf'] = \"> 10\""
   ]
  },
  {
   "cell_type": "markdown",
   "metadata": {},
   "source": [
    "##### Corpus Positivo"
   ]
  },
  {
   "cell_type": "code",
   "execution_count": 156,
   "metadata": {},
   "outputs": [
    {
     "data": {
      "text/html": [
       "<div>\n",
       "<style scoped>\n",
       "    .dataframe tbody tr th:only-of-type {\n",
       "        vertical-align: middle;\n",
       "    }\n",
       "\n",
       "    .dataframe tbody tr th {\n",
       "        vertical-align: top;\n",
       "    }\n",
       "\n",
       "    .dataframe thead th {\n",
       "        text-align: right;\n",
       "    }\n",
       "</style>\n",
       "<table border=\"1\" class=\"dataframe\">\n",
       "  <thead>\n",
       "    <tr style=\"text-align: right;\">\n",
       "      <th></th>\n",
       "      <th>counts</th>\n",
       "      <th>per</th>\n",
       "      <th>per100</th>\n",
       "    </tr>\n",
       "  </thead>\n",
       "  <tbody>\n",
       "    <tr>\n",
       "      <th>0</th>\n",
       "      <td>12417</td>\n",
       "      <td>0.681167</td>\n",
       "      <td>68.1%</td>\n",
       "    </tr>\n",
       "    <tr>\n",
       "      <th>1</th>\n",
       "      <td>2223</td>\n",
       "      <td>0.121949</td>\n",
       "      <td>12.2%</td>\n",
       "    </tr>\n",
       "    <tr>\n",
       "      <th>2</th>\n",
       "      <td>1473</td>\n",
       "      <td>0.080805</td>\n",
       "      <td>8.1%</td>\n",
       "    </tr>\n",
       "    <tr>\n",
       "      <th>3</th>\n",
       "      <td>746</td>\n",
       "      <td>0.040924</td>\n",
       "      <td>4.1%</td>\n",
       "    </tr>\n",
       "    <tr>\n",
       "      <th>4</th>\n",
       "      <td>403</td>\n",
       "      <td>0.022108</td>\n",
       "      <td>2.2%</td>\n",
       "    </tr>\n",
       "    <tr>\n",
       "      <th>5</th>\n",
       "      <td>246</td>\n",
       "      <td>0.013495</td>\n",
       "      <td>1.3%</td>\n",
       "    </tr>\n",
       "    <tr>\n",
       "      <th>&gt; 10</th>\n",
       "      <td>204</td>\n",
       "      <td>0.011191</td>\n",
       "      <td>1.1%</td>\n",
       "    </tr>\n",
       "    <tr>\n",
       "      <th>6</th>\n",
       "      <td>175</td>\n",
       "      <td>0.009600</td>\n",
       "      <td>1.0%</td>\n",
       "    </tr>\n",
       "    <tr>\n",
       "      <th>7</th>\n",
       "      <td>121</td>\n",
       "      <td>0.006638</td>\n",
       "      <td>0.7%</td>\n",
       "    </tr>\n",
       "    <tr>\n",
       "      <th>8</th>\n",
       "      <td>99</td>\n",
       "      <td>0.005431</td>\n",
       "      <td>0.5%</td>\n",
       "    </tr>\n",
       "  </tbody>\n",
       "</table>\n",
       "</div>"
      ],
      "text/plain": [
       "      counts       per per100\n",
       "0      12417  0.681167  68.1%\n",
       "1       2223  0.121949  12.2%\n",
       "2       1473  0.080805   8.1%\n",
       "3        746  0.040924   4.1%\n",
       "4        403  0.022108   2.2%\n",
       "5        246  0.013495   1.3%\n",
       "> 10     204  0.011191   1.1%\n",
       "6        175  0.009600   1.0%\n",
       "7        121  0.006638   0.7%\n",
       "8         99  0.005431   0.5%"
      ]
     },
     "execution_count": 156,
     "metadata": {},
     "output_type": "execute_result"
    }
   ],
   "source": [
    "s = dfPositive.num_satellite_leaf\n",
    "counts = s.value_counts()\n",
    "percent = s.value_counts(normalize=True)\n",
    "percent100 = s.value_counts(normalize=True).mul(100).round(1).astype(str) + '%'\n",
    "pd.DataFrame({'counts': counts, 'per': percent, 'per100': percent100}).head(10)"
   ]
  },
  {
   "cell_type": "markdown",
   "metadata": {},
   "source": [
    "##### Corpus Negativo"
   ]
  },
  {
   "cell_type": "code",
   "execution_count": 157,
   "metadata": {},
   "outputs": [
    {
     "data": {
      "text/html": [
       "<div>\n",
       "<style scoped>\n",
       "    .dataframe tbody tr th:only-of-type {\n",
       "        vertical-align: middle;\n",
       "    }\n",
       "\n",
       "    .dataframe tbody tr th {\n",
       "        vertical-align: top;\n",
       "    }\n",
       "\n",
       "    .dataframe thead th {\n",
       "        text-align: right;\n",
       "    }\n",
       "</style>\n",
       "<table border=\"1\" class=\"dataframe\">\n",
       "  <thead>\n",
       "    <tr style=\"text-align: right;\">\n",
       "      <th></th>\n",
       "      <th>counts</th>\n",
       "      <th>per</th>\n",
       "      <th>per100</th>\n",
       "    </tr>\n",
       "  </thead>\n",
       "  <tbody>\n",
       "    <tr>\n",
       "      <th>0</th>\n",
       "      <td>20414</td>\n",
       "      <td>0.761802</td>\n",
       "      <td>76.2%</td>\n",
       "    </tr>\n",
       "    <tr>\n",
       "      <th>1</th>\n",
       "      <td>2791</td>\n",
       "      <td>0.104153</td>\n",
       "      <td>10.4%</td>\n",
       "    </tr>\n",
       "    <tr>\n",
       "      <th>2</th>\n",
       "      <td>1491</td>\n",
       "      <td>0.055641</td>\n",
       "      <td>5.6%</td>\n",
       "    </tr>\n",
       "    <tr>\n",
       "      <th>3</th>\n",
       "      <td>790</td>\n",
       "      <td>0.029481</td>\n",
       "      <td>2.9%</td>\n",
       "    </tr>\n",
       "    <tr>\n",
       "      <th>4</th>\n",
       "      <td>452</td>\n",
       "      <td>0.016868</td>\n",
       "      <td>1.7%</td>\n",
       "    </tr>\n",
       "    <tr>\n",
       "      <th>5</th>\n",
       "      <td>285</td>\n",
       "      <td>0.010636</td>\n",
       "      <td>1.1%</td>\n",
       "    </tr>\n",
       "    <tr>\n",
       "      <th>6</th>\n",
       "      <td>181</td>\n",
       "      <td>0.006754</td>\n",
       "      <td>0.7%</td>\n",
       "    </tr>\n",
       "    <tr>\n",
       "      <th>7</th>\n",
       "      <td>141</td>\n",
       "      <td>0.005262</td>\n",
       "      <td>0.5%</td>\n",
       "    </tr>\n",
       "    <tr>\n",
       "      <th>&gt; 10</th>\n",
       "      <td>104</td>\n",
       "      <td>0.003881</td>\n",
       "      <td>0.4%</td>\n",
       "    </tr>\n",
       "    <tr>\n",
       "      <th>8</th>\n",
       "      <td>59</td>\n",
       "      <td>0.002202</td>\n",
       "      <td>0.2%</td>\n",
       "    </tr>\n",
       "  </tbody>\n",
       "</table>\n",
       "</div>"
      ],
      "text/plain": [
       "      counts       per per100\n",
       "0      20414  0.761802  76.2%\n",
       "1       2791  0.104153  10.4%\n",
       "2       1491  0.055641   5.6%\n",
       "3        790  0.029481   2.9%\n",
       "4        452  0.016868   1.7%\n",
       "5        285  0.010636   1.1%\n",
       "6        181  0.006754   0.7%\n",
       "7        141  0.005262   0.5%\n",
       "> 10     104  0.003881   0.4%\n",
       "8         59  0.002202   0.2%"
      ]
     },
     "execution_count": 157,
     "metadata": {},
     "output_type": "execute_result"
    }
   ],
   "source": [
    "s = dfNegative.num_satellite_leaf\n",
    "counts = s.value_counts()\n",
    "percent = s.value_counts(normalize=True)\n",
    "percent100 = s.value_counts(normalize=True).mul(100).round(1).astype(str) + '%'\n",
    "pd.DataFrame({'counts': counts, 'per': percent, 'per100': percent100}).head(10)"
   ]
  },
  {
   "cell_type": "markdown",
   "metadata": {},
   "source": [
    "### Conteo de las frases 'padre' de núcleo"
   ]
  },
  {
   "cell_type": "code",
   "execution_count": 158,
   "metadata": {},
   "outputs": [
    {
     "data": {
      "text/plain": [
       "<BarContainer object of 10 artists>"
      ]
     },
     "execution_count": 158,
     "metadata": {},
     "output_type": "execute_result"
    },
    {
     "data": {
      "image/png": "[encoded data removed]",
      "text/plain": [
       "<Figure size 432x288 with 1 Axes>"
      ]
     },
     "metadata": {
      "needs_background": "light"
     },
     "output_type": "display_data"
    }
   ],
   "source": [
    "\n",
    "fig, ax = plt.subplots()\n",
    "\n",
    "a_heights, a_bins = np.histogram(dfNegative['num_nucleus_span'], bins=10, range=(1,10))\n",
    "b_heights, b_bins = np.histogram(dfPositive['num_nucleus_span'], bins=10, range=(1,10))\n",
    "\n",
    "width = (a_bins[1] - a_bins[0])/3\n",
    "\n",
    "ax.bar(a_bins[:-1], a_heights, width=width, facecolor='red')\n",
    "ax.bar(b_bins[:-1]+width, b_heights, width=width, facecolor='seagreen')"
   ]
  },
  {
   "cell_type": "markdown",
   "metadata": {},
   "source": [
    "#### Medias"
   ]
  },
  {
   "cell_type": "code",
   "execution_count": 159,
   "metadata": {},
   "outputs": [
    {
     "data": {
      "text/plain": [
       "4.022162488342751"
      ]
     },
     "execution_count": 159,
     "metadata": {},
     "output_type": "execute_result"
    }
   ],
   "source": [
    "dfPositive[\"num_nucleus_span\"].mean()"
   ]
  },
  {
   "cell_type": "code",
   "execution_count": 160,
   "metadata": {},
   "outputs": [
    {
     "data": {
      "text/plain": [
       "2.594469530171288"
      ]
     },
     "execution_count": 160,
     "metadata": {},
     "output_type": "execute_result"
    }
   ],
   "source": [
    "dfNegative[\"num_nucleus_span\"].mean()"
   ]
  },
  {
   "cell_type": "markdown",
   "metadata": {},
   "source": [
    "#### Medianas"
   ]
  },
  {
   "cell_type": "code",
   "execution_count": 161,
   "metadata": {},
   "outputs": [
    {
     "data": {
      "text/plain": [
       "2.0"
      ]
     },
     "execution_count": 161,
     "metadata": {},
     "output_type": "execute_result"
    }
   ],
   "source": [
    "dfPositive[\"num_nucleus_span\"].median()"
   ]
  },
  {
   "cell_type": "code",
   "execution_count": 162,
   "metadata": {},
   "outputs": [
    {
     "data": {
      "text/plain": [
       "1.0"
      ]
     },
     "execution_count": 162,
     "metadata": {},
     "output_type": "execute_result"
    }
   ],
   "source": [
    "dfNegative[\"num_nucleus_span\"].median()"
   ]
  },
  {
   "cell_type": "markdown",
   "metadata": {},
   "source": [
    "#### Porcentajes"
   ]
  },
  {
   "cell_type": "code",
   "execution_count": 163,
   "metadata": {},
   "outputs": [],
   "source": [
    "dfPositive.loc[dfPositive['num_nucleus_span'] > 10, 'num_nucleus_span'] = \"> 10\"\n",
    "dfNegative.loc[dfNegative['num_nucleus_span'] > 10, 'num_nucleus_span'] = \"> 10\""
   ]
  },
  {
   "cell_type": "markdown",
   "metadata": {},
   "source": [
    "##### Corpus Negativo"
   ]
  },
  {
   "cell_type": "code",
   "execution_count": 164,
   "metadata": {},
   "outputs": [
    {
     "data": {
      "text/html": [
       "<div>\n",
       "<style scoped>\n",
       "    .dataframe tbody tr th:only-of-type {\n",
       "        vertical-align: middle;\n",
       "    }\n",
       "\n",
       "    .dataframe tbody tr th {\n",
       "        vertical-align: top;\n",
       "    }\n",
       "\n",
       "    .dataframe thead th {\n",
       "        text-align: right;\n",
       "    }\n",
       "</style>\n",
       "<table border=\"1\" class=\"dataframe\">\n",
       "  <thead>\n",
       "    <tr style=\"text-align: right;\">\n",
       "      <th></th>\n",
       "      <th>counts</th>\n",
       "      <th>per</th>\n",
       "      <th>per100</th>\n",
       "    </tr>\n",
       "  </thead>\n",
       "  <tbody>\n",
       "    <tr>\n",
       "      <th>0</th>\n",
       "      <td>4328</td>\n",
       "      <td>0.237424</td>\n",
       "      <td>23.7%</td>\n",
       "    </tr>\n",
       "    <tr>\n",
       "      <th>1</th>\n",
       "      <td>4018</td>\n",
       "      <td>0.220418</td>\n",
       "      <td>22.0%</td>\n",
       "    </tr>\n",
       "    <tr>\n",
       "      <th>2</th>\n",
       "      <td>2479</td>\n",
       "      <td>0.135992</td>\n",
       "      <td>13.6%</td>\n",
       "    </tr>\n",
       "    <tr>\n",
       "      <th>&gt; 10</th>\n",
       "      <td>1805</td>\n",
       "      <td>0.099018</td>\n",
       "      <td>9.9%</td>\n",
       "    </tr>\n",
       "    <tr>\n",
       "      <th>3</th>\n",
       "      <td>1595</td>\n",
       "      <td>0.087498</td>\n",
       "      <td>8.7%</td>\n",
       "    </tr>\n",
       "    <tr>\n",
       "      <th>4</th>\n",
       "      <td>1075</td>\n",
       "      <td>0.058972</td>\n",
       "      <td>5.9%</td>\n",
       "    </tr>\n",
       "    <tr>\n",
       "      <th>5</th>\n",
       "      <td>817</td>\n",
       "      <td>0.044819</td>\n",
       "      <td>4.5%</td>\n",
       "    </tr>\n",
       "    <tr>\n",
       "      <th>6</th>\n",
       "      <td>634</td>\n",
       "      <td>0.034780</td>\n",
       "      <td>3.5%</td>\n",
       "    </tr>\n",
       "    <tr>\n",
       "      <th>7</th>\n",
       "      <td>510</td>\n",
       "      <td>0.027977</td>\n",
       "      <td>2.8%</td>\n",
       "    </tr>\n",
       "    <tr>\n",
       "      <th>8</th>\n",
       "      <td>389</td>\n",
       "      <td>0.021340</td>\n",
       "      <td>2.1%</td>\n",
       "    </tr>\n",
       "  </tbody>\n",
       "</table>\n",
       "</div>"
      ],
      "text/plain": [
       "      counts       per per100\n",
       "0       4328  0.237424  23.7%\n",
       "1       4018  0.220418  22.0%\n",
       "2       2479  0.135992  13.6%\n",
       "> 10    1805  0.099018   9.9%\n",
       "3       1595  0.087498   8.7%\n",
       "4       1075  0.058972   5.9%\n",
       "5        817  0.044819   4.5%\n",
       "6        634  0.034780   3.5%\n",
       "7        510  0.027977   2.8%\n",
       "8        389  0.021340   2.1%"
      ]
     },
     "execution_count": 164,
     "metadata": {},
     "output_type": "execute_result"
    }
   ],
   "source": [
    "s = dfPositive.num_nucleus_span\n",
    "counts = s.value_counts()\n",
    "percent = s.value_counts(normalize=True)\n",
    "percent100 = s.value_counts(normalize=True).mul(100).round(1).astype(str) + '%'\n",
    "pd.DataFrame({'counts': counts, 'per': percent, 'per100': percent100}).head(10)"
   ]
  },
  {
   "cell_type": "markdown",
   "metadata": {},
   "source": [
    "##### Corpus Positivo"
   ]
  },
  {
   "cell_type": "code",
   "execution_count": 165,
   "metadata": {},
   "outputs": [
    {
     "data": {
      "text/html": [
       "<div>\n",
       "<style scoped>\n",
       "    .dataframe tbody tr th:only-of-type {\n",
       "        vertical-align: middle;\n",
       "    }\n",
       "\n",
       "    .dataframe tbody tr th {\n",
       "        vertical-align: top;\n",
       "    }\n",
       "\n",
       "    .dataframe thead th {\n",
       "        text-align: right;\n",
       "    }\n",
       "</style>\n",
       "<table border=\"1\" class=\"dataframe\">\n",
       "  <thead>\n",
       "    <tr style=\"text-align: right;\">\n",
       "      <th></th>\n",
       "      <th>counts</th>\n",
       "      <th>per</th>\n",
       "      <th>per100</th>\n",
       "    </tr>\n",
       "  </thead>\n",
       "  <tbody>\n",
       "    <tr>\n",
       "      <th>0</th>\n",
       "      <td>9503</td>\n",
       "      <td>0.354629</td>\n",
       "      <td>35.5%</td>\n",
       "    </tr>\n",
       "    <tr>\n",
       "      <th>1</th>\n",
       "      <td>6035</td>\n",
       "      <td>0.225212</td>\n",
       "      <td>22.5%</td>\n",
       "    </tr>\n",
       "    <tr>\n",
       "      <th>2</th>\n",
       "      <td>3293</td>\n",
       "      <td>0.122887</td>\n",
       "      <td>12.3%</td>\n",
       "    </tr>\n",
       "    <tr>\n",
       "      <th>3</th>\n",
       "      <td>2135</td>\n",
       "      <td>0.079673</td>\n",
       "      <td>8.0%</td>\n",
       "    </tr>\n",
       "    <tr>\n",
       "      <th>4</th>\n",
       "      <td>1388</td>\n",
       "      <td>0.051797</td>\n",
       "      <td>5.2%</td>\n",
       "    </tr>\n",
       "    <tr>\n",
       "      <th>&gt; 10</th>\n",
       "      <td>1360</td>\n",
       "      <td>0.050752</td>\n",
       "      <td>5.1%</td>\n",
       "    </tr>\n",
       "    <tr>\n",
       "      <th>5</th>\n",
       "      <td>958</td>\n",
       "      <td>0.035750</td>\n",
       "      <td>3.6%</td>\n",
       "    </tr>\n",
       "    <tr>\n",
       "      <th>6</th>\n",
       "      <td>688</td>\n",
       "      <td>0.025675</td>\n",
       "      <td>2.6%</td>\n",
       "    </tr>\n",
       "    <tr>\n",
       "      <th>7</th>\n",
       "      <td>524</td>\n",
       "      <td>0.019554</td>\n",
       "      <td>2.0%</td>\n",
       "    </tr>\n",
       "    <tr>\n",
       "      <th>8</th>\n",
       "      <td>365</td>\n",
       "      <td>0.013621</td>\n",
       "      <td>1.4%</td>\n",
       "    </tr>\n",
       "  </tbody>\n",
       "</table>\n",
       "</div>"
      ],
      "text/plain": [
       "      counts       per per100\n",
       "0       9503  0.354629  35.5%\n",
       "1       6035  0.225212  22.5%\n",
       "2       3293  0.122887  12.3%\n",
       "3       2135  0.079673   8.0%\n",
       "4       1388  0.051797   5.2%\n",
       "> 10    1360  0.050752   5.1%\n",
       "5        958  0.035750   3.6%\n",
       "6        688  0.025675   2.6%\n",
       "7        524  0.019554   2.0%\n",
       "8        365  0.013621   1.4%"
      ]
     },
     "execution_count": 165,
     "metadata": {},
     "output_type": "execute_result"
    }
   ],
   "source": [
    "s = dfNegative.num_nucleus_span\n",
    "counts = s.value_counts()\n",
    "percent = s.value_counts(normalize=True)\n",
    "percent100 = s.value_counts(normalize=True).mul(100).round(1).astype(str) + '%'\n",
    "pd.DataFrame({'counts': counts, 'per': percent, 'per100': percent100}).head(10)"
   ]
  },
  {
   "cell_type": "markdown",
   "metadata": {},
   "source": [
    "### Conteo de las frases 'padre' de satellite"
   ]
  },
  {
   "cell_type": "code",
   "execution_count": 166,
   "metadata": {},
   "outputs": [
    {
     "data": {
      "text/plain": [
       "<BarContainer object of 10 artists>"
      ]
     },
     "execution_count": 166,
     "metadata": {},
     "output_type": "execute_result"
    },
    {
     "data": {
      "image/png": "[encoded data removed]",
      "text/plain": [
       "<Figure size 432x288 with 1 Axes>"
      ]
     },
     "metadata": {
      "needs_background": "light"
     },
     "output_type": "display_data"
    }
   ],
   "source": [
    "fig, ax = plt.subplots()\n",
    "\n",
    "a_heights, a_bins = np.histogram(dfNegative['num_satellite_span'], bins=10, range=(1,10))\n",
    "b_heights, b_bins = np.histogram(dfPositive['num_satellite_span'], bins=10, range=(1,10))\n",
    "\n",
    "width = (a_bins[1] - a_bins[0])/3\n",
    "\n",
    "ax.bar(a_bins[:-1], a_heights, width=width, facecolor='red')\n",
    "ax.bar(b_bins[:-1]+width, b_heights, width=width, facecolor='seagreen')"
   ]
  },
  {
   "cell_type": "markdown",
   "metadata": {},
   "source": [
    "#### Medias"
   ]
  },
  {
   "cell_type": "code",
   "execution_count": 167,
   "metadata": {},
   "outputs": [
    {
     "data": {
      "text/plain": [
       "2.54599813484009"
      ]
     },
     "execution_count": 167,
     "metadata": {},
     "output_type": "execute_result"
    }
   ],
   "source": [
    "dfPositive[\"num_satellite_span\"].mean()"
   ]
  },
  {
   "cell_type": "code",
   "execution_count": 168,
   "metadata": {},
   "outputs": [
    {
     "data": {
      "text/plain": [
       "1.6537672127476957"
      ]
     },
     "execution_count": 168,
     "metadata": {},
     "output_type": "execute_result"
    }
   ],
   "source": [
    "dfNegative[\"num_satellite_span\"].mean()"
   ]
  },
  {
   "cell_type": "markdown",
   "metadata": {},
   "source": [
    "#### Medianas"
   ]
  },
  {
   "cell_type": "code",
   "execution_count": 169,
   "metadata": {},
   "outputs": [
    {
     "data": {
      "text/plain": [
       "1.0"
      ]
     },
     "execution_count": 169,
     "metadata": {},
     "output_type": "execute_result"
    }
   ],
   "source": [
    "dfPositive[\"num_satellite_span\"].median()"
   ]
  },
  {
   "cell_type": "code",
   "execution_count": 170,
   "metadata": {},
   "outputs": [
    {
     "data": {
      "text/plain": [
       "1.0"
      ]
     },
     "execution_count": 170,
     "metadata": {},
     "output_type": "execute_result"
    }
   ],
   "source": [
    "dfNegative[\"num_satellite_span\"].median()"
   ]
  },
  {
   "cell_type": "markdown",
   "metadata": {},
   "source": [
    "#### Porcentajes"
   ]
  },
  {
   "cell_type": "code",
   "execution_count": 171,
   "metadata": {},
   "outputs": [],
   "source": [
    "dfPositive.loc[dfPositive['num_satellite_span'] > 10, 'num_satellite_span'] = \"> 10\"\n",
    "dfNegative.loc[dfNegative['num_satellite_span'] > 10, 'num_satellite_span'] = \"> 10\""
   ]
  },
  {
   "cell_type": "markdown",
   "metadata": {},
   "source": [
    "##### Corpus Negativo"
   ]
  },
  {
   "cell_type": "code",
   "execution_count": 172,
   "metadata": {},
   "outputs": [
    {
     "data": {
      "text/html": [
       "<div>\n",
       "<style scoped>\n",
       "    .dataframe tbody tr th:only-of-type {\n",
       "        vertical-align: middle;\n",
       "    }\n",
       "\n",
       "    .dataframe tbody tr th {\n",
       "        vertical-align: top;\n",
       "    }\n",
       "\n",
       "    .dataframe thead th {\n",
       "        text-align: right;\n",
       "    }\n",
       "</style>\n",
       "<table border=\"1\" class=\"dataframe\">\n",
       "  <thead>\n",
       "    <tr style=\"text-align: right;\">\n",
       "      <th></th>\n",
       "      <th>counts</th>\n",
       "      <th>per</th>\n",
       "      <th>per100</th>\n",
       "    </tr>\n",
       "  </thead>\n",
       "  <tbody>\n",
       "    <tr>\n",
       "      <th>0</th>\n",
       "      <td>5977</td>\n",
       "      <td>0.327884</td>\n",
       "      <td>32.8%</td>\n",
       "    </tr>\n",
       "    <tr>\n",
       "      <th>1</th>\n",
       "      <td>4307</td>\n",
       "      <td>0.236272</td>\n",
       "      <td>23.6%</td>\n",
       "    </tr>\n",
       "    <tr>\n",
       "      <th>2</th>\n",
       "      <td>2423</td>\n",
       "      <td>0.132920</td>\n",
       "      <td>13.3%</td>\n",
       "    </tr>\n",
       "    <tr>\n",
       "      <th>3</th>\n",
       "      <td>1522</td>\n",
       "      <td>0.083493</td>\n",
       "      <td>8.3%</td>\n",
       "    </tr>\n",
       "    <tr>\n",
       "      <th>4</th>\n",
       "      <td>933</td>\n",
       "      <td>0.051182</td>\n",
       "      <td>5.1%</td>\n",
       "    </tr>\n",
       "    <tr>\n",
       "      <th>&gt; 10</th>\n",
       "      <td>919</td>\n",
       "      <td>0.050414</td>\n",
       "      <td>5.0%</td>\n",
       "    </tr>\n",
       "    <tr>\n",
       "      <th>5</th>\n",
       "      <td>664</td>\n",
       "      <td>0.036425</td>\n",
       "      <td>3.6%</td>\n",
       "    </tr>\n",
       "    <tr>\n",
       "      <th>6</th>\n",
       "      <td>508</td>\n",
       "      <td>0.027868</td>\n",
       "      <td>2.8%</td>\n",
       "    </tr>\n",
       "    <tr>\n",
       "      <th>7</th>\n",
       "      <td>366</td>\n",
       "      <td>0.020078</td>\n",
       "      <td>2.0%</td>\n",
       "    </tr>\n",
       "    <tr>\n",
       "      <th>8</th>\n",
       "      <td>240</td>\n",
       "      <td>0.013166</td>\n",
       "      <td>1.3%</td>\n",
       "    </tr>\n",
       "  </tbody>\n",
       "</table>\n",
       "</div>"
      ],
      "text/plain": [
       "      counts       per per100\n",
       "0       5977  0.327884  32.8%\n",
       "1       4307  0.236272  23.6%\n",
       "2       2423  0.132920  13.3%\n",
       "3       1522  0.083493   8.3%\n",
       "4        933  0.051182   5.1%\n",
       "> 10     919  0.050414   5.0%\n",
       "5        664  0.036425   3.6%\n",
       "6        508  0.027868   2.8%\n",
       "7        366  0.020078   2.0%\n",
       "8        240  0.013166   1.3%"
      ]
     },
     "execution_count": 172,
     "metadata": {},
     "output_type": "execute_result"
    }
   ],
   "source": [
    "s = dfPositive.num_satellite_span\n",
    "counts = s.value_counts()\n",
    "percent = s.value_counts(normalize=True)\n",
    "percent100 = s.value_counts(normalize=True).mul(100).round(1).astype(str) + '%'\n",
    "pd.DataFrame({'counts': counts, 'per': percent, 'per100': percent100}).head(10)"
   ]
  },
  {
   "cell_type": "markdown",
   "metadata": {},
   "source": [
    "##### Corpus Positivo"
   ]
  },
  {
   "cell_type": "code",
   "execution_count": 173,
   "metadata": {},
   "outputs": [
    {
     "data": {
      "text/html": [
       "<div>\n",
       "<style scoped>\n",
       "    .dataframe tbody tr th:only-of-type {\n",
       "        vertical-align: middle;\n",
       "    }\n",
       "\n",
       "    .dataframe tbody tr th {\n",
       "        vertical-align: top;\n",
       "    }\n",
       "\n",
       "    .dataframe thead th {\n",
       "        text-align: right;\n",
       "    }\n",
       "</style>\n",
       "<table border=\"1\" class=\"dataframe\">\n",
       "  <thead>\n",
       "    <tr style=\"text-align: right;\">\n",
       "      <th></th>\n",
       "      <th>counts</th>\n",
       "      <th>per</th>\n",
       "      <th>per100</th>\n",
       "    </tr>\n",
       "  </thead>\n",
       "  <tbody>\n",
       "    <tr>\n",
       "      <th>0</th>\n",
       "      <td>11762</td>\n",
       "      <td>0.438930</td>\n",
       "      <td>43.9%</td>\n",
       "    </tr>\n",
       "    <tr>\n",
       "      <th>1</th>\n",
       "      <td>6418</td>\n",
       "      <td>0.239504</td>\n",
       "      <td>24.0%</td>\n",
       "    </tr>\n",
       "    <tr>\n",
       "      <th>2</th>\n",
       "      <td>3224</td>\n",
       "      <td>0.120312</td>\n",
       "      <td>12.0%</td>\n",
       "    </tr>\n",
       "    <tr>\n",
       "      <th>3</th>\n",
       "      <td>1747</td>\n",
       "      <td>0.065194</td>\n",
       "      <td>6.5%</td>\n",
       "    </tr>\n",
       "    <tr>\n",
       "      <th>4</th>\n",
       "      <td>1098</td>\n",
       "      <td>0.040975</td>\n",
       "      <td>4.1%</td>\n",
       "    </tr>\n",
       "    <tr>\n",
       "      <th>5</th>\n",
       "      <td>660</td>\n",
       "      <td>0.024630</td>\n",
       "      <td>2.5%</td>\n",
       "    </tr>\n",
       "    <tr>\n",
       "      <th>&gt; 10</th>\n",
       "      <td>547</td>\n",
       "      <td>0.020413</td>\n",
       "      <td>2.0%</td>\n",
       "    </tr>\n",
       "    <tr>\n",
       "      <th>6</th>\n",
       "      <td>479</td>\n",
       "      <td>0.017875</td>\n",
       "      <td>1.8%</td>\n",
       "    </tr>\n",
       "    <tr>\n",
       "      <th>7</th>\n",
       "      <td>345</td>\n",
       "      <td>0.012875</td>\n",
       "      <td>1.3%</td>\n",
       "    </tr>\n",
       "    <tr>\n",
       "      <th>8</th>\n",
       "      <td>252</td>\n",
       "      <td>0.009404</td>\n",
       "      <td>0.9%</td>\n",
       "    </tr>\n",
       "  </tbody>\n",
       "</table>\n",
       "</div>"
      ],
      "text/plain": [
       "      counts       per per100\n",
       "0      11762  0.438930  43.9%\n",
       "1       6418  0.239504  24.0%\n",
       "2       3224  0.120312  12.0%\n",
       "3       1747  0.065194   6.5%\n",
       "4       1098  0.040975   4.1%\n",
       "5        660  0.024630   2.5%\n",
       "> 10     547  0.020413   2.0%\n",
       "6        479  0.017875   1.8%\n",
       "7        345  0.012875   1.3%\n",
       "8        252  0.009404   0.9%"
      ]
     },
     "execution_count": 173,
     "metadata": {},
     "output_type": "execute_result"
    }
   ],
   "source": [
    "s = dfNegative.num_satellite_span\n",
    "counts = s.value_counts()\n",
    "percent = s.value_counts(normalize=True)\n",
    "percent100 = s.value_counts(normalize=True).mul(100).round(1).astype(str) + '%'\n",
    "pd.DataFrame({'counts': counts, 'per': percent, 'per100': percent100}).head(10)"
   ]
  },
  {
   "cell_type": "code",
   "execution_count": null,
   "metadata": {},
   "outputs": [],
   "source": []
  }
 ],
 "metadata": {
  "kernelspec": {
   "display_name": "Python 3",
   "language": "python",
   "name": "python3"
  },
  "language_info": {
   "codemirror_mode": {
    "name": "ipython",
    "version": 3
   },
   "file_extension": ".py",
   "mimetype": "text/x-python",
   "name": "python",
   "nbconvert_exporter": "python",
   "pygments_lexer": "ipython3",
   "version": "3.7.3"
  }
 },
 "nbformat": 4,
 "nbformat_minor": 2
}
