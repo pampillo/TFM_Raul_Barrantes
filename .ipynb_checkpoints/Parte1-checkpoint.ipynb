{
 "cells": [
  {
   "cell_type": "markdown",
   "metadata": {},
   "source": [
    "## Preparación de los datos"
   ]
  },
  {
   "cell_type": "markdown",
   "metadata": {},
   "source": [
    "Se llaman las librerías necesarias su efecto:"
   ]
  },
  {
   "cell_type": "code",
   "execution_count": 439,
   "metadata": {},
   "outputs": [],
   "source": [
    "import xml.etree.cElementTree as ET\n",
    "import os\n",
    "import random\n",
    "import pandas as pd\n",
    "import re\n",
    "%matplotlib inline\n",
    "import numpy as np\n",
    "import matplotlib.pyplot as plt\n",
    "\n"
   ]
  },
  {
   "cell_type": "code",
   "execution_count": null,
   "metadata": {},
   "outputs": [],
   "source": [
    "s.replace('\\'', '')"
   ]
  },
  {
   "cell_type": "markdown",
   "metadata": {},
   "source": [
    "Se extraen los datos de los archivos con diagnostico negativo de depresión. De los datos en el corpus se extraen el titulo y el texto."
   ]
  },
  {
   "cell_type": "code",
   "execution_count": 310,
   "metadata": {},
   "outputs": [],
   "source": [
    "dirsNegative = ['SourceFiles/erisk 2017 - test split/negative_examples_anonymous/',\n",
    "               'SourceFiles/erisk 2017 - training split/negative_examples_anonymous/',\n",
    "               'SourceFiles/erisk 2018 - test split/neg/']\n",
    "corpusNegative  = []\n",
    "for direc in dirsNegative:\n",
    "    directory = os.fsencode(direc)\n",
    "    for file in os.listdir(directory):\n",
    "        filename = os.fsdecode(file)\n",
    "        tree = ET.parse(direc+filename)\n",
    "        root = tree.getroot()\n",
    "        i = 0\n",
    "        for elem in root:\n",
    "            if i > 0:\n",
    "                if elem.find(\"TITLE\").text.isspace():\n",
    "                    s_title = \"\" \n",
    "                else:\n",
    "                    s_title = re.sub('\\n', '', elem.find(\"TITLE\").text)\n",
    "                s_date = elem.find(\"DATE\").text \n",
    "                s_info = elem.find(\"INFO\").text \n",
    "                if elem.find(\"TEXT\").text.isspace():\n",
    "                    s_text = \"\" \n",
    "                else:\n",
    "                    s_text = re.sub('\\n', ' ', elem.find(\"TEXT\").text)\n",
    "                    \n",
    "                s_diagnose = \"false\"\n",
    "                corpusNegative.append({\"title\": s_title, \"date\": s_date, \"info\": s_info, \"text\": s_text, \"diagnose\": s_diagnose})\n",
    "            i = i + 1\n",
    "    "
   ]
  },
  {
   "cell_type": "markdown",
   "metadata": {},
   "source": [
    "Se extraen los datos de los archivos con diagnostico positivo de depresión."
   ]
  },
  {
   "cell_type": "code",
   "execution_count": 311,
   "metadata": {},
   "outputs": [],
   "source": [
    "dirsPositive = ['SourceFiles/erisk 2017 - test split/positive_examples_anonymous/',\n",
    "                'SourceFiles/erisk 2017 - training split/positive_examples_anonymous/',\n",
    "               'SourceFiles/erisk 2018 - test split/pos/']\n",
    "corpusPositive  = []\n",
    "for direc in dirsPositive:\n",
    "    directory = os.fsencode(direc)\n",
    "    for file in os.listdir(directory):\n",
    "        filename = os.fsdecode(file)\n",
    "        tree = ET.parse(direc+filename)\n",
    "        root = tree.getroot()\n",
    "        i = 0\n",
    "        for elem in root:\n",
    "            if i > 0:\n",
    "                if elem.find(\"TITLE\").text.isspace():\n",
    "                    s_title = \"\" \n",
    "                else:\n",
    "                    s_title = re.sub('\\n', '', elem.find(\"TITLE\").text)\n",
    "                s_date = elem.find(\"DATE\").text \n",
    "                s_info = elem.find(\"INFO\").text \n",
    "                if elem.find(\"TEXT\").text.isspace():\n",
    "                    s_text = \"\" \n",
    "                else:\n",
    "                    s_text = re.sub('\\n', ' ', elem.find(\"TEXT\").text)\n",
    "                s_diagnose = \"true\"\n",
    "                corpusPositive.append({\"title\": s_title, \"date\": s_date, \"info\": s_info, \"text\": s_text, \"diagnose\": s_diagnose})\n",
    "            i = i + 1\n",
    "    "
   ]
  },
  {
   "cell_type": "markdown",
   "metadata": {},
   "source": [
    "Esta es la longitud de cada corpus, de los textos con casos positivos y negativos."
   ]
  },
  {
   "cell_type": "code",
   "execution_count": 312,
   "metadata": {},
   "outputs": [
    {
     "data": {
      "text/plain": [
       "90222"
      ]
     },
     "execution_count": 312,
     "metadata": {},
     "output_type": "execute_result"
    }
   ],
   "source": [
    "len(corpusPositive)"
   ]
  },
  {
   "cell_type": "code",
   "execution_count": 313,
   "metadata": {},
   "outputs": [
    {
     "data": {
      "text/plain": [
       "986360"
      ]
     },
     "execution_count": 313,
     "metadata": {},
     "output_type": "execute_result"
    }
   ],
   "source": [
    "len(corpusNegative)"
   ]
  },
  {
   "cell_type": "markdown",
   "metadata": {},
   "source": [
    "Se extraen sólo una parte de los textos con diagnosticos negativos. (con el mismo tamaño del corpus de los casos positivos)"
   ]
  },
  {
   "cell_type": "code",
   "execution_count": 314,
   "metadata": {},
   "outputs": [],
   "source": [
    "corpusNegativeSample = random.sample(corpusNegative, 90222)"
   ]
  },
  {
   "cell_type": "markdown",
   "metadata": {},
   "source": [
    "Se toman en cuenta el corpus completo de los casos con diagnostico positivo de depresión."
   ]
  },
  {
   "cell_type": "markdown",
   "metadata": {},
   "source": [
    "Se convierten las listas dataframes de Pandas:"
   ]
  },
  {
   "cell_type": "code",
   "execution_count": 317,
   "metadata": {},
   "outputs": [],
   "source": [
    "dfPositive = pd.DataFrame(corpusPositive) "
   ]
  },
  {
   "cell_type": "code",
   "execution_count": 409,
   "metadata": {},
   "outputs": [],
   "source": [
    "dfNegative = pd.DataFrame(corpusNegativeSample) "
   ]
  },
  {
   "cell_type": "markdown",
   "metadata": {},
   "source": [
    "Se extraen los datos del conteo de palabras y carácteres del título y del texto por separado."
   ]
  },
  {
   "cell_type": "code",
   "execution_count": 410,
   "metadata": {},
   "outputs": [],
   "source": [
    "def word_count(sentence):\n",
    "    if sentence=='':\n",
    "        return 0\n",
    "    else:\n",
    "        return len(str(sentence).split(\" \"))\n",
    "\n",
    "\n",
    "dfPositive['word_count_title'] = dfPositive['title'].apply(lambda x: word_count(x))\n",
    "dfNegative['word_count_title'] = dfNegative['title'].apply(lambda x: word_count(x))"
   ]
  },
  {
   "cell_type": "code",
   "execution_count": 411,
   "metadata": {},
   "outputs": [],
   "source": [
    "dfPositive['word_count_text'] = dfPositive['text'].apply(lambda x: word_count(x))\n",
    "dfNegative['word_count_text'] = dfNegative['text'].apply(lambda x: word_count(x))"
   ]
  },
  {
   "cell_type": "code",
   "execution_count": 412,
   "metadata": {},
   "outputs": [],
   "source": [
    "dfPositive['char_count_title'] = dfPositive['title'].str.len() \n",
    "dfNegative['char_count_title'] = dfNegative['title'].str.len() "
   ]
  },
  {
   "cell_type": "code",
   "execution_count": 413,
   "metadata": {},
   "outputs": [],
   "source": [
    "dfPositive['char_count_text'] = dfPositive['text'].str.len() \n",
    "dfNegative['char_count_text'] = dfNegative['text'].str.len() "
   ]
  },
  {
   "cell_type": "markdown",
   "metadata": {},
   "source": [
    "Se extraen los datos del promedio de tamaño de las palabras tanto como en el título u en el texto."
   ]
  },
  {
   "cell_type": "code",
   "execution_count": 414,
   "metadata": {},
   "outputs": [],
   "source": [
    "def avg_word(sentence):\n",
    "    words = sentence.split()\n",
    "    if len(words) == 0:\n",
    "        return 0\n",
    "    else:\n",
    "      return (sum(len(word) for word in words)/len(words))\n",
    "\n",
    "dfPositive['avg_word_title'] = dfPositive['title'].apply(lambda x: avg_word(x))\n",
    "dfNegative['avg_word_title'] = dfNegative['title'].apply(lambda x: avg_word(x))\n",
    "\n",
    "dfPositive['avg_word_text'] = dfPositive['text'].apply(lambda x: avg_word(x))\n",
    "dfNegative['avg_word_text'] = dfNegative['text'].apply(lambda x: avg_word(x))\n"
   ]
  },
  {
   "cell_type": "markdown",
   "metadata": {},
   "source": [
    "Se extraen los datos del promedio de tamaño de las palabras tanto como en el título u en el texto."
   ]
  },
  {
   "cell_type": "code",
   "execution_count": 415,
   "metadata": {},
   "outputs": [],
   "source": [
    "from nltk.corpus import stopwords\n",
    "stop = stopwords.words('english')\n",
    "\n",
    "def stop_words(sentence):\n",
    "    words = sentence.split()\n",
    "    if len(words) == 0:\n",
    "        return -1\n",
    "    else:\n",
    "      return len([sentence for sentence in sentence.split() if sentence in stop])\n",
    "\n",
    "\n",
    "dfPositive['stopwords_title'] = dfPositive['title'].apply(lambda x: stop_words(x))\n",
    "dfNegative['stopwords_title'] = dfNegative['title'].apply(lambda x: stop_words(x))\n",
    "\n",
    "dfPositive['stopwords_text'] = dfPositive['text'].apply(lambda x: stop_words(x))\n",
    "dfNegative['stopwords_text'] = dfNegative['text'].apply(lambda x: stop_words(x))"
   ]
  },
  {
   "cell_type": "markdown",
   "metadata": {},
   "source": [
    "Se crea un atributo que determina si tiene sólo título, sólo texto, ambos o ninguno."
   ]
  },
  {
   "cell_type": "code",
   "execution_count": 464,
   "metadata": {},
   "outputs": [],
   "source": [
    "def title_or_text(title,text):\n",
    "    if title=='' and text=='':\n",
    "        return \"NONE\"\n",
    "    elif title=='' and text!='':\n",
    "        return \"TEXT\"\n",
    "    elif title!='' and text=='':\n",
    "        return \"TITLE\"\n",
    "    else:\n",
    "        return \"BOTH\"\n",
    "\n",
    "dfPositive['title_or_text'] = dfPositive.apply(lambda x: title_or_text(x.title, x.text), axis=1)\n",
    "dfNegative['title_or_text'] = dfNegative.apply(lambda x: title_or_text(x.title, x.text), axis=1)"
   ]
  },
  {
   "cell_type": "markdown",
   "metadata": {},
   "source": [
    "Aquí se pueden ver los dataframes de los datos positivos y negativos."
   ]
  },
  {
   "cell_type": "code",
   "execution_count": 465,
   "metadata": {},
   "outputs": [
    {
     "data": {
      "text/html": [
       "<div>\n",
       "<style scoped>\n",
       "    .dataframe tbody tr th:only-of-type {\n",
       "        vertical-align: middle;\n",
       "    }\n",
       "\n",
       "    .dataframe tbody tr th {\n",
       "        vertical-align: top;\n",
       "    }\n",
       "\n",
       "    .dataframe thead th {\n",
       "        text-align: right;\n",
       "    }\n",
       "</style>\n",
       "<table border=\"1\" class=\"dataframe\">\n",
       "  <thead>\n",
       "    <tr style=\"text-align: right;\">\n",
       "      <th></th>\n",
       "      <th>title</th>\n",
       "      <th>date</th>\n",
       "      <th>info</th>\n",
       "      <th>text</th>\n",
       "      <th>diagnose</th>\n",
       "      <th>word_count_title</th>\n",
       "      <th>word_count_text</th>\n",
       "      <th>char_count_title</th>\n",
       "      <th>char_count_text</th>\n",
       "      <th>avg_word_title</th>\n",
       "      <th>avg_word_text</th>\n",
       "      <th>stopwords_title</th>\n",
       "      <th>stopwords_text</th>\n",
       "      <th>title_or_text</th>\n",
       "    </tr>\n",
       "  </thead>\n",
       "  <tbody>\n",
       "    <tr>\n",
       "      <th>0</th>\n",
       "      <td></td>\n",
       "      <td>2015-05-04 07:25:36</td>\n",
       "      <td>reddit post</td>\n",
       "      <td>I go after what I want. Why should I wait for...</td>\n",
       "      <td>true</td>\n",
       "      <td>0</td>\n",
       "      <td>27</td>\n",
       "      <td>0</td>\n",
       "      <td>115</td>\n",
       "      <td>0.0</td>\n",
       "      <td>3.708333</td>\n",
       "      <td>-1</td>\n",
       "      <td>10</td>\n",
       "      <td>TEXT</td>\n",
       "    </tr>\n",
       "    <tr>\n",
       "      <th>1</th>\n",
       "      <td>Air travel on thanksgiving...</td>\n",
       "      <td>2014-11-27 18:45:56</td>\n",
       "      <td>reddit post</td>\n",
       "      <td></td>\n",
       "      <td>true</td>\n",
       "      <td>6</td>\n",
       "      <td>0</td>\n",
       "      <td>31</td>\n",
       "      <td>0</td>\n",
       "      <td>6.5</td>\n",
       "      <td>0.000000</td>\n",
       "      <td>1</td>\n",
       "      <td>-1</td>\n",
       "      <td>TITLE</td>\n",
       "    </tr>\n",
       "    <tr>\n",
       "      <th>2</th>\n",
       "      <td></td>\n",
       "      <td>2014-10-29 03:17:24</td>\n",
       "      <td>reddit post</td>\n",
       "      <td>Go Cyclones!!!</td>\n",
       "      <td>true</td>\n",
       "      <td>0</td>\n",
       "      <td>5</td>\n",
       "      <td>0</td>\n",
       "      <td>17</td>\n",
       "      <td>0.0</td>\n",
       "      <td>6.500000</td>\n",
       "      <td>-1</td>\n",
       "      <td>0</td>\n",
       "      <td>TEXT</td>\n",
       "    </tr>\n",
       "    <tr>\n",
       "      <th>3</th>\n",
       "      <td></td>\n",
       "      <td>2014-10-26 19:39:11</td>\n",
       "      <td>reddit post</td>\n",
       "      <td>My parents grew up here (New Holland). It's l...</td>\n",
       "      <td>true</td>\n",
       "      <td>0</td>\n",
       "      <td>32</td>\n",
       "      <td>0</td>\n",
       "      <td>176</td>\n",
       "      <td>0.0</td>\n",
       "      <td>5.000000</td>\n",
       "      <td>-1</td>\n",
       "      <td>7</td>\n",
       "      <td>TEXT</td>\n",
       "    </tr>\n",
       "    <tr>\n",
       "      <th>4</th>\n",
       "      <td></td>\n",
       "      <td>2014-10-12 04:44:01</td>\n",
       "      <td>reddit post</td>\n",
       "      <td>Fifty Shades of Ebola</td>\n",
       "      <td>true</td>\n",
       "      <td>0</td>\n",
       "      <td>6</td>\n",
       "      <td>0</td>\n",
       "      <td>23</td>\n",
       "      <td>0.0</td>\n",
       "      <td>4.500000</td>\n",
       "      <td>-1</td>\n",
       "      <td>1</td>\n",
       "      <td>TEXT</td>\n",
       "    </tr>\n",
       "    <tr>\n",
       "      <th>...</th>\n",
       "      <td>...</td>\n",
       "      <td>...</td>\n",
       "      <td>...</td>\n",
       "      <td>...</td>\n",
       "      <td>...</td>\n",
       "      <td>...</td>\n",
       "      <td>...</td>\n",
       "      <td>...</td>\n",
       "      <td>...</td>\n",
       "      <td>...</td>\n",
       "      <td>...</td>\n",
       "      <td>...</td>\n",
       "      <td>...</td>\n",
       "      <td>...</td>\n",
       "    </tr>\n",
       "    <tr>\n",
       "      <th>90217</th>\n",
       "      <td></td>\n",
       "      <td>2015-06-11 00:59:27</td>\n",
       "      <td>reddit post</td>\n",
       "      <td>Small claims court?</td>\n",
       "      <td>true</td>\n",
       "      <td>0</td>\n",
       "      <td>5</td>\n",
       "      <td>0</td>\n",
       "      <td>21</td>\n",
       "      <td>0.0</td>\n",
       "      <td>5.666667</td>\n",
       "      <td>-1</td>\n",
       "      <td>0</td>\n",
       "      <td>TEXT</td>\n",
       "    </tr>\n",
       "    <tr>\n",
       "      <th>90218</th>\n",
       "      <td></td>\n",
       "      <td>2015-06-10 23:38:58</td>\n",
       "      <td>reddit post</td>\n",
       "      <td>His physique is so good, his muscles can meta...</td>\n",
       "      <td>true</td>\n",
       "      <td>0</td>\n",
       "      <td>30</td>\n",
       "      <td>0</td>\n",
       "      <td>144</td>\n",
       "      <td>0.0</td>\n",
       "      <td>4.259259</td>\n",
       "      <td>-1</td>\n",
       "      <td>10</td>\n",
       "      <td>TEXT</td>\n",
       "    </tr>\n",
       "    <tr>\n",
       "      <th>90219</th>\n",
       "      <td></td>\n",
       "      <td>2015-06-10 20:14:38</td>\n",
       "      <td>reddit post</td>\n",
       "      <td>jetpack made of muscle  http://drmcninja.com...</td>\n",
       "      <td>true</td>\n",
       "      <td>0</td>\n",
       "      <td>9</td>\n",
       "      <td>0</td>\n",
       "      <td>68</td>\n",
       "      <td>0.0</td>\n",
       "      <td>12.000000</td>\n",
       "      <td>-1</td>\n",
       "      <td>1</td>\n",
       "      <td>TEXT</td>\n",
       "    </tr>\n",
       "    <tr>\n",
       "      <th>90220</th>\n",
       "      <td></td>\n",
       "      <td>2015-05-29 15:06:29</td>\n",
       "      <td>reddit post</td>\n",
       "      <td>For one, she said it would invalidate his pr...</td>\n",
       "      <td>true</td>\n",
       "      <td>0</td>\n",
       "      <td>33</td>\n",
       "      <td>0</td>\n",
       "      <td>176</td>\n",
       "      <td>0.0</td>\n",
       "      <td>4.965517</td>\n",
       "      <td>-1</td>\n",
       "      <td>11</td>\n",
       "      <td>TEXT</td>\n",
       "    </tr>\n",
       "    <tr>\n",
       "      <th>90221</th>\n",
       "      <td></td>\n",
       "      <td>2015-05-26 20:15:37</td>\n",
       "      <td>reddit post</td>\n",
       "      <td>Do you have any suggestions if I find that so...</td>\n",
       "      <td>true</td>\n",
       "      <td>0</td>\n",
       "      <td>18</td>\n",
       "      <td>0</td>\n",
       "      <td>88</td>\n",
       "      <td>0.0</td>\n",
       "      <td>4.437500</td>\n",
       "      <td>-1</td>\n",
       "      <td>7</td>\n",
       "      <td>TEXT</td>\n",
       "    </tr>\n",
       "  </tbody>\n",
       "</table>\n",
       "<p>90222 rows × 14 columns</p>\n",
       "</div>"
      ],
      "text/plain": [
       "                                 title                   date           info  \\\n",
       "0                                        2015-05-04 07:25:36    reddit post    \n",
       "1       Air travel on thanksgiving...    2014-11-27 18:45:56    reddit post    \n",
       "2                                        2014-10-29 03:17:24    reddit post    \n",
       "3                                        2014-10-26 19:39:11    reddit post    \n",
       "4                                        2014-10-12 04:44:01    reddit post    \n",
       "...                                ...                    ...            ...   \n",
       "90217                                    2015-06-11 00:59:27    reddit post    \n",
       "90218                                    2015-06-10 23:38:58    reddit post    \n",
       "90219                                    2015-06-10 20:14:38    reddit post    \n",
       "90220                                    2015-05-29 15:06:29    reddit post    \n",
       "90221                                    2015-05-26 20:15:37    reddit post    \n",
       "\n",
       "                                                    text diagnose  \\\n",
       "0       I go after what I want. Why should I wait for...     true   \n",
       "1                                                            true   \n",
       "2                                       Go Cyclones!!!       true   \n",
       "3       My parents grew up here (New Holland). It's l...     true   \n",
       "4                                 Fifty Shades of Ebola      true   \n",
       "...                                                  ...      ...   \n",
       "90217                               Small claims court?      true   \n",
       "90218   His physique is so good, his muscles can meta...     true   \n",
       "90219    jetpack made of muscle  http://drmcninja.com...     true   \n",
       "90220    For one, she said it would invalidate his pr...     true   \n",
       "90221   Do you have any suggestions if I find that so...     true   \n",
       "\n",
       "       word_count_title  word_count_text  char_count_title  char_count_text  \\\n",
       "0                     0               27                 0              115   \n",
       "1                     6                0                31                0   \n",
       "2                     0                5                 0               17   \n",
       "3                     0               32                 0              176   \n",
       "4                     0                6                 0               23   \n",
       "...                 ...              ...               ...              ...   \n",
       "90217                 0                5                 0               21   \n",
       "90218                 0               30                 0              144   \n",
       "90219                 0                9                 0               68   \n",
       "90220                 0               33                 0              176   \n",
       "90221                 0               18                 0               88   \n",
       "\n",
       "       avg_word_title  avg_word_text  stopwords_title  stopwords_text  \\\n",
       "0                 0.0       3.708333               -1              10   \n",
       "1                 6.5       0.000000                1              -1   \n",
       "2                 0.0       6.500000               -1               0   \n",
       "3                 0.0       5.000000               -1               7   \n",
       "4                 0.0       4.500000               -1               1   \n",
       "...               ...            ...              ...             ...   \n",
       "90217             0.0       5.666667               -1               0   \n",
       "90218             0.0       4.259259               -1              10   \n",
       "90219             0.0      12.000000               -1               1   \n",
       "90220             0.0       4.965517               -1              11   \n",
       "90221             0.0       4.437500               -1               7   \n",
       "\n",
       "      title_or_text  \n",
       "0              TEXT  \n",
       "1             TITLE  \n",
       "2              TEXT  \n",
       "3              TEXT  \n",
       "4              TEXT  \n",
       "...             ...  \n",
       "90217          TEXT  \n",
       "90218          TEXT  \n",
       "90219          TEXT  \n",
       "90220          TEXT  \n",
       "90221          TEXT  \n",
       "\n",
       "[90222 rows x 14 columns]"
      ]
     },
     "execution_count": 465,
     "metadata": {},
     "output_type": "execute_result"
    }
   ],
   "source": [
    "dfPositive"
   ]
  },
  {
   "cell_type": "code",
   "execution_count": 466,
   "metadata": {},
   "outputs": [
    {
     "data": {
      "text/html": [
       "<div>\n",
       "<style scoped>\n",
       "    .dataframe tbody tr th:only-of-type {\n",
       "        vertical-align: middle;\n",
       "    }\n",
       "\n",
       "    .dataframe tbody tr th {\n",
       "        vertical-align: top;\n",
       "    }\n",
       "\n",
       "    .dataframe thead th {\n",
       "        text-align: right;\n",
       "    }\n",
       "</style>\n",
       "<table border=\"1\" class=\"dataframe\">\n",
       "  <thead>\n",
       "    <tr style=\"text-align: right;\">\n",
       "      <th></th>\n",
       "      <th>title</th>\n",
       "      <th>date</th>\n",
       "      <th>info</th>\n",
       "      <th>text</th>\n",
       "      <th>diagnose</th>\n",
       "      <th>word_count_title</th>\n",
       "      <th>word_count_text</th>\n",
       "      <th>char_count_title</th>\n",
       "      <th>char_count_text</th>\n",
       "      <th>avg_word_title</th>\n",
       "      <th>avg_word_text</th>\n",
       "      <th>stopwords_title</th>\n",
       "      <th>stopwords_text</th>\n",
       "      <th>title_or_text</th>\n",
       "    </tr>\n",
       "  </thead>\n",
       "  <tbody>\n",
       "    <tr>\n",
       "      <th>0</th>\n",
       "      <td></td>\n",
       "      <td>2015-05-03 17:25:38</td>\n",
       "      <td>reddit post</td>\n",
       "      <td>So for all those people who want to totally d...</td>\n",
       "      <td>false</td>\n",
       "      <td>0</td>\n",
       "      <td>26</td>\n",
       "      <td>0</td>\n",
       "      <td>119</td>\n",
       "      <td>0.000000</td>\n",
       "      <td>3.916667</td>\n",
       "      <td>-1</td>\n",
       "      <td>11</td>\n",
       "      <td>TEXT</td>\n",
       "    </tr>\n",
       "    <tr>\n",
       "      <th>1</th>\n",
       "      <td></td>\n",
       "      <td>2015-01-28 14:53:40</td>\n",
       "      <td>reddit post</td>\n",
       "      <td>TIL = Today I learned  :D</td>\n",
       "      <td>false</td>\n",
       "      <td>0</td>\n",
       "      <td>9</td>\n",
       "      <td>0</td>\n",
       "      <td>27</td>\n",
       "      <td>0.000000</td>\n",
       "      <td>3.166667</td>\n",
       "      <td>-1</td>\n",
       "      <td>0</td>\n",
       "      <td>TEXT</td>\n",
       "    </tr>\n",
       "    <tr>\n",
       "      <th>2</th>\n",
       "      <td>Chris Sale Has Emerged As A Leader For Red So...</td>\n",
       "      <td>2017-05-07 20:27:05</td>\n",
       "      <td>reddit post</td>\n",
       "      <td></td>\n",
       "      <td>false</td>\n",
       "      <td>22</td>\n",
       "      <td>0</td>\n",
       "      <td>93</td>\n",
       "      <td>0</td>\n",
       "      <td>3.600000</td>\n",
       "      <td>0.000000</td>\n",
       "      <td>0</td>\n",
       "      <td>-1</td>\n",
       "      <td>TITLE</td>\n",
       "    </tr>\n",
       "    <tr>\n",
       "      <th>3</th>\n",
       "      <td>Four-year-old girl battling leukemia 'marries...</td>\n",
       "      <td>2015-07-18 02:11:57</td>\n",
       "      <td>reddit post</td>\n",
       "      <td></td>\n",
       "      <td>false</td>\n",
       "      <td>10</td>\n",
       "      <td>0</td>\n",
       "      <td>67</td>\n",
       "      <td>0</td>\n",
       "      <td>7.250000</td>\n",
       "      <td>0.000000</td>\n",
       "      <td>1</td>\n",
       "      <td>-1</td>\n",
       "      <td>TITLE</td>\n",
       "    </tr>\n",
       "    <tr>\n",
       "      <th>4</th>\n",
       "      <td>Intervention</td>\n",
       "      <td>2015-03-02 23:27:36</td>\n",
       "      <td>reddit post</td>\n",
       "      <td></td>\n",
       "      <td>false</td>\n",
       "      <td>3</td>\n",
       "      <td>0</td>\n",
       "      <td>14</td>\n",
       "      <td>0</td>\n",
       "      <td>12.000000</td>\n",
       "      <td>0.000000</td>\n",
       "      <td>0</td>\n",
       "      <td>-1</td>\n",
       "      <td>TITLE</td>\n",
       "    </tr>\n",
       "    <tr>\n",
       "      <th>...</th>\n",
       "      <td>...</td>\n",
       "      <td>...</td>\n",
       "      <td>...</td>\n",
       "      <td>...</td>\n",
       "      <td>...</td>\n",
       "      <td>...</td>\n",
       "      <td>...</td>\n",
       "      <td>...</td>\n",
       "      <td>...</td>\n",
       "      <td>...</td>\n",
       "      <td>...</td>\n",
       "      <td>...</td>\n",
       "      <td>...</td>\n",
       "      <td>...</td>\n",
       "    </tr>\n",
       "    <tr>\n",
       "      <th>90217</th>\n",
       "      <td>What's your favorite sub with fewer than 10,0...</td>\n",
       "      <td>2017-02-18 16:59:49</td>\n",
       "      <td>reddit post</td>\n",
       "      <td></td>\n",
       "      <td>false</td>\n",
       "      <td>11</td>\n",
       "      <td>0</td>\n",
       "      <td>62</td>\n",
       "      <td>0</td>\n",
       "      <td>5.777778</td>\n",
       "      <td>0.000000</td>\n",
       "      <td>3</td>\n",
       "      <td>-1</td>\n",
       "      <td>TITLE</td>\n",
       "    </tr>\n",
       "    <tr>\n",
       "      <th>90218</th>\n",
       "      <td></td>\n",
       "      <td>2015-05-26 02:41:12</td>\n",
       "      <td>reddit post</td>\n",
       "      <td>Is it smarter?</td>\n",
       "      <td>false</td>\n",
       "      <td>0</td>\n",
       "      <td>5</td>\n",
       "      <td>0</td>\n",
       "      <td>16</td>\n",
       "      <td>0.000000</td>\n",
       "      <td>4.000000</td>\n",
       "      <td>-1</td>\n",
       "      <td>1</td>\n",
       "      <td>TEXT</td>\n",
       "    </tr>\n",
       "    <tr>\n",
       "      <th>90219</th>\n",
       "      <td>Cop (former \"Hot-ess Hostess\") sentenced to t...</td>\n",
       "      <td>2015-06-17 14:53:27</td>\n",
       "      <td>reddit post</td>\n",
       "      <td></td>\n",
       "      <td>false</td>\n",
       "      <td>16</td>\n",
       "      <td>0</td>\n",
       "      <td>87</td>\n",
       "      <td>0</td>\n",
       "      <td>5.142857</td>\n",
       "      <td>0.000000</td>\n",
       "      <td>3</td>\n",
       "      <td>-1</td>\n",
       "      <td>TITLE</td>\n",
       "    </tr>\n",
       "    <tr>\n",
       "      <th>90220</th>\n",
       "      <td></td>\n",
       "      <td>2017-03-18 13:38:52</td>\n",
       "      <td>reddit post</td>\n",
       "      <td>Now kiss no homo</td>\n",
       "      <td>false</td>\n",
       "      <td>0</td>\n",
       "      <td>6</td>\n",
       "      <td>0</td>\n",
       "      <td>18</td>\n",
       "      <td>0.000000</td>\n",
       "      <td>3.250000</td>\n",
       "      <td>-1</td>\n",
       "      <td>1</td>\n",
       "      <td>TEXT</td>\n",
       "    </tr>\n",
       "    <tr>\n",
       "      <th>90221</th>\n",
       "      <td></td>\n",
       "      <td>2016-10-13 14:42:07</td>\n",
       "      <td>reddit post</td>\n",
       "      <td>Good catch!</td>\n",
       "      <td>false</td>\n",
       "      <td>0</td>\n",
       "      <td>4</td>\n",
       "      <td>0</td>\n",
       "      <td>13</td>\n",
       "      <td>0.000000</td>\n",
       "      <td>5.000000</td>\n",
       "      <td>-1</td>\n",
       "      <td>0</td>\n",
       "      <td>TEXT</td>\n",
       "    </tr>\n",
       "  </tbody>\n",
       "</table>\n",
       "<p>90222 rows × 14 columns</p>\n",
       "</div>"
      ],
      "text/plain": [
       "                                                   title  \\\n",
       "0                                                          \n",
       "1                                                          \n",
       "2       Chris Sale Has Emerged As A Leader For Red So...   \n",
       "3       Four-year-old girl battling leukemia 'marries...   \n",
       "4                                          Intervention    \n",
       "...                                                  ...   \n",
       "90217   What's your favorite sub with fewer than 10,0...   \n",
       "90218                                                      \n",
       "90219   Cop (former \"Hot-ess Hostess\") sentenced to t...   \n",
       "90220                                                      \n",
       "90221                                                      \n",
       "\n",
       "                        date           info  \\\n",
       "0       2015-05-03 17:25:38    reddit post    \n",
       "1       2015-01-28 14:53:40    reddit post    \n",
       "2       2017-05-07 20:27:05    reddit post    \n",
       "3       2015-07-18 02:11:57    reddit post    \n",
       "4       2015-03-02 23:27:36    reddit post    \n",
       "...                      ...            ...   \n",
       "90217   2017-02-18 16:59:49    reddit post    \n",
       "90218   2015-05-26 02:41:12    reddit post    \n",
       "90219   2015-06-17 14:53:27    reddit post    \n",
       "90220   2017-03-18 13:38:52    reddit post    \n",
       "90221   2016-10-13 14:42:07    reddit post    \n",
       "\n",
       "                                                    text diagnose  \\\n",
       "0       So for all those people who want to totally d...    false   \n",
       "1                             TIL = Today I learned  :D     false   \n",
       "2                                                           false   \n",
       "3                                                           false   \n",
       "4                                                           false   \n",
       "...                                                  ...      ...   \n",
       "90217                                                       false   \n",
       "90218                                    Is it smarter?     false   \n",
       "90219                                                       false   \n",
       "90220                                  Now kiss no homo     false   \n",
       "90221                                       Good catch!     false   \n",
       "\n",
       "       word_count_title  word_count_text  char_count_title  char_count_text  \\\n",
       "0                     0               26                 0              119   \n",
       "1                     0                9                 0               27   \n",
       "2                    22                0                93                0   \n",
       "3                    10                0                67                0   \n",
       "4                     3                0                14                0   \n",
       "...                 ...              ...               ...              ...   \n",
       "90217                11                0                62                0   \n",
       "90218                 0                5                 0               16   \n",
       "90219                16                0                87                0   \n",
       "90220                 0                6                 0               18   \n",
       "90221                 0                4                 0               13   \n",
       "\n",
       "       avg_word_title  avg_word_text  stopwords_title  stopwords_text  \\\n",
       "0            0.000000       3.916667               -1              11   \n",
       "1            0.000000       3.166667               -1               0   \n",
       "2            3.600000       0.000000                0              -1   \n",
       "3            7.250000       0.000000                1              -1   \n",
       "4           12.000000       0.000000                0              -1   \n",
       "...               ...            ...              ...             ...   \n",
       "90217        5.777778       0.000000                3              -1   \n",
       "90218        0.000000       4.000000               -1               1   \n",
       "90219        5.142857       0.000000                3              -1   \n",
       "90220        0.000000       3.250000               -1               1   \n",
       "90221        0.000000       5.000000               -1               0   \n",
       "\n",
       "      title_or_text  \n",
       "0              TEXT  \n",
       "1              TEXT  \n",
       "2             TITLE  \n",
       "3             TITLE  \n",
       "4             TITLE  \n",
       "...             ...  \n",
       "90217         TITLE  \n",
       "90218          TEXT  \n",
       "90219         TITLE  \n",
       "90220          TEXT  \n",
       "90221          TEXT  \n",
       "\n",
       "[90222 rows x 14 columns]"
      ]
     },
     "execution_count": 466,
     "metadata": {},
     "output_type": "execute_result"
    }
   ],
   "source": [
    "dfNegative"
   ]
  },
  {
   "cell_type": "markdown",
   "metadata": {},
   "source": [
    "## Análisis descriptivo de los datos"
   ]
  },
  {
   "cell_type": "markdown",
   "metadata": {},
   "source": [
    "### Histogramas con casos negativos"
   ]
  },
  {
   "cell_type": "markdown",
   "metadata": {},
   "source": [
    "#### Conteo de las palabras en el texto (de 1 a 100, sin contar los datos que están vacíos)."
   ]
  },
  {
   "cell_type": "code",
   "execution_count": 419,
   "metadata": {},
   "outputs": [
    {
     "data": {
      "image/png": "[encoded data removed]",
      "text/plain": [
       "<Figure size 432x288 with 1 Axes>"
      ]
     },
     "metadata": {
      "needs_background": "light"
     },
     "output_type": "display_data"
    }
   ],
   "source": [
    "hist = dfNegative.hist(column='word_count_text', bins=100, range=(1,100)) "
   ]
  },
  {
   "cell_type": "markdown",
   "metadata": {},
   "source": [
    "#### Conteo de las palabras en el título (de 1 a 100, sin contar los datos que están vacíos)."
   ]
  },
  {
   "cell_type": "code",
   "execution_count": 420,
   "metadata": {},
   "outputs": [
    {
     "data": {
      "image/png": "[encoded data removed]",
      "text/plain": [
       "<Figure size 432x288 with 1 Axes>"
      ]
     },
     "metadata": {
      "needs_background": "light"
     },
     "output_type": "display_data"
    }
   ],
   "source": [
    "hist = dfNegative.hist(column='word_count_title', bins=100, range=(1,100)) "
   ]
  },
  {
   "cell_type": "markdown",
   "metadata": {},
   "source": [
    "#### Conteo de caracteres en el texto (de 1 a 100, sin contar los datos que están vacíos)."
   ]
  },
  {
   "cell_type": "code",
   "execution_count": 421,
   "metadata": {},
   "outputs": [
    {
     "data": {
      "image/png": "[encoded data removed]",
      "text/plain": [
       "<Figure size 432x288 with 1 Axes>"
      ]
     },
     "metadata": {
      "needs_background": "light"
     },
     "output_type": "display_data"
    }
   ],
   "source": [
    "hist = dfNegative.hist(column='char_count_text', bins=100, range=(1,1000)) "
   ]
  },
  {
   "cell_type": "markdown",
   "metadata": {},
   "source": [
    "#### Conteo de caracteres en el título (de 1 a 100, sin contar los datos que están vacíos)."
   ]
  },
  {
   "cell_type": "code",
   "execution_count": 422,
   "metadata": {},
   "outputs": [
    {
     "data": {
      "image/png": "[encoded data removed]",
      "text/plain": [
       "<Figure size 432x288 with 1 Axes>"
      ]
     },
     "metadata": {
      "needs_background": "light"
     },
     "output_type": "display_data"
    }
   ],
   "source": [
    "hist = dfNegative.hist(column='char_count_title', bins=100, range=(1,100)) "
   ]
  },
  {
   "cell_type": "markdown",
   "metadata": {},
   "source": [
    "#### Promedio de caracteres por palabra en el título (mayores que 0)"
   ]
  },
  {
   "cell_type": "code",
   "execution_count": 423,
   "metadata": {},
   "outputs": [
    {
     "data": {
      "image/png": "[encoded data removed]",
      "text/plain": [
       "<Figure size 432x288 with 1 Axes>"
      ]
     },
     "metadata": {
      "needs_background": "light"
     },
     "output_type": "display_data"
    }
   ],
   "source": [
    "hist = dfNegative.hist(column='avg_word_title', bins=100, range=(1,20)) "
   ]
  },
  {
   "cell_type": "markdown",
   "metadata": {},
   "source": [
    "#### Promedio de caracteres por palabra en el texto (mayores que 0)"
   ]
  },
  {
   "cell_type": "code",
   "execution_count": 424,
   "metadata": {},
   "outputs": [
    {
     "data": {
      "image/png": "[encoded data removed]",
      "text/plain": [
       "<Figure size 432x288 with 1 Axes>"
      ]
     },
     "metadata": {
      "needs_background": "light"
     },
     "output_type": "display_data"
    }
   ],
   "source": [
    "hist = dfNegative.hist(column='avg_word_text', bins=100, range=(1,20)) "
   ]
  },
  {
   "cell_type": "markdown",
   "metadata": {},
   "source": [
    "#### Número de stopwords en el texto (cuando el texto no es vacío)"
   ]
  },
  {
   "cell_type": "code",
   "execution_count": 425,
   "metadata": {},
   "outputs": [
    {
     "data": {
      "image/png": "[encoded data removed]",
      "text/plain": [
       "<Figure size 432x288 with 1 Axes>"
      ]
     },
     "metadata": {
      "needs_background": "light"
     },
     "output_type": "display_data"
    }
   ],
   "source": [
    "hist = dfNegative.hist(column='stopwords_text', bins=100, range=(0,100)) "
   ]
  },
  {
   "cell_type": "markdown",
   "metadata": {},
   "source": [
    "#### Número de stopwords en el título  (cuando el texto no es vacío)"
   ]
  },
  {
   "cell_type": "code",
   "execution_count": 426,
   "metadata": {},
   "outputs": [
    {
     "data": {
      "image/png": "[encoded data removed]",
      "text/plain": [
       "<Figure size 432x288 with 1 Axes>"
      ]
     },
     "metadata": {
      "needs_background": "light"
     },
     "output_type": "display_data"
    }
   ],
   "source": [
    "hist = dfNegative.hist(column='stopwords_title', bins=100, range=(0,40)) "
   ]
  },
  {
   "cell_type": "markdown",
   "metadata": {},
   "source": [
    "#### Conteo de sentencias que tienen solo texto u título, ambas o ninguna."
   ]
  },
  {
   "cell_type": "code",
   "execution_count": 468,
   "metadata": {},
   "outputs": [
    {
     "data": {
      "text/plain": [
       "<matplotlib.axes._subplots.AxesSubplot at 0x1b4c56d0b8>"
      ]
     },
     "execution_count": 468,
     "metadata": {},
     "output_type": "execute_result"
    },
    {
     "data": {
      "image/png": "[encoded data removed]",
      "text/plain": [
       "<Figure size 432x288 with 1 Axes>"
      ]
     },
     "metadata": {
      "needs_background": "light"
     },
     "output_type": "display_data"
    }
   ],
   "source": [
    "dfNegative['title_or_text'].value_counts().plot(kind='bar')"
   ]
  },
  {
   "cell_type": "markdown",
   "metadata": {},
   "source": [
    "### Histograma con casos positivos"
   ]
  },
  {
   "cell_type": "markdown",
   "metadata": {},
   "source": [
    "#### Conteo de las palabras en el texto (de 1 a 100, sin contar los datos que están vacíos)."
   ]
  },
  {
   "cell_type": "code",
   "execution_count": 428,
   "metadata": {},
   "outputs": [
    {
     "data": {
      "image/png": "[encoded data removed]",
      "text/plain": [
       "<Figure size 432x288 with 1 Axes>"
      ]
     },
     "metadata": {
      "needs_background": "light"
     },
     "output_type": "display_data"
    }
   ],
   "source": [
    "hist = dfPositive.hist(column='word_count_text', bins=100, range=(1,100)) "
   ]
  },
  {
   "cell_type": "markdown",
   "metadata": {},
   "source": [
    "#### Conteo de las palabras en el título (de 1 a 100, sin contar los datos que están vacíos)."
   ]
  },
  {
   "cell_type": "code",
   "execution_count": 429,
   "metadata": {},
   "outputs": [
    {
     "data": {
      "image/png": "[encoded data removed]",
      "text/plain": [
       "<Figure size 432x288 with 1 Axes>"
      ]
     },
     "metadata": {
      "needs_background": "light"
     },
     "output_type": "display_data"
    }
   ],
   "source": [
    "hist = dfPositive.hist(column='word_count_title', bins=100, range=(1,100)) "
   ]
  },
  {
   "cell_type": "markdown",
   "metadata": {},
   "source": [
    "#### Conteo de caracteres en el texto (de 1 a 100, sin contar los datos que están vacíos)."
   ]
  },
  {
   "cell_type": "code",
   "execution_count": 430,
   "metadata": {},
   "outputs": [
    {
     "data": {
      "image/png": "[encoded data removed]",
      "text/plain": [
       "<Figure size 432x288 with 1 Axes>"
      ]
     },
     "metadata": {
      "needs_background": "light"
     },
     "output_type": "display_data"
    }
   ],
   "source": [
    "hist = dfPositive.hist(column='char_count_text', bins=100, range=(1,1000)) "
   ]
  },
  {
   "cell_type": "markdown",
   "metadata": {},
   "source": [
    "#### Conteo de caracteres en el título (de 1 a 100, sin contar los datos que están vacíos)."
   ]
  },
  {
   "cell_type": "code",
   "execution_count": 431,
   "metadata": {},
   "outputs": [
    {
     "data": {
      "image/png": "[encoded data removed]",
      "text/plain": [
       "<Figure size 432x288 with 1 Axes>"
      ]
     },
     "metadata": {
      "needs_background": "light"
     },
     "output_type": "display_data"
    }
   ],
   "source": [
    "hist = dfPositive.hist(column='char_count_title', bins=100, range=(1,100)) "
   ]
  },
  {
   "cell_type": "markdown",
   "metadata": {},
   "source": [
    "#### Promedio de caracteres por palabra en el título (mayores que 0)"
   ]
  },
  {
   "cell_type": "code",
   "execution_count": 432,
   "metadata": {},
   "outputs": [
    {
     "data": {
      "image/png": "[encoded data removed]",
      "text/plain": [
       "<Figure size 432x288 with 1 Axes>"
      ]
     },
     "metadata": {
      "needs_background": "light"
     },
     "output_type": "display_data"
    }
   ],
   "source": [
    "hist = dfPositive.hist(column='avg_word_title', bins=100, range=(1,20))"
   ]
  },
  {
   "cell_type": "markdown",
   "metadata": {},
   "source": [
    "#### Promedio de caracteres por palabra en el texto (mayores que 0)"
   ]
  },
  {
   "cell_type": "code",
   "execution_count": 433,
   "metadata": {},
   "outputs": [
    {
     "data": {
      "image/png": "[encoded data removed]",
      "text/plain": [
       "<Figure size 432x288 with 1 Axes>"
      ]
     },
     "metadata": {
      "needs_background": "light"
     },
     "output_type": "display_data"
    }
   ],
   "source": [
    "hist = dfPositive.hist(column='avg_word_text', bins=100, range=(1,20)) "
   ]
  },
  {
   "cell_type": "markdown",
   "metadata": {},
   "source": [
    "#### Número de stopwords en el texto (cuando el texto no es vacío)"
   ]
  },
  {
   "cell_type": "code",
   "execution_count": 434,
   "metadata": {},
   "outputs": [
    {
     "data": {
      "image/png": "[encoded data removed]",
      "text/plain": [
       "<Figure size 432x288 with 1 Axes>"
      ]
     },
     "metadata": {
      "needs_background": "light"
     },
     "output_type": "display_data"
    }
   ],
   "source": [
    "hist = dfPositive.hist(column='stopwords_text', bins=100, range=(0,100)) "
   ]
  },
  {
   "cell_type": "markdown",
   "metadata": {},
   "source": [
    "#### Número de stopwords en el título  (cuando el texto no es vacío)"
   ]
  },
  {
   "cell_type": "code",
   "execution_count": 435,
   "metadata": {},
   "outputs": [
    {
     "data": {
      "image/png": "[encoded data removed]",
      "text/plain": [
       "<Figure size 432x288 with 1 Axes>"
      ]
     },
     "metadata": {
      "needs_background": "light"
     },
     "output_type": "display_data"
    }
   ],
   "source": [
    "hist = dfPositive.hist(column='stopwords_title', bins=100, range=(0,40))"
   ]
  },
  {
   "cell_type": "markdown",
   "metadata": {},
   "source": [
    "#### Conteo de sentencias que tienen solo texto u título, ambas o ninguna."
   ]
  },
  {
   "cell_type": "code",
   "execution_count": 467,
   "metadata": {},
   "outputs": [
    {
     "data": {
      "text/plain": [
       "<matplotlib.axes._subplots.AxesSubplot at 0x1b4c5c17f0>"
      ]
     },
     "execution_count": 467,
     "metadata": {},
     "output_type": "execute_result"
    },
    {
     "data": {
      "image/png": "[encoded data removed]",
      "text/plain": [
       "<Figure size 432x288 with 1 Axes>"
      ]
     },
     "metadata": {
      "needs_background": "light"
     },
     "output_type": "display_data"
    }
   ],
   "source": [
    "dfPositive['title_or_text'].value_counts().plot(kind='bar')"
   ]
  },
  {
   "cell_type": "markdown",
   "metadata": {},
   "source": [
    "### Histogramas con datos conjuntos"
   ]
  },
  {
   "cell_type": "markdown",
   "metadata": {},
   "source": [
    "Los datos del dataset con datos con diagnóstico negativo están en rojo y los datos con el diagnóstico positivo están en verde."
   ]
  },
  {
   "cell_type": "markdown",
   "metadata": {},
   "source": [
    "#### Conteo de las palabras en el texto (de 1 a 100, sin contar los datos que están vacíos)."
   ]
  },
  {
   "cell_type": "markdown",
   "metadata": {},
   "source": [
    "Se puede ver que los datos de pacientes con diagnóstico positivo de depresión tienden a tener texto con más palabras."
   ]
  },
  {
   "cell_type": "code",
   "execution_count": 437,
   "metadata": {},
   "outputs": [
    {
     "data": {
      "text/plain": [
       "<BarContainer object of 20 artists>"
      ]
     },
     "execution_count": 437,
     "metadata": {},
     "output_type": "execute_result"
    },
    {
     "data": {
      "image/png": "[encoded data removed]",
      "text/plain": [
       "<Figure size 432x288 with 1 Axes>"
      ]
     },
     "metadata": {
      "needs_background": "light"
     },
     "output_type": "display_data"
    }
   ],
   "source": [
    "fig, ax = plt.subplots()\n",
    "\n",
    "a_heights, a_bins = np.histogram(dfNegative['word_count_text'], bins=20, range=(1,100))\n",
    "b_heights, b_bins = np.histogram(dfPositive['word_count_text'], bins=20, range=(1,100))\n",
    "\n",
    "width = (a_bins[1] - a_bins[0])/3\n",
    "\n",
    "ax.bar(a_bins[:-1], a_heights, width=width, facecolor='red')\n",
    "ax.bar(b_bins[:-1]+width, b_heights, width=width, facecolor='seagreen')"
   ]
  },
  {
   "cell_type": "markdown",
   "metadata": {},
   "source": [
    "#### Conteo de las palabras en el título (de 1 a 100, sin contar los datos que están vacíos)."
   ]
  },
  {
   "cell_type": "markdown",
   "metadata": {},
   "source": [
    "Se puede ver que los datos de pacientes con diagnóstico negativo de depresión tienden a tener títulos con más palabras."
   ]
  },
  {
   "cell_type": "code",
   "execution_count": 438,
   "metadata": {},
   "outputs": [
    {
     "data": {
      "text/plain": [
       "<BarContainer object of 20 artists>"
      ]
     },
     "execution_count": 438,
     "metadata": {},
     "output_type": "execute_result"
    },
    {
     "data": {
      "image/png": "[encoded data removed]",
      "text/plain": [
       "<Figure size 432x288 with 1 Axes>"
      ]
     },
     "metadata": {
      "needs_background": "light"
     },
     "output_type": "display_data"
    }
   ],
   "source": [
    "fig, ax = plt.subplots()\n",
    "\n",
    "a_heights, a_bins = np.histogram(dfNegative['word_count_title'], bins=20, range=(1,60))\n",
    "b_heights, b_bins = np.histogram(dfPositive['word_count_title'], bins=20, range=(1,60))\n",
    "\n",
    "width = (a_bins[1] - a_bins[0])/3\n",
    "\n",
    "ax.bar(a_bins[:-1], a_heights, width=width, facecolor='red')\n",
    "ax.bar(b_bins[:-1]+width, b_heights, width=width, facecolor='seagreen')"
   ]
  },
  {
   "cell_type": "markdown",
   "metadata": {},
   "source": [
    "#### Conteo de las caracteres en el texto (de 1 a 100, sin contar los datos que están vacíos)."
   ]
  },
  {
   "cell_type": "markdown",
   "metadata": {},
   "source": [
    "Se puede ver que los datos de pacientes con diagnóstico positivo de depresión tienden a tener texto con más caracteres."
   ]
  },
  {
   "cell_type": "code",
   "execution_count": 442,
   "metadata": {},
   "outputs": [
    {
     "data": {
      "text/plain": [
       "<BarContainer object of 20 artists>"
      ]
     },
     "execution_count": 442,
     "metadata": {},
     "output_type": "execute_result"
    },
    {
     "data": {
      "image/png": "[encoded data removed]",
      "text/plain": [
       "<Figure size 432x288 with 1 Axes>"
      ]
     },
     "metadata": {
      "needs_background": "light"
     },
     "output_type": "display_data"
    }
   ],
   "source": [
    "fig, ax = plt.subplots()\n",
    "\n",
    "a_heights, a_bins = np.histogram(dfNegative['char_count_text'], bins=20, range=(1,1000))\n",
    "b_heights, b_bins = np.histogram(dfPositive['char_count_text'], bins=20, range=(1,1000))\n",
    "\n",
    "width = (a_bins[1] - a_bins[0])/3\n",
    "\n",
    "ax.bar(a_bins[:-1], a_heights, width=width, facecolor='red')\n",
    "ax.bar(b_bins[:-1]+width, b_heights, width=width, facecolor='seagreen')"
   ]
  },
  {
   "cell_type": "markdown",
   "metadata": {},
   "source": [
    "#### Conteo de las caracteres en el título (de 1 a 100, sin contar los datos que están vacíos)."
   ]
  },
  {
   "cell_type": "markdown",
   "metadata": {},
   "source": [
    "Se puede ver que los datos de pacientes con diagnóstico negativo de depresión tienden a tener títulos con más caracteres."
   ]
  },
  {
   "cell_type": "code",
   "execution_count": 476,
   "metadata": {},
   "outputs": [
    {
     "data": {
      "text/plain": [
       "<BarContainer object of 20 artists>"
      ]
     },
     "execution_count": 476,
     "metadata": {},
     "output_type": "execute_result"
    },
    {
     "data": {
      "image/png": "[encoded data removed]",
      "text/plain": [
       "<Figure size 432x288 with 1 Axes>"
      ]
     },
     "metadata": {
      "needs_background": "light"
     },
     "output_type": "display_data"
    }
   ],
   "source": [
    "fig, ax = plt.subplots()\n",
    "\n",
    "a_heights, a_bins = np.histogram(dfNegative['char_count_title'], bins=20, range=(1,200))\n",
    "b_heights, b_bins = np.histogram(dfPositive['char_count_title'], bins=20, range=(1,200))\n",
    "\n",
    "width = (a_bins[1] - a_bins[0])/3\n",
    "\n",
    "ax.bar(a_bins[:-1], a_heights, width=width, facecolor='red')\n",
    "ax.bar(b_bins[:-1]+width, b_heights, width=width, facecolor='seagreen')"
   ]
  },
  {
   "cell_type": "markdown",
   "metadata": {},
   "source": [
    "#### Promedio de caracteres por palabras en el texto (de 1 a 10, sin contar los datos que están vacíos)."
   ]
  },
  {
   "cell_type": "markdown",
   "metadata": {},
   "source": [
    "Se puede ver que los datos de pacientes con diagnóstico positivo de depresión tienden a tener texto con más caracteres."
   ]
  },
  {
   "cell_type": "code",
   "execution_count": 448,
   "metadata": {},
   "outputs": [
    {
     "data": {
      "text/plain": [
       "<BarContainer object of 20 artists>"
      ]
     },
     "execution_count": 448,
     "metadata": {},
     "output_type": "execute_result"
    },
    {
     "data": {
      "image/png": "[encoded data removed]",
      "text/plain": [
       "<Figure size 432x288 with 1 Axes>"
      ]
     },
     "metadata": {
      "needs_background": "light"
     },
     "output_type": "display_data"
    }
   ],
   "source": [
    "fig, ax = plt.subplots()\n",
    "\n",
    "a_heights, a_bins = np.histogram(dfNegative['avg_word_text'], bins=20, range=(1,10))\n",
    "b_heights, b_bins = np.histogram(dfPositive['avg_word_text'], bins=20, range=(1,10))\n",
    "\n",
    "width = (a_bins[1] - a_bins[0])/3\n",
    "\n",
    "ax.bar(a_bins[:-1], a_heights, width=width, facecolor='red')\n",
    "ax.bar(b_bins[:-1]+width, b_heights, width=width, facecolor='seagreen')"
   ]
  },
  {
   "cell_type": "markdown",
   "metadata": {},
   "source": [
    "#### Promedio de caracteres por palabras en el título (de 1 a 10, sin contar los datos que están vacíos)."
   ]
  },
  {
   "cell_type": "markdown",
   "metadata": {},
   "source": [
    "Se puede ver que los datos de pacientes con diagnóstico negativo de depresión tienden a tener palabras más largas en el título."
   ]
  },
  {
   "cell_type": "code",
   "execution_count": 479,
   "metadata": {},
   "outputs": [
    {
     "data": {
      "text/plain": [
       "<BarContainer object of 20 artists>"
      ]
     },
     "execution_count": 479,
     "metadata": {},
     "output_type": "execute_result"
    },
    {
     "data": {
      "image/png": "[encoded data removed]",
      "text/plain": [
       "<Figure size 432x288 with 1 Axes>"
      ]
     },
     "metadata": {
      "needs_background": "light"
     },
     "output_type": "display_data"
    }
   ],
   "source": [
    "fig, ax = plt.subplots()\n",
    "\n",
    "a_heights, a_bins = np.histogram(dfNegative['avg_word_title'], bins=20, range=(1,10))\n",
    "b_heights, b_bins = np.histogram(dfPositive['avg_word_title'], bins=20, range=(1,10))\n",
    "\n",
    "width = (a_bins[1] - a_bins[0])/3\n",
    "\n",
    "ax.bar(a_bins[:-1], a_heights, width=width, facecolor='red')\n",
    "ax.bar(b_bins[:-1]+width, b_heights, width=width, facecolor='seagreen')"
   ]
  },
  {
   "cell_type": "markdown",
   "metadata": {},
   "source": [
    "#### Número de stopwords en el título (de 1 a 20, sin contar los datos que están vacíos)."
   ]
  },
  {
   "cell_type": "markdown",
   "metadata": {},
   "source": [
    "Se puede ver que los datos de pacientes con diagnóstico negativo de depresión tienden a tener palabras más largas en el texto."
   ]
  },
  {
   "cell_type": "code",
   "execution_count": 451,
   "metadata": {},
   "outputs": [
    {
     "data": {
      "text/plain": [
       "<BarContainer object of 20 artists>"
      ]
     },
     "execution_count": 451,
     "metadata": {},
     "output_type": "execute_result"
    },
    {
     "data": {
      "image/png": "[encoded data removed]",
      "text/plain": [
       "<Figure size 432x288 with 1 Axes>"
      ]
     },
     "metadata": {
      "needs_background": "light"
     },
     "output_type": "display_data"
    }
   ],
   "source": [
    "fig, ax = plt.subplots()\n",
    "\n",
    "a_heights, a_bins = np.histogram(dfNegative['stopwords_title'], bins=20, range=(1,20))\n",
    "b_heights, b_bins = np.histogram(dfPositive['stopwords_title'], bins=20, range=(1,20))\n",
    "\n",
    "width = (a_bins[1] - a_bins[0])/3\n",
    "\n",
    "ax.bar(a_bins[:-1], a_heights, width=width, facecolor='red')\n",
    "ax.bar(b_bins[:-1]+width, b_heights, width=width, facecolor='seagreen')"
   ]
  },
  {
   "cell_type": "markdown",
   "metadata": {},
   "source": [
    "#### Número de stopwords en el texto (de 1 a 20, sin contar los datos que están vacíos)."
   ]
  },
  {
   "cell_type": "code",
   "execution_count": null,
   "metadata": {},
   "outputs": [],
   "source": [
    "Se puede ver que los datos de pacientes con diagnóstico negativo de depresión tienden a tener más stopwords en el texto."
   ]
  },
  {
   "cell_type": "code",
   "execution_count": 452,
   "metadata": {},
   "outputs": [
    {
     "data": {
      "text/plain": [
       "<BarContainer object of 20 artists>"
      ]
     },
     "execution_count": 452,
     "metadata": {},
     "output_type": "execute_result"
    },
    {
     "data": {
      "image/png": "[encoded data removed]",
      "text/plain": [
       "<Figure size 432x288 with 1 Axes>"
      ]
     },
     "metadata": {
      "needs_background": "light"
     },
     "output_type": "display_data"
    }
   ],
   "source": [
    "fig, ax = plt.subplots()\n",
    "\n",
    "a_heights, a_bins = np.histogram(dfNegative['stopwords_text'], bins=20, range=(1,20))\n",
    "b_heights, b_bins = np.histogram(dfPositive['stopwords_text'], bins=20, range=(1,20))\n",
    "\n",
    "width = (a_bins[1] - a_bins[0])/3\n",
    "\n",
    "ax.bar(a_bins[:-1], a_heights, width=width, facecolor='red')\n",
    "ax.bar(b_bins[:-1]+width, b_heights, width=width, facecolor='seagreen')"
   ]
  },
  {
   "cell_type": "markdown",
   "metadata": {},
   "source": [
    "#### Número de stopwords en el título (de 1 a 20, sin contar los datos que están vacíos)."
   ]
  },
  {
   "cell_type": "markdown",
   "metadata": {},
   "source": [
    "Se puede ver que los datos de pacientes con diagnóstico negativo de depresión tienden a tener más stopwords en el título."
   ]
  },
  {
   "cell_type": "code",
   "execution_count": 481,
   "metadata": {},
   "outputs": [
    {
     "data": {
      "text/plain": [
       "<BarContainer object of 20 artists>"
      ]
     },
     "execution_count": 481,
     "metadata": {},
     "output_type": "execute_result"
    },
    {
     "data": {
      "image/png": "[encoded data removed]",
      "text/plain": [
       "<Figure size 432x288 with 1 Axes>"
      ]
     },
     "metadata": {
      "needs_background": "light"
     },
     "output_type": "display_data"
    }
   ],
   "source": [
    "fig, ax = plt.subplots()\n",
    "\n",
    "a_heights, a_bins = np.histogram(dfNegative['stopwords_text'], bins=20, range=(1,20))\n",
    "b_heights, b_bins = np.histogram(dfPositive['stopwords_text'], bins=20, range=(1,20))\n",
    "\n",
    "width = (a_bins[1] - a_bins[0])/3\n",
    "\n",
    "ax.bar(a_bins[:-1], a_heights, width=width, facecolor='red')\n",
    "ax.bar(b_bins[:-1]+width, b_heights, width=width, facecolor='seagreen')"
   ]
  },
  {
   "cell_type": "markdown",
   "metadata": {},
   "source": [
    "#### Conteo de sentencias que tienen solo texto u título, ambas o ninguna."
   ]
  },
  {
   "cell_type": "markdown",
   "metadata": {},
   "source": [
    "Se puede ver que para los diagnósticos positivos hay más ocurrencias con solo título que en los diagnósticos negativos."
   ]
  },
  {
   "cell_type": "code",
   "execution_count": 471,
   "metadata": {},
   "outputs": [
    {
     "data": {
      "image/png": "[encoded data removed]",
      "text/plain": [
       "<Figure size 432x288 with 2 Axes>"
      ]
     },
     "metadata": {
      "needs_background": "light"
     },
     "output_type": "display_data"
    }
   ],
   "source": [
    "fig = plt.figure()\n",
    "ax = fig.add_subplot(111)\n",
    "ax2 = ax.twinx() \n",
    "\n",
    "width = 0.4\n",
    "\n",
    "dfPositive['title_or_text'].value_counts().plot(kind='bar', color='red', ax=ax, width=width, position=1)\n",
    "dfNegative['title_or_text'].value_counts().plot(kind='bar', color='seagreen', ax=ax2, width=width, position=2)\n",
    "\n",
    "plt.show()"
   ]
  },
  {
   "cell_type": "code",
   "execution_count": null,
   "metadata": {},
   "outputs": [],
   "source": []
  }
 ],
 "metadata": {
  "kernelspec": {
   "display_name": "Python 3",
   "language": "python",
   "name": "python3"
  },
  "language_info": {
   "codemirror_mode": {
    "name": "ipython",
    "version": 3
   },
   "file_extension": ".py",
   "mimetype": "text/x-python",
   "name": "python",
   "nbconvert_exporter": "python",
   "pygments_lexer": "ipython3",
   "version": "3.7.3"
  }
 },
 "nbformat": 4,
 "nbformat_minor": 2
}
