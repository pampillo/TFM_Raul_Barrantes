{
 "cells": [
  {
   "cell_type": "markdown",
   "metadata": {},
   "source": [
    "## Parte 3 "
   ]
  },
  {
   "cell_type": "markdown",
   "metadata": {},
   "source": [
    "### Análisis de componentes no analizados"
   ]
  },
  {
   "cell_type": "markdown",
   "metadata": {},
   "source": [
    "#### Generacion de archivos con datos no procesados"
   ]
  },
  {
   "cell_type": "markdown",
   "metadata": {},
   "source": [
    "Se extraen los textos que no han sido procesados:"
   ]
  },
  {
   "cell_type": "code",
   "execution_count": 3,
   "metadata": {},
   "outputs": [],
   "source": [
    "import pandas as pd\n",
    "import numpy as np\n",
    "dfNegativeNo = pd.read_json('dfNegative.json')\n",
    "dfNegativeNo = dfNegativeNo.dropna()\n",
    "dfNegativeNo = dfNegativeNo[~dfNegativeNo['tree'].str.contains(\"Root\").fillna(False)]\n",
    "dfNegativeNo['tree'] =  np.nan\n",
    "dfNegativeNo.to_json(r'dfNegativeNo.json')"
   ]
  },
  {
   "cell_type": "code",
   "execution_count": 4,
   "metadata": {},
   "outputs": [],
   "source": [
    "dfPositiveNo = pd.read_json('dfPositive.json')\n",
    "dfPositiveNo = dfPositiveNo.dropna()\n",
    "dfPositiveNo = dfPositiveNo[~dfPositiveNo['tree'].str.contains(\"Root\").fillna(False)]\n",
    "dfPositiveNo['tree'] =  np.nan\n",
    "dfPositiveNo.to_json(r'dfPositiveNo.json')"
   ]
  },
  {
   "cell_type": "markdown",
   "metadata": {},
   "source": [
    "#### Análisis de componentes"
   ]
  },
  {
   "cell_type": "markdown",
   "metadata": {},
   "source": [
    "Se hacen los analisis de los componentes que no se procesaron (alrededor de un 50% de los casos):"
   ]
  },
  {
   "cell_type": "code",
   "execution_count": 17,
   "metadata": {},
   "outputs": [],
   "source": [
    "import os\n",
    "import docker\n",
    "import math\n",
    "import signal\n",
    "import multiprocessing\n",
    "import time\n",
    "import pickle5 as pickle\n",
    "import numpy as np\n",
    "\n",
    "client = docker.from_env()\n",
    "from IPython.display import clear_output\n",
    "\n",
    "\n",
    "class TimeoutException(Exception): \n",
    "    pass\n",
    "\n",
    "def timeout_handler(signum, frame): \n",
    "    raise TimeoutException\n",
    "\n",
    "signal.signal(signal.SIGALRM, timeout_handler)\n",
    "\n",
    "def coherence(row):\n",
    "\n",
    "    if((pd.isna(row[\"tree\"]))):\n",
    "        os.system(\"echo '\"+row['text']+\"' > input.txt\")\n",
    "        os.system(\"cp input.txt /Users/raulbarrantes/tmp/\")\n",
    "        clear_output(wait=True)\n",
    "        print(row.name)\n",
    "        signal.alarm(360)\n",
    "        try:\n",
    "            return client.containers.run(\"nlpbox/codra\", \"/tmp/input.txt\",  tty=True, volumes={'/Users/raulbarrantes/tmp': {'bind': '/tmp/'}},)\n",
    "        except TimeoutException: \n",
    "            return \"Timeout\"\n",
    "        except:\n",
    "            return \"Error del formato de archivo\"\n",
    "    else:\n",
    "        return row[\"tree\"]\n",
    "    \n"
   ]
  },
  {
   "cell_type": "code",
   "execution_count": null,
   "metadata": {},
   "outputs": [],
   "source": [
    "for n in range(0, 5000, 50):\n",
    "    dfNegativeNo['tree'] = dfNegativeNo.iloc[0:n+1].apply(coherence,axis=1)\n",
    "    dfNegativeNo.to_json(r'dfNegativeNo.json')"
   ]
  },
  {
   "cell_type": "code",
   "execution_count": null,
   "metadata": {},
   "outputs": [],
   "source": [
    "for n in range(0, 5000, 50):\n",
    "    dfPositiveNo['tree'] = dfPositiveNo.iloc[0:n+1].apply(coherence,axis=1)\n",
    "    dfPositiveNo.to_json(r'dfPositiveNo.json')"
   ]
  },
  {
   "cell_type": "code",
   "execution_count": 5,
   "metadata": {},
   "outputs": [],
   "source": [
    "dfNegativeNo = pd.read_json('dfNegativeNo.json')"
   ]
  },
  {
   "cell_type": "code",
   "execution_count": 6,
   "metadata": {},
   "outputs": [],
   "source": [
    "dfPositiveNo = pd.read_json('dfPositiveNo.json')"
   ]
  },
  {
   "cell_type": "markdown",
   "metadata": {},
   "source": [
    "### Análisis de patrones en los textos"
   ]
  },
  {
   "cell_type": "code",
   "execution_count": 35,
   "metadata": {},
   "outputs": [],
   "source": [
    "import pandas as pd\n",
    "dfNegative = pd.read_json('dfNegative.json')\n",
    "dfPositive = pd.read_json('dfPositive.json')\n",
    "dfPositive = dfPositive.dropna()\n",
    "dfPositive = dfPositive[dfPositive['tree']!='No']\n",
    "dfPositive = dfPositive[dfPositive['tree'].str.contains(\"Root\").fillna(False)]\n",
    "dfNegative = dfNegative.dropna()\n",
    "dfNegative = dfNegative[dfNegative['tree']!='No']\n",
    "dfNegative = dfNegative[dfNegative['tree'].str.contains(\"Root\").fillna(False)]"
   ]
  },
  {
   "cell_type": "code",
   "execution_count": 36,
   "metadata": {},
   "outputs": [],
   "source": [
    "dfNegative = dfNegative.reset_index(drop=True)\n",
    "dfPositive = dfPositive.reset_index(drop=True)"
   ]
  },
  {
   "cell_type": "markdown",
   "metadata": {},
   "source": [
    "Se guardan los textos en una archivo json."
   ]
  },
  {
   "cell_type": "code",
   "execution_count": 45,
   "metadata": {},
   "outputs": [],
   "source": [
    "dfNegative.to_json(r'dfNegativeSi.json')\n",
    "dfPositive.to_json(r'dfPositiveSi.json')"
   ]
  },
  {
   "cell_type": "markdown",
   "metadata": {},
   "source": [
    "### Extracción de estructura de los textos"
   ]
  },
  {
   "cell_type": "markdown",
   "metadata": {},
   "source": [
    "Se extraen los textos mediante regex:"
   ]
  },
  {
   "cell_type": "code",
   "execution_count": 222,
   "metadata": {},
   "outputs": [
    {
     "data": {
      "text/plain": [
       "'(Nucleus(\\x01)(Satellite(Nucleus(\\x01)(Satellite))(Nucleus(\\x01)(\\x01))))(Satellite)'"
      ]
     },
     "execution_count": 222,
     "metadata": {},
     "output_type": "execute_result"
    }
   ],
   "source": [
    "a = re.sub(r\"\\( (Nucleus).*\\) \\)\", \"(\\1)\", dfPositive['tree'].iloc[18000])\n",
    "b = re.sub(r\"\\( (Satellite).*\\) \\)\", \"(Satellite)\",a)\n",
    "c = re.sub(r\"\\( (Nucleus) .*\\)\", \"(Nucleus\", b)\n",
    "d = re.sub(r\"\\( (Satellite) .*\\)\", \"(Satellite\",c)\n",
    "e = re.sub(r\"\\( (Satellite) .*\\)\", \"(Satellite\",d)\n",
    "f = re.sub(r\"\\( Root .*\\n\", \"\",e)\n",
    "g = re.sub(r\"\\n\", \"\",f)\n",
    "h = re.sub(r\" \", \"\",g)\n",
    "i = re.sub(r\"\\r\", \"\",h)\n",
    "j = re.sub(r\"\\)$\", \"\",i)\n",
    "j"
   ]
  },
  {
   "cell_type": "code",
   "execution_count": 203,
   "metadata": {},
   "outputs": [],
   "source": [
    "import re\n",
    "def get_structure(sentence):\n",
    "    a = re.sub(r\"\\( (Nucleus).*\\) \\)\", \"(/1)\", sentence)\n",
    "    b = re.sub(r\"\\( (Satellite).*\\) \\)\", \"(Satellite)\",a)\n",
    "    c = re.sub(r\"\\( (Nucleus) .*\\)\", \"(Nucleus\", b)\n",
    "    d = re.sub(r\"\\( (Satellite) .*\\)\", \"(Satellite\",c)\n",
    "    e = re.sub(r\"\\( (Satellite) .*\\)\", \"(Satellite\",d)\n",
    "    f = re.sub(r\"\\( Root .*\\n\", \"\",e)\n",
    "    g = re.sub(r\"\\n\", \"\",f)\n",
    "    h = re.sub(r\" \", \"\",g)\n",
    "    i = re.sub(r\"\\r\", \"\",h)\n",
    "    j = re.sub(r\"\\)$\", \"\",i)\n",
    "    return j"
   ]
  },
  {
   "cell_type": "code",
   "execution_count": 204,
   "metadata": {},
   "outputs": [],
   "source": [
    "dfPositive['structure'] = dfPositive['tree'].apply(lambda x: get_structure(x))\n",
    "dfNegative['structure'] = dfNegative['tree'].apply(lambda x: get_structure(x))"
   ]
  },
  {
   "cell_type": "markdown",
   "metadata": {},
   "source": [
    "Aquí se muestran las estructuras más comunes del corpus positivo:"
   ]
  },
  {
   "cell_type": "code",
   "execution_count": 285,
   "metadata": {},
   "outputs": [
    {
     "data": {
      "text/plain": [
       "(Nucleus)(Satellite)                        1798\n",
       "(Satellite)(Nucleus)                         805\n",
       "(Nucleus)(Satellite(Nucleus)(Satellite))     519\n",
       "(Nucleus)(Nucleus)                           437\n",
       "(Nucleus(Nucleus)(Satellite))(Satellite)     430\n",
       "(Nucleus)(Satellite(Satellite)(Nucleus))     259\n",
       "(Satellite)(Nucleus(Nucleus)(Satellite))     257\n",
       "(Nucleus(Nucleus)(Satellite))(Nucleus)       245\n",
       "(Nucleus)(Nucleus(Nucleus)(Satellite))       235\n",
       "(Nucleus)(Satellite(Nucleus)(Nucleus))       206\n",
       "Name: structure, dtype: int64"
      ]
     },
     "execution_count": 285,
     "metadata": {},
     "output_type": "execute_result"
    }
   ],
   "source": [
    "dfPositive['structure'].value_counts()[:10]"
   ]
  },
  {
   "cell_type": "markdown",
   "metadata": {},
   "source": [
    "Aquí se muestran las estructuras más comunes del corpus negativo:"
   ]
  },
  {
   "cell_type": "code",
   "execution_count": 286,
   "metadata": {},
   "outputs": [
    {
     "data": {
      "text/plain": [
       "(Nucleus)(Satellite)                        5069\n",
       "(Satellite)(Nucleus)                        1440\n",
       "(Nucleus)(Satellite(Nucleus)(Satellite))    1116\n",
       "(Nucleus)(Nucleus)                           710\n",
       "(Nucleus(Nucleus)(Satellite))(Satellite)     633\n",
       "(Nucleus(Nucleus)(Satellite))(Nucleus)       590\n",
       "(Nucleus)(Satellite(Satellite)(Nucleus))     424\n",
       "(Satellite)(Nucleus(Nucleus)(Satellite))     405\n",
       "(Nucleus)(Nucleus(Nucleus)(Satellite))       370\n",
       "(Nucleus(Satellite)(Nucleus))(Satellite)     314\n",
       "Name: structure, dtype: int64"
      ]
     },
     "execution_count": 286,
     "metadata": {},
     "output_type": "execute_result"
    }
   ],
   "source": [
    "dfNegative['structure'].value_counts()[:10]"
   ]
  },
  {
   "cell_type": "markdown",
   "metadata": {},
   "source": [
    "### Cálculo de la profundidad de los textos"
   ]
  },
  {
   "cell_type": "markdown",
   "metadata": {},
   "source": [
    "Se calcula la profundidad de las oraciones y sentencias."
   ]
  },
  {
   "cell_type": "code",
   "execution_count": 281,
   "metadata": {},
   "outputs": [],
   "source": [
    "def deepness(str_):\n",
    "    count = 0\n",
    "    a = 0\n",
    "    for c in str_:\n",
    "        if (c == ')'):\n",
    "            count += 1\n",
    "        else:\n",
    "            if (count > a):\n",
    "                a = count\n",
    "            count = 0\n",
    "    if (count > a):\n",
    "        a = count\n",
    "    return a"
   ]
  },
  {
   "cell_type": "code",
   "execution_count": 282,
   "metadata": {},
   "outputs": [],
   "source": [
    "dfPositive['deepness'] = dfPositive['structure'].apply(lambda x: deepness(x))\n",
    "dfNegative['deepness'] = dfNegative['structure'].apply(lambda x: deepness(x))"
   ]
  },
  {
   "cell_type": "code",
   "execution_count": 292,
   "metadata": {},
   "outputs": [
    {
     "data": {
      "text/plain": [
       "<BarContainer object of 5 artists>"
      ]
     },
     "execution_count": 292,
     "metadata": {},
     "output_type": "execute_result"
    },
    {
     "data": {
      "image/png": "[encoded data removed]",
      "text/plain": [
       "<Figure size 432x288 with 1 Axes>"
      ]
     },
     "metadata": {
      "needs_background": "light"
     },
     "output_type": "display_data"
    }
   ],
   "source": [
    "import matplotlib.pyplot as plt\n",
    "import numpy as np\n",
    "fig, ax = plt.subplots()\n",
    "\n",
    "a_heights, a_bins = np.histogram(dfNegative['deepness'], bins=5, range=(1,10))\n",
    "b_heights, b_bins = np.histogram(dfPositive['deepness'], bins=5, range=(1,10))\n",
    "\n",
    "width = (a_bins[1] - a_bins[0])/3\n",
    "\n",
    "ax.bar(a_bins[:-1], a_heights, width=width, facecolor='red')\n",
    "ax.bar(b_bins[:-1]+width, b_heights, width=width, facecolor='seagreen')"
   ]
  },
  {
   "cell_type": "markdown",
   "metadata": {},
   "source": [
    "### Medias"
   ]
  },
  {
   "cell_type": "code",
   "execution_count": 293,
   "metadata": {},
   "outputs": [
    {
     "data": {
      "text/plain": [
       "3.1986943880629766"
      ]
     },
     "execution_count": 293,
     "metadata": {},
     "output_type": "execute_result"
    }
   ],
   "source": [
    "dfPositive[\"deepness\"].mean()"
   ]
  },
  {
   "cell_type": "code",
   "execution_count": 295,
   "metadata": {},
   "outputs": [
    {
     "data": {
      "text/plain": [
       "2.693697055640557"
      ]
     },
     "execution_count": 295,
     "metadata": {},
     "output_type": "execute_result"
    }
   ],
   "source": [
    "dfNegative[\"deepness\"].mean()"
   ]
  },
  {
   "cell_type": "markdown",
   "metadata": {},
   "source": [
    "### Medianas"
   ]
  },
  {
   "cell_type": "code",
   "execution_count": 296,
   "metadata": {},
   "outputs": [
    {
     "data": {
      "text/plain": [
       "3.0"
      ]
     },
     "execution_count": 296,
     "metadata": {},
     "output_type": "execute_result"
    }
   ],
   "source": [
    "dfPositive[\"deepness\"].median()"
   ]
  },
  {
   "cell_type": "code",
   "execution_count": 297,
   "metadata": {},
   "outputs": [
    {
     "data": {
      "text/plain": [
       "2.0"
      ]
     },
     "execution_count": 297,
     "metadata": {},
     "output_type": "execute_result"
    }
   ],
   "source": [
    "dfNegative[\"deepness\"].median()"
   ]
  },
  {
   "cell_type": "code",
   "execution_count": null,
   "metadata": {},
   "outputs": [],
   "source": []
  }
 ],
 "metadata": {
  "kernelspec": {
   "display_name": "Python 3",
   "language": "python",
   "name": "python3"
  },
  "language_info": {
   "codemirror_mode": {
    "name": "ipython",
    "version": 3
   },
   "file_extension": ".py",
   "mimetype": "text/x-python",
   "name": "python",
   "nbconvert_exporter": "python",
   "pygments_lexer": "ipython3",
   "version": "3.7.3"
  }
 },
 "nbformat": 4,
 "nbformat_minor": 2
}
