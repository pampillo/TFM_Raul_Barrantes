{
 "cells": [
  {
   "cell_type": "markdown",
   "metadata": {},
   "source": [
    "## Parte 3 "
   ]
  },
  {
   "cell_type": "markdown",
   "metadata": {},
   "source": [
    "### Análisis de componentes no analizados"
   ]
  },
  {
   "cell_type": "markdown",
   "metadata": {},
   "source": [
    "#### Generacion de archivos con datos no procesados"
   ]
  },
  {
   "cell_type": "markdown",
   "metadata": {},
   "source": [
    "Se extraen los textos que no han sido procesados:"
   ]
  },
  {
   "cell_type": "code",
   "execution_count": 3,
   "metadata": {},
   "outputs": [],
   "source": [
    "import pandas as pd\n",
    "import numpy as np\n",
    "dfNegativeNo = pd.read_json('dfNegative.json')\n",
    "dfNegativeNo = dfNegativeNo.dropna()\n",
    "dfNegativeNo = dfNegativeNo[~dfNegativeNo['tree'].str.contains(\"Root\").fillna(False)]\n",
    "dfNegativeNo['tree'] =  np.nan\n",
    "dfNegativeNo.to_json(r'dfNegativeNo.json')"
   ]
  },
  {
   "cell_type": "code",
   "execution_count": 4,
   "metadata": {},
   "outputs": [],
   "source": [
    "dfPositiveNo = pd.read_json('dfPositive.json')\n",
    "dfPositiveNo = dfPositiveNo.dropna()\n",
    "dfPositiveNo = dfPositiveNo[~dfPositiveNo['tree'].str.contains(\"Root\").fillna(False)]\n",
    "dfPositiveNo['tree'] =  np.nan\n",
    "dfPositiveNo.to_json(r'dfPositiveNo.json')"
   ]
  },
  {
   "cell_type": "markdown",
   "metadata": {},
   "source": [
    "#### Análisis de componentes"
   ]
  },
  {
   "cell_type": "markdown",
   "metadata": {},
   "source": [
    "Se hacen los analisis de los componentes que no se procesaron (alrededor de un 50% de los casos):"
   ]
  },
  {
   "cell_type": "code",
   "execution_count": 17,
   "metadata": {},
   "outputs": [],
   "source": [
    "import os\n",
    "import docker\n",
    "import math\n",
    "import signal\n",
    "import multiprocessing\n",
    "import time\n",
    "import pickle5 as pickle\n",
    "import numpy as np\n",
    "\n",
    "client = docker.from_env()\n",
    "from IPython.display import clear_output\n",
    "\n",
    "\n",
    "class TimeoutException(Exception): \n",
    "    pass\n",
    "\n",
    "def timeout_handler(signum, frame): \n",
    "    raise TimeoutException\n",
    "\n",
    "signal.signal(signal.SIGALRM, timeout_handler)\n",
    "\n",
    "def coherence(row):\n",
    "\n",
    "    if((pd.isna(row[\"tree\"]))):\n",
    "        os.system(\"echo '\"+row['text']+\"' > input.txt\")\n",
    "        os.system(\"cp input.txt /Users/raulbarrantes/tmp/\")\n",
    "        clear_output(wait=True)\n",
    "        print(row.name)\n",
    "        signal.alarm(360)\n",
    "        try:\n",
    "            return client.containers.run(\"nlpbox/codra\", \"/tmp/input.txt\",  tty=True, volumes={'/Users/raulbarrantes/tmp': {'bind': '/tmp/'}},)\n",
    "        except TimeoutException: \n",
    "            return \"Timeout\"\n",
    "        except:\n",
    "            return \"Error del formato de archivo\"\n",
    "    else:\n",
    "        return row[\"tree\"]\n",
    "    \n"
   ]
  },
  {
   "cell_type": "code",
   "execution_count": null,
   "metadata": {},
   "outputs": [],
   "source": [
    "for n in range(0, 5000, 50):\n",
    "    dfNegativeNo['tree'] = dfNegativeNo.iloc[0:n+1].apply(coherence,axis=1)\n",
    "    dfNegativeNo.to_json(r'dfNegativeNo.json')"
   ]
  },
  {
   "cell_type": "code",
   "execution_count": null,
   "metadata": {},
   "outputs": [],
   "source": [
    "for n in range(0, 5000, 50):\n",
    "    dfPositiveNo['tree'] = dfPositiveNo.iloc[0:n+1].apply(coherence,axis=1)\n",
    "    dfPositiveNo.to_json(r'dfPositiveNo.json')"
   ]
  },
  {
   "cell_type": "code",
   "execution_count": 5,
   "metadata": {},
   "outputs": [],
   "source": [
    "dfNegativeNo = pd.read_json('dfNegativeNo.json')"
   ]
  },
  {
   "cell_type": "code",
   "execution_count": 6,
   "metadata": {},
   "outputs": [],
   "source": [
    "dfPositiveNo = pd.read_json('dfPositiveNo.json')"
   ]
  },
  {
   "cell_type": "markdown",
   "metadata": {},
   "source": [
    "### Análisis de patrones en los textos"
   ]
  },
  {
   "cell_type": "code",
   "execution_count": 75,
   "metadata": {},
   "outputs": [],
   "source": [
    "import pandas as pd\n",
    "dfNegative = pd.read_json('dfNegative.json')\n",
    "dfPositive = pd.read_json('dfPositive.json')\n",
    "dfPositive = dfPositive.dropna()\n",
    "dfPositive = dfPositive[dfPositive['tree']!='No']\n",
    "dfPositive = dfPositive[dfPositive['tree'].str.contains(\"Root\").fillna(False)]\n",
    "dfNegative = dfNegative.dropna()\n",
    "dfNegative = dfNegative[dfNegative['tree']!='No']\n",
    "dfNegative = dfNegative[dfNegative['tree'].str.contains(\"Root\").fillna(False)]"
   ]
  },
  {
   "cell_type": "code",
   "execution_count": 76,
   "metadata": {},
   "outputs": [],
   "source": [
    "dfNegative = dfNegative.reset_index(drop=True)\n",
    "dfPositive = dfPositive.reset_index(drop=True)"
   ]
  },
  {
   "cell_type": "markdown",
   "metadata": {},
   "source": [
    "Se guardan los textos en una archivo json."
   ]
  },
  {
   "cell_type": "code",
   "execution_count": 77,
   "metadata": {},
   "outputs": [],
   "source": [
    "dfNegative.to_json(r'dfNegativeSi.json')\n",
    "dfPositive.to_json(r'dfPositiveSi.json')"
   ]
  },
  {
   "cell_type": "markdown",
   "metadata": {},
   "source": [
    "### Extracción de estructura de los textos"
   ]
  },
  {
   "cell_type": "markdown",
   "metadata": {},
   "source": [
    "Se extraen los textos mediante regex:"
   ]
  },
  {
   "cell_type": "code",
   "execution_count": 78,
   "metadata": {},
   "outputs": [
    {
     "data": {
      "text/plain": [
       "'(Nucleus(\\x01)(Satellite(Nucleus(\\x01)(Satellite))(Nucleus(\\x01)(\\x01))))(Satellite)'"
      ]
     },
     "execution_count": 78,
     "metadata": {},
     "output_type": "execute_result"
    }
   ],
   "source": [
    "import re\n",
    "a = re.sub(r\"\\( (Nucleus).*\\) \\)\", \"(\\1)\", dfPositive['tree'].iloc[18000])\n",
    "b = re.sub(r\"\\( (Satellite).*\\) \\)\", \"(Satellite)\",a)\n",
    "c = re.sub(r\"\\( (Nucleus) .*\\)\", \"(Nucleus\", b)\n",
    "d = re.sub(r\"\\( (Satellite) .*\\)\", \"(Satellite\",c)\n",
    "e = re.sub(r\"\\( (Satellite) .*\\)\", \"(Satellite\",d)\n",
    "f = re.sub(r\"\\( Root .*\\n\", \"\",e)\n",
    "g = re.sub(r\"\\n\", \"\",f)\n",
    "h = re.sub(r\" \", \"\",g)\n",
    "i = re.sub(r\"\\r\", \"\",h)\n",
    "j = re.sub(r\"\\)$\", \"\",i)\n",
    "j"
   ]
  },
  {
   "cell_type": "code",
   "execution_count": 79,
   "metadata": {},
   "outputs": [],
   "source": [
    "import re\n",
    "def get_structure(sentence):\n",
    "    a = re.sub(r\"\\( (Nucleus).*\\) \\)\", \"(Nucleus)\", sentence)\n",
    "    b = re.sub(r\"\\( (Satellite).*\\) \\)\", \"(Satellite)\",a)\n",
    "    c = re.sub(r\"\\( (Nucleus) .*\\)\", \"(Nucleus\", b)\n",
    "    d = re.sub(r\"\\( (Satellite) .*\\)\", \"(Satellite\",c)\n",
    "    e = re.sub(r\"\\( (Satellite) .*\\)\", \"(Satellite\",d)\n",
    "    f = re.sub(r\"\\( Root .*\\n\", \"\",e)\n",
    "    g = re.sub(r\"\\n\", \"\",f)\n",
    "    h = re.sub(r\" \", \"\",g)\n",
    "    i = re.sub(r\"\\r\", \"\",h)\n",
    "    j = re.sub(r\"\\)$\", \"\",i)\n",
    "    return j"
   ]
  },
  {
   "cell_type": "code",
   "execution_count": 80,
   "metadata": {},
   "outputs": [],
   "source": [
    "dfPositive['structure'] = dfPositive['tree'].apply(lambda x: get_structure(x))\n",
    "dfNegative['structure'] = dfNegative['tree'].apply(lambda x: get_structure(x))"
   ]
  },
  {
   "cell_type": "markdown",
   "metadata": {},
   "source": [
    "Aquí se muestran las estructuras más comunes del corpus positivo:"
   ]
  },
  {
   "cell_type": "code",
   "execution_count": 81,
   "metadata": {},
   "outputs": [
    {
     "data": {
      "text/plain": [
       "(Nucleus)(Satellite)                        1798\n",
       "(Satellite)(Nucleus)                         805\n",
       "(Nucleus)(Satellite(Nucleus)(Satellite))     519\n",
       "(Nucleus)(Nucleus)                           437\n",
       "(Nucleus(Nucleus)(Satellite))(Satellite)     430\n",
       "(Nucleus)(Satellite(Satellite)(Nucleus))     259\n",
       "(Satellite)(Nucleus(Nucleus)(Satellite))     257\n",
       "(Nucleus(Nucleus)(Satellite))(Nucleus)       245\n",
       "(Nucleus)(Nucleus(Nucleus)(Satellite))       235\n",
       "(Nucleus)(Satellite(Nucleus)(Nucleus))       206\n",
       "Name: structure, dtype: int64"
      ]
     },
     "execution_count": 81,
     "metadata": {},
     "output_type": "execute_result"
    }
   ],
   "source": [
    "dfPositive['structure'].value_counts()[:10]"
   ]
  },
  {
   "cell_type": "markdown",
   "metadata": {},
   "source": [
    "Aquí se muestran las estructuras más comunes del corpus negativo:"
   ]
  },
  {
   "cell_type": "code",
   "execution_count": 82,
   "metadata": {},
   "outputs": [
    {
     "data": {
      "text/plain": [
       "(Nucleus)(Satellite)                        5069\n",
       "(Satellite)(Nucleus)                        1440\n",
       "(Nucleus)(Satellite(Nucleus)(Satellite))    1116\n",
       "(Nucleus)(Nucleus)                           710\n",
       "(Nucleus(Nucleus)(Satellite))(Satellite)     633\n",
       "(Nucleus(Nucleus)(Satellite))(Nucleus)       590\n",
       "(Nucleus)(Satellite(Satellite)(Nucleus))     424\n",
       "(Satellite)(Nucleus(Nucleus)(Satellite))     405\n",
       "(Nucleus)(Nucleus(Nucleus)(Satellite))       370\n",
       "(Nucleus(Satellite)(Nucleus))(Satellite)     314\n",
       "Name: structure, dtype: int64"
      ]
     },
     "execution_count": 82,
     "metadata": {},
     "output_type": "execute_result"
    }
   ],
   "source": [
    "dfNegative['structure'].value_counts()[:10]"
   ]
  },
  {
   "cell_type": "markdown",
   "metadata": {},
   "source": [
    "### Porcentajes"
   ]
  },
  {
   "cell_type": "markdown",
   "metadata": {},
   "source": [
    "#### Corpus Positivo"
   ]
  },
  {
   "cell_type": "code",
   "execution_count": 83,
   "metadata": {},
   "outputs": [
    {
     "data": {
      "text/html": [
       "<div>\n",
       "<style scoped>\n",
       "    .dataframe tbody tr th:only-of-type {\n",
       "        vertical-align: middle;\n",
       "    }\n",
       "\n",
       "    .dataframe tbody tr th {\n",
       "        vertical-align: top;\n",
       "    }\n",
       "\n",
       "    .dataframe thead th {\n",
       "        text-align: right;\n",
       "    }\n",
       "</style>\n",
       "<table border=\"1\" class=\"dataframe\">\n",
       "  <thead>\n",
       "    <tr style=\"text-align: right;\">\n",
       "      <th></th>\n",
       "      <th>counts</th>\n",
       "      <th>per</th>\n",
       "      <th>per100</th>\n",
       "    </tr>\n",
       "  </thead>\n",
       "  <tbody>\n",
       "    <tr>\n",
       "      <th>(Nucleus)(Satellite)</th>\n",
       "      <td>1798</td>\n",
       "      <td>0.098634</td>\n",
       "      <td>9.9%</td>\n",
       "    </tr>\n",
       "    <tr>\n",
       "      <th>(Satellite)(Nucleus)</th>\n",
       "      <td>805</td>\n",
       "      <td>0.044160</td>\n",
       "      <td>4.4%</td>\n",
       "    </tr>\n",
       "    <tr>\n",
       "      <th>(Nucleus)(Satellite(Nucleus)(Satellite))</th>\n",
       "      <td>519</td>\n",
       "      <td>0.028471</td>\n",
       "      <td>2.8%</td>\n",
       "    </tr>\n",
       "    <tr>\n",
       "      <th>(Nucleus)(Nucleus)</th>\n",
       "      <td>437</td>\n",
       "      <td>0.023973</td>\n",
       "      <td>2.4%</td>\n",
       "    </tr>\n",
       "    <tr>\n",
       "      <th>(Nucleus(Nucleus)(Satellite))(Satellite)</th>\n",
       "      <td>430</td>\n",
       "      <td>0.023589</td>\n",
       "      <td>2.4%</td>\n",
       "    </tr>\n",
       "    <tr>\n",
       "      <th>(Nucleus)(Satellite(Satellite)(Nucleus))</th>\n",
       "      <td>259</td>\n",
       "      <td>0.014208</td>\n",
       "      <td>1.4%</td>\n",
       "    </tr>\n",
       "    <tr>\n",
       "      <th>(Satellite)(Nucleus(Nucleus)(Satellite))</th>\n",
       "      <td>257</td>\n",
       "      <td>0.014098</td>\n",
       "      <td>1.4%</td>\n",
       "    </tr>\n",
       "    <tr>\n",
       "      <th>(Nucleus(Nucleus)(Satellite))(Nucleus)</th>\n",
       "      <td>245</td>\n",
       "      <td>0.013440</td>\n",
       "      <td>1.3%</td>\n",
       "    </tr>\n",
       "    <tr>\n",
       "      <th>(Nucleus)(Nucleus(Nucleus)(Satellite))</th>\n",
       "      <td>235</td>\n",
       "      <td>0.012892</td>\n",
       "      <td>1.3%</td>\n",
       "    </tr>\n",
       "    <tr>\n",
       "      <th>(Nucleus)(Satellite(Nucleus)(Nucleus))</th>\n",
       "      <td>206</td>\n",
       "      <td>0.011301</td>\n",
       "      <td>1.1%</td>\n",
       "    </tr>\n",
       "  </tbody>\n",
       "</table>\n",
       "</div>"
      ],
      "text/plain": [
       "                                          counts       per per100\n",
       "(Nucleus)(Satellite)                        1798  0.098634   9.9%\n",
       "(Satellite)(Nucleus)                         805  0.044160   4.4%\n",
       "(Nucleus)(Satellite(Nucleus)(Satellite))     519  0.028471   2.8%\n",
       "(Nucleus)(Nucleus)                           437  0.023973   2.4%\n",
       "(Nucleus(Nucleus)(Satellite))(Satellite)     430  0.023589   2.4%\n",
       "(Nucleus)(Satellite(Satellite)(Nucleus))     259  0.014208   1.4%\n",
       "(Satellite)(Nucleus(Nucleus)(Satellite))     257  0.014098   1.4%\n",
       "(Nucleus(Nucleus)(Satellite))(Nucleus)       245  0.013440   1.3%\n",
       "(Nucleus)(Nucleus(Nucleus)(Satellite))       235  0.012892   1.3%\n",
       "(Nucleus)(Satellite(Nucleus)(Nucleus))       206  0.011301   1.1%"
      ]
     },
     "execution_count": 83,
     "metadata": {},
     "output_type": "execute_result"
    }
   ],
   "source": [
    "s = dfPositive.structure\n",
    "counts = s.value_counts()\n",
    "percent = s.value_counts(normalize=True)\n",
    "percent100 = s.value_counts(normalize=True).mul(100).round(1).astype(str) + '%'\n",
    "pd.DataFrame({'counts': counts, 'per': percent, 'per100': percent100}).head(10)"
   ]
  },
  {
   "cell_type": "markdown",
   "metadata": {},
   "source": [
    "#### Corpus Negativo"
   ]
  },
  {
   "cell_type": "code",
   "execution_count": 84,
   "metadata": {},
   "outputs": [
    {
     "data": {
      "text/html": [
       "<div>\n",
       "<style scoped>\n",
       "    .dataframe tbody tr th:only-of-type {\n",
       "        vertical-align: middle;\n",
       "    }\n",
       "\n",
       "    .dataframe tbody tr th {\n",
       "        vertical-align: top;\n",
       "    }\n",
       "\n",
       "    .dataframe thead th {\n",
       "        text-align: right;\n",
       "    }\n",
       "</style>\n",
       "<table border=\"1\" class=\"dataframe\">\n",
       "  <thead>\n",
       "    <tr style=\"text-align: right;\">\n",
       "      <th></th>\n",
       "      <th>counts</th>\n",
       "      <th>per</th>\n",
       "      <th>per100</th>\n",
       "    </tr>\n",
       "  </thead>\n",
       "  <tbody>\n",
       "    <tr>\n",
       "      <th>(Nucleus)(Satellite)</th>\n",
       "      <td>5069</td>\n",
       "      <td>0.189163</td>\n",
       "      <td>18.9%</td>\n",
       "    </tr>\n",
       "    <tr>\n",
       "      <th>(Satellite)(Nucleus)</th>\n",
       "      <td>1440</td>\n",
       "      <td>0.053737</td>\n",
       "      <td>5.4%</td>\n",
       "    </tr>\n",
       "    <tr>\n",
       "      <th>(Nucleus)(Satellite(Nucleus)(Satellite))</th>\n",
       "      <td>1116</td>\n",
       "      <td>0.041646</td>\n",
       "      <td>4.2%</td>\n",
       "    </tr>\n",
       "    <tr>\n",
       "      <th>(Nucleus)(Nucleus)</th>\n",
       "      <td>710</td>\n",
       "      <td>0.026496</td>\n",
       "      <td>2.6%</td>\n",
       "    </tr>\n",
       "    <tr>\n",
       "      <th>(Nucleus(Nucleus)(Satellite))(Satellite)</th>\n",
       "      <td>633</td>\n",
       "      <td>0.023622</td>\n",
       "      <td>2.4%</td>\n",
       "    </tr>\n",
       "    <tr>\n",
       "      <th>(Nucleus(Nucleus)(Satellite))(Nucleus)</th>\n",
       "      <td>590</td>\n",
       "      <td>0.022017</td>\n",
       "      <td>2.2%</td>\n",
       "    </tr>\n",
       "    <tr>\n",
       "      <th>(Nucleus)(Satellite(Satellite)(Nucleus))</th>\n",
       "      <td>424</td>\n",
       "      <td>0.015823</td>\n",
       "      <td>1.6%</td>\n",
       "    </tr>\n",
       "    <tr>\n",
       "      <th>(Satellite)(Nucleus(Nucleus)(Satellite))</th>\n",
       "      <td>405</td>\n",
       "      <td>0.015114</td>\n",
       "      <td>1.5%</td>\n",
       "    </tr>\n",
       "    <tr>\n",
       "      <th>(Nucleus)(Nucleus(Nucleus)(Satellite))</th>\n",
       "      <td>370</td>\n",
       "      <td>0.013808</td>\n",
       "      <td>1.4%</td>\n",
       "    </tr>\n",
       "    <tr>\n",
       "      <th>(Nucleus(Satellite)(Nucleus))(Satellite)</th>\n",
       "      <td>314</td>\n",
       "      <td>0.011718</td>\n",
       "      <td>1.2%</td>\n",
       "    </tr>\n",
       "  </tbody>\n",
       "</table>\n",
       "</div>"
      ],
      "text/plain": [
       "                                          counts       per per100\n",
       "(Nucleus)(Satellite)                        5069  0.189163  18.9%\n",
       "(Satellite)(Nucleus)                        1440  0.053737   5.4%\n",
       "(Nucleus)(Satellite(Nucleus)(Satellite))    1116  0.041646   4.2%\n",
       "(Nucleus)(Nucleus)                           710  0.026496   2.6%\n",
       "(Nucleus(Nucleus)(Satellite))(Satellite)     633  0.023622   2.4%\n",
       "(Nucleus(Nucleus)(Satellite))(Nucleus)       590  0.022017   2.2%\n",
       "(Nucleus)(Satellite(Satellite)(Nucleus))     424  0.015823   1.6%\n",
       "(Satellite)(Nucleus(Nucleus)(Satellite))     405  0.015114   1.5%\n",
       "(Nucleus)(Nucleus(Nucleus)(Satellite))       370  0.013808   1.4%\n",
       "(Nucleus(Satellite)(Nucleus))(Satellite)     314  0.011718   1.2%"
      ]
     },
     "execution_count": 84,
     "metadata": {},
     "output_type": "execute_result"
    }
   ],
   "source": [
    "s = dfNegative.structure\n",
    "counts = s.value_counts()\n",
    "percent = s.value_counts(normalize=True)\n",
    "percent100 = s.value_counts(normalize=True).mul(100).round(1).astype(str) + '%'\n",
    "pd.DataFrame({'counts': counts, 'per': percent, 'per100': percent100}).head(10)"
   ]
  },
  {
   "cell_type": "code",
   "execution_count": 86,
   "metadata": {},
   "outputs": [
    {
     "data": {
      "text/html": [
       "<div>\n",
       "<style scoped>\n",
       "    .dataframe tbody tr th:only-of-type {\n",
       "        vertical-align: middle;\n",
       "    }\n",
       "\n",
       "    .dataframe tbody tr th {\n",
       "        vertical-align: top;\n",
       "    }\n",
       "\n",
       "    .dataframe thead th {\n",
       "        text-align: right;\n",
       "    }\n",
       "</style>\n",
       "<table border=\"1\" class=\"dataframe\">\n",
       "  <thead>\n",
       "    <tr style=\"text-align: right;\">\n",
       "      <th></th>\n",
       "      <th>counts</th>\n",
       "      <th>per</th>\n",
       "      <th>per100</th>\n",
       "    </tr>\n",
       "  </thead>\n",
       "  <tbody>\n",
       "    <tr>\n",
       "      <th>(Nucleus)(Satellite)</th>\n",
       "      <td>1798</td>\n",
       "      <td>0.098634</td>\n",
       "      <td>9.9%</td>\n",
       "    </tr>\n",
       "    <tr>\n",
       "      <th>(Satellite)(Nucleus)</th>\n",
       "      <td>805</td>\n",
       "      <td>0.044160</td>\n",
       "      <td>4.4%</td>\n",
       "    </tr>\n",
       "    <tr>\n",
       "      <th>(Nucleus)(Satellite(Nucleus)(Satellite))</th>\n",
       "      <td>519</td>\n",
       "      <td>0.028471</td>\n",
       "      <td>2.8%</td>\n",
       "    </tr>\n",
       "    <tr>\n",
       "      <th>(Nucleus)(Nucleus)</th>\n",
       "      <td>437</td>\n",
       "      <td>0.023973</td>\n",
       "      <td>2.4%</td>\n",
       "    </tr>\n",
       "    <tr>\n",
       "      <th>(Nucleus(Nucleus)(Satellite))(Satellite)</th>\n",
       "      <td>430</td>\n",
       "      <td>0.023589</td>\n",
       "      <td>2.4%</td>\n",
       "    </tr>\n",
       "    <tr>\n",
       "      <th>(Nucleus)(Satellite(Satellite)(Nucleus))</th>\n",
       "      <td>259</td>\n",
       "      <td>0.014208</td>\n",
       "      <td>1.4%</td>\n",
       "    </tr>\n",
       "    <tr>\n",
       "      <th>(Satellite)(Nucleus(Nucleus)(Satellite))</th>\n",
       "      <td>257</td>\n",
       "      <td>0.014098</td>\n",
       "      <td>1.4%</td>\n",
       "    </tr>\n",
       "    <tr>\n",
       "      <th>(Nucleus(Nucleus)(Satellite))(Nucleus)</th>\n",
       "      <td>245</td>\n",
       "      <td>0.013440</td>\n",
       "      <td>1.3%</td>\n",
       "    </tr>\n",
       "    <tr>\n",
       "      <th>(Nucleus)(Nucleus(Nucleus)(Satellite))</th>\n",
       "      <td>235</td>\n",
       "      <td>0.012892</td>\n",
       "      <td>1.3%</td>\n",
       "    </tr>\n",
       "    <tr>\n",
       "      <th>(Nucleus)(Satellite(Nucleus)(Nucleus))</th>\n",
       "      <td>206</td>\n",
       "      <td>0.011301</td>\n",
       "      <td>1.1%</td>\n",
       "    </tr>\n",
       "  </tbody>\n",
       "</table>\n",
       "</div>"
      ],
      "text/plain": [
       "                                          counts       per per100\n",
       "(Nucleus)(Satellite)                        1798  0.098634   9.9%\n",
       "(Satellite)(Nucleus)                         805  0.044160   4.4%\n",
       "(Nucleus)(Satellite(Nucleus)(Satellite))     519  0.028471   2.8%\n",
       "(Nucleus)(Nucleus)                           437  0.023973   2.4%\n",
       "(Nucleus(Nucleus)(Satellite))(Satellite)     430  0.023589   2.4%\n",
       "(Nucleus)(Satellite(Satellite)(Nucleus))     259  0.014208   1.4%\n",
       "(Satellite)(Nucleus(Nucleus)(Satellite))     257  0.014098   1.4%\n",
       "(Nucleus(Nucleus)(Satellite))(Nucleus)       245  0.013440   1.3%\n",
       "(Nucleus)(Nucleus(Nucleus)(Satellite))       235  0.012892   1.3%\n",
       "(Nucleus)(Satellite(Nucleus)(Nucleus))       206  0.011301   1.1%"
      ]
     },
     "execution_count": 86,
     "metadata": {},
     "output_type": "execute_result"
    }
   ],
   "source": [
    "s = dfPositive.structure\n",
    "counts = s.value_counts()\n",
    "percent = s.value_counts(normalize=True)\n",
    "percent100 = s.value_counts(normalize=True).mul(100).round(1).astype(str) + '%'\n",
    "pd.DataFrame({'counts': counts, 'per': percent, 'per100': percent100}).head(10)"
   ]
  },
  {
   "cell_type": "markdown",
   "metadata": {},
   "source": [
    "### Análisis de tipos de patrones*"
   ]
  },
  {
   "cell_type": "markdown",
   "metadata": {},
   "source": [
    "Los patrones se categorizan entre diferentes tipos, siendo 1 el patrón más sencillo, así se incremente hasta patrones más complejos."
   ]
  },
  {
   "cell_type": "code",
   "execution_count": 119,
   "metadata": {},
   "outputs": [],
   "source": [
    "def get_structureType(sentence):\n",
    "    return (sentence.count('(') + sentence.count(')'))/4"
   ]
  },
  {
   "cell_type": "code",
   "execution_count": 120,
   "metadata": {},
   "outputs": [],
   "source": [
    "dfPositive['structureType'] = dfPositive['structure'].apply(lambda x: get_structureType(x))\n",
    "dfNegative['structureType'] = dfNegative['structure'].apply(lambda x: get_structureType(x))"
   ]
  },
  {
   "cell_type": "code",
   "execution_count": 121,
   "metadata": {},
   "outputs": [
    {
     "data": {
      "text/plain": [
       "<BarContainer object of 5 artists>"
      ]
     },
     "execution_count": 121,
     "metadata": {},
     "output_type": "execute_result"
    },
    {
     "data": {
      "image/png": "[encoded data removed]",
      "text/plain": [
       "<Figure size 432x288 with 1 Axes>"
      ]
     },
     "metadata": {
      "needs_background": "light"
     },
     "output_type": "display_data"
    }
   ],
   "source": [
    "import matplotlib.pyplot as plt\n",
    "import numpy as np\n",
    "fig, ax = plt.subplots()\n",
    "\n",
    "a_heights, a_bins = np.histogram(dfNegative['structureType'], bins=5, range=(1,10))\n",
    "b_heights, b_bins = np.histogram(dfPositive['structureType'], bins=5, range=(1,10))\n",
    "\n",
    "width = (a_bins[1] - a_bins[0])/3\n",
    "\n",
    "ax.bar(a_bins[:-1], a_heights, width=width, facecolor='red')\n",
    "ax.bar(b_bins[:-1]+width, b_heights, width=width, facecolor='seagreen')"
   ]
  },
  {
   "cell_type": "code",
   "execution_count": 122,
   "metadata": {},
   "outputs": [],
   "source": [
    "dfPositive.loc[dfPositive['structureType'] > 10, 'structureType'] = \"> 10\"\n",
    "dfNegative.loc[dfNegative['structureType'] > 10, 'structureType'] = \"> 10\""
   ]
  },
  {
   "cell_type": "code",
   "execution_count": 123,
   "metadata": {},
   "outputs": [
    {
     "data": {
      "text/plain": [
       "> 10    3664\n",
       "1.0     3041\n",
       "2.0     2964\n",
       "3.0     2330\n",
       "4.0     1606\n",
       "5.0     1280\n",
       "6.0      973\n",
       "7.0      756\n",
       "8.0      637\n",
       "9.0      512\n",
       "10.0     466\n",
       "Name: structureType, dtype: int64"
      ]
     },
     "execution_count": 123,
     "metadata": {},
     "output_type": "execute_result"
    }
   ],
   "source": [
    "dfPositive['structureType'].value_counts()"
   ]
  },
  {
   "cell_type": "code",
   "execution_count": 124,
   "metadata": {},
   "outputs": [
    {
     "data": {
      "text/plain": [
       "1.0     7219\n",
       "2.0     4983\n",
       "3.0     3309\n",
       "> 10    3202\n",
       "4.0     2285\n",
       "5.0     1742\n",
       "6.0     1246\n",
       "7.0      951\n",
       "8.0      737\n",
       "9.0      596\n",
       "Name: structureType, dtype: int64"
      ]
     },
     "execution_count": 124,
     "metadata": {},
     "output_type": "execute_result"
    }
   ],
   "source": [
    "dfNegative['structureType'].value_counts()[:10]"
   ]
  },
  {
   "cell_type": "markdown",
   "metadata": {},
   "source": [
    "#### Porcentajes"
   ]
  },
  {
   "cell_type": "markdown",
   "metadata": {},
   "source": [
    "##### Corpus Positivo"
   ]
  },
  {
   "cell_type": "code",
   "execution_count": 125,
   "metadata": {},
   "outputs": [
    {
     "data": {
      "text/html": [
       "<div>\n",
       "<style scoped>\n",
       "    .dataframe tbody tr th:only-of-type {\n",
       "        vertical-align: middle;\n",
       "    }\n",
       "\n",
       "    .dataframe tbody tr th {\n",
       "        vertical-align: top;\n",
       "    }\n",
       "\n",
       "    .dataframe thead th {\n",
       "        text-align: right;\n",
       "    }\n",
       "</style>\n",
       "<table border=\"1\" class=\"dataframe\">\n",
       "  <thead>\n",
       "    <tr style=\"text-align: right;\">\n",
       "      <th></th>\n",
       "      <th>counts</th>\n",
       "      <th>per</th>\n",
       "      <th>per100</th>\n",
       "    </tr>\n",
       "  </thead>\n",
       "  <tbody>\n",
       "    <tr>\n",
       "      <th>&gt; 10</th>\n",
       "      <td>3664</td>\n",
       "      <td>0.200998</td>\n",
       "      <td>20.1%</td>\n",
       "    </tr>\n",
       "    <tr>\n",
       "      <th>1.0</th>\n",
       "      <td>3041</td>\n",
       "      <td>0.166822</td>\n",
       "      <td>16.7%</td>\n",
       "    </tr>\n",
       "    <tr>\n",
       "      <th>2.0</th>\n",
       "      <td>2964</td>\n",
       "      <td>0.162598</td>\n",
       "      <td>16.3%</td>\n",
       "    </tr>\n",
       "    <tr>\n",
       "      <th>3.0</th>\n",
       "      <td>2330</td>\n",
       "      <td>0.127818</td>\n",
       "      <td>12.8%</td>\n",
       "    </tr>\n",
       "    <tr>\n",
       "      <th>4.0</th>\n",
       "      <td>1606</td>\n",
       "      <td>0.088101</td>\n",
       "      <td>8.8%</td>\n",
       "    </tr>\n",
       "    <tr>\n",
       "      <th>5.0</th>\n",
       "      <td>1280</td>\n",
       "      <td>0.070218</td>\n",
       "      <td>7.0%</td>\n",
       "    </tr>\n",
       "    <tr>\n",
       "      <th>6.0</th>\n",
       "      <td>973</td>\n",
       "      <td>0.053376</td>\n",
       "      <td>5.3%</td>\n",
       "    </tr>\n",
       "    <tr>\n",
       "      <th>7.0</th>\n",
       "      <td>756</td>\n",
       "      <td>0.041472</td>\n",
       "      <td>4.1%</td>\n",
       "    </tr>\n",
       "    <tr>\n",
       "      <th>8.0</th>\n",
       "      <td>637</td>\n",
       "      <td>0.034944</td>\n",
       "      <td>3.5%</td>\n",
       "    </tr>\n",
       "    <tr>\n",
       "      <th>9.0</th>\n",
       "      <td>512</td>\n",
       "      <td>0.028087</td>\n",
       "      <td>2.8%</td>\n",
       "    </tr>\n",
       "  </tbody>\n",
       "</table>\n",
       "</div>"
      ],
      "text/plain": [
       "      counts       per per100\n",
       "> 10    3664  0.200998  20.1%\n",
       "1.0     3041  0.166822  16.7%\n",
       "2.0     2964  0.162598  16.3%\n",
       "3.0     2330  0.127818  12.8%\n",
       "4.0     1606  0.088101   8.8%\n",
       "5.0     1280  0.070218   7.0%\n",
       "6.0      973  0.053376   5.3%\n",
       "7.0      756  0.041472   4.1%\n",
       "8.0      637  0.034944   3.5%\n",
       "9.0      512  0.028087   2.8%"
      ]
     },
     "execution_count": 125,
     "metadata": {},
     "output_type": "execute_result"
    }
   ],
   "source": [
    "s = dfPositive.structureType\n",
    "counts = s.value_counts()\n",
    "percent = s.value_counts(normalize=True)\n",
    "percent100 = s.value_counts(normalize=True).mul(100).round(1).astype(str) + '%'\n",
    "pd.DataFrame({'counts': counts, 'per': percent, 'per100': percent100}).head(10)"
   ]
  },
  {
   "cell_type": "markdown",
   "metadata": {},
   "source": [
    "##### Corpus Negativo"
   ]
  },
  {
   "cell_type": "code",
   "execution_count": 126,
   "metadata": {},
   "outputs": [
    {
     "data": {
      "text/html": [
       "<div>\n",
       "<style scoped>\n",
       "    .dataframe tbody tr th:only-of-type {\n",
       "        vertical-align: middle;\n",
       "    }\n",
       "\n",
       "    .dataframe tbody tr th {\n",
       "        vertical-align: top;\n",
       "    }\n",
       "\n",
       "    .dataframe thead th {\n",
       "        text-align: right;\n",
       "    }\n",
       "</style>\n",
       "<table border=\"1\" class=\"dataframe\">\n",
       "  <thead>\n",
       "    <tr style=\"text-align: right;\">\n",
       "      <th></th>\n",
       "      <th>counts</th>\n",
       "      <th>per</th>\n",
       "      <th>per100</th>\n",
       "    </tr>\n",
       "  </thead>\n",
       "  <tbody>\n",
       "    <tr>\n",
       "      <th>1.0</th>\n",
       "      <td>7219</td>\n",
       "      <td>0.269396</td>\n",
       "      <td>26.9%</td>\n",
       "    </tr>\n",
       "    <tr>\n",
       "      <th>2.0</th>\n",
       "      <td>4983</td>\n",
       "      <td>0.185954</td>\n",
       "      <td>18.6%</td>\n",
       "    </tr>\n",
       "    <tr>\n",
       "      <th>3.0</th>\n",
       "      <td>3309</td>\n",
       "      <td>0.123484</td>\n",
       "      <td>12.3%</td>\n",
       "    </tr>\n",
       "    <tr>\n",
       "      <th>&gt; 10</th>\n",
       "      <td>3202</td>\n",
       "      <td>0.119491</td>\n",
       "      <td>11.9%</td>\n",
       "    </tr>\n",
       "    <tr>\n",
       "      <th>4.0</th>\n",
       "      <td>2285</td>\n",
       "      <td>0.085271</td>\n",
       "      <td>8.5%</td>\n",
       "    </tr>\n",
       "    <tr>\n",
       "      <th>5.0</th>\n",
       "      <td>1742</td>\n",
       "      <td>0.065007</td>\n",
       "      <td>6.5%</td>\n",
       "    </tr>\n",
       "    <tr>\n",
       "      <th>6.0</th>\n",
       "      <td>1246</td>\n",
       "      <td>0.046498</td>\n",
       "      <td>4.6%</td>\n",
       "    </tr>\n",
       "    <tr>\n",
       "      <th>7.0</th>\n",
       "      <td>951</td>\n",
       "      <td>0.035489</td>\n",
       "      <td>3.5%</td>\n",
       "    </tr>\n",
       "    <tr>\n",
       "      <th>8.0</th>\n",
       "      <td>737</td>\n",
       "      <td>0.027503</td>\n",
       "      <td>2.8%</td>\n",
       "    </tr>\n",
       "    <tr>\n",
       "      <th>9.0</th>\n",
       "      <td>596</td>\n",
       "      <td>0.022241</td>\n",
       "      <td>2.2%</td>\n",
       "    </tr>\n",
       "  </tbody>\n",
       "</table>\n",
       "</div>"
      ],
      "text/plain": [
       "      counts       per per100\n",
       "1.0     7219  0.269396  26.9%\n",
       "2.0     4983  0.185954  18.6%\n",
       "3.0     3309  0.123484  12.3%\n",
       "> 10    3202  0.119491  11.9%\n",
       "4.0     2285  0.085271   8.5%\n",
       "5.0     1742  0.065007   6.5%\n",
       "6.0     1246  0.046498   4.6%\n",
       "7.0      951  0.035489   3.5%\n",
       "8.0      737  0.027503   2.8%\n",
       "9.0      596  0.022241   2.2%"
      ]
     },
     "execution_count": 126,
     "metadata": {},
     "output_type": "execute_result"
    }
   ],
   "source": [
    "s = dfNegative.structureType\n",
    "counts = s.value_counts()\n",
    "percent = s.value_counts(normalize=True)\n",
    "percent100 = s.value_counts(normalize=True).mul(100).round(1).astype(str) + '%'\n",
    "pd.DataFrame({'counts': counts, 'per': percent, 'per100': percent100}).head(10)"
   ]
  },
  {
   "cell_type": "markdown",
   "metadata": {},
   "source": [
    "### Cálculo de la profundidad de los textos*"
   ]
  },
  {
   "cell_type": "markdown",
   "metadata": {},
   "source": [
    "Se calcula la profundidad de las oraciones y sentencias."
   ]
  },
  {
   "cell_type": "code",
   "execution_count": 136,
   "metadata": {},
   "outputs": [],
   "source": [
    "def deepness(str_):\n",
    "    count = 0\n",
    "    a = 0\n",
    "    for c in str_:\n",
    "        if (c == ')'):\n",
    "            count += 1\n",
    "        else:\n",
    "            if (count > a):\n",
    "                a = count\n",
    "            count = 0\n",
    "    if (count > a):\n",
    "        a = count\n",
    "    return a"
   ]
  },
  {
   "cell_type": "code",
   "execution_count": 137,
   "metadata": {},
   "outputs": [],
   "source": [
    "dfPositive['deepness'] = dfPositive['structure'].apply(lambda x: deepness(x))\n",
    "dfNegative['deepness'] = dfNegative['structure'].apply(lambda x: deepness(x))"
   ]
  },
  {
   "cell_type": "code",
   "execution_count": 138,
   "metadata": {},
   "outputs": [
    {
     "data": {
      "text/plain": [
       "<BarContainer object of 5 artists>"
      ]
     },
     "execution_count": 138,
     "metadata": {},
     "output_type": "execute_result"
    },
    {
     "data": {
      "image/png": "[encoded data removed]",
      "text/plain": [
       "<Figure size 432x288 with 1 Axes>"
      ]
     },
     "metadata": {
      "needs_background": "light"
     },
     "output_type": "display_data"
    }
   ],
   "source": [
    "import matplotlib.pyplot as plt\n",
    "import numpy as np\n",
    "fig, ax = plt.subplots()\n",
    "\n",
    "a_heights, a_bins = np.histogram(dfNegative['deepness'], bins=5, range=(1,10))\n",
    "b_heights, b_bins = np.histogram(dfPositive['deepness'], bins=5, range=(1,10))\n",
    "\n",
    "width = (a_bins[1] - a_bins[0])/3\n",
    "\n",
    "ax.bar(a_bins[:-1], a_heights, width=width, facecolor='red')\n",
    "ax.bar(b_bins[:-1]+width, b_heights, width=width, facecolor='seagreen')"
   ]
  },
  {
   "cell_type": "markdown",
   "metadata": {},
   "source": [
    "### Medias"
   ]
  },
  {
   "cell_type": "code",
   "execution_count": 139,
   "metadata": {},
   "outputs": [
    {
     "data": {
      "text/plain": [
       "3.1986943880629766"
      ]
     },
     "execution_count": 139,
     "metadata": {},
     "output_type": "execute_result"
    }
   ],
   "source": [
    "dfPositive[\"deepness\"].mean()"
   ]
  },
  {
   "cell_type": "code",
   "execution_count": 140,
   "metadata": {},
   "outputs": [
    {
     "data": {
      "text/plain": [
       "2.693697055640557"
      ]
     },
     "execution_count": 140,
     "metadata": {},
     "output_type": "execute_result"
    }
   ],
   "source": [
    "dfNegative[\"deepness\"].mean()"
   ]
  },
  {
   "cell_type": "markdown",
   "metadata": {},
   "source": [
    "### Medianas"
   ]
  },
  {
   "cell_type": "code",
   "execution_count": 141,
   "metadata": {},
   "outputs": [
    {
     "data": {
      "text/plain": [
       "3.0"
      ]
     },
     "execution_count": 141,
     "metadata": {},
     "output_type": "execute_result"
    }
   ],
   "source": [
    "dfPositive[\"deepness\"].median()"
   ]
  },
  {
   "cell_type": "code",
   "execution_count": 142,
   "metadata": {},
   "outputs": [
    {
     "data": {
      "text/plain": [
       "2.0"
      ]
     },
     "execution_count": 142,
     "metadata": {},
     "output_type": "execute_result"
    }
   ],
   "source": [
    "dfNegative[\"deepness\"].median()"
   ]
  },
  {
   "cell_type": "markdown",
   "metadata": {},
   "source": [
    "### Porcentajes"
   ]
  },
  {
   "cell_type": "code",
   "execution_count": 143,
   "metadata": {},
   "outputs": [],
   "source": [
    "dfPositive.loc[dfPositive['deepness'] > 10, 'deepness'] = \"> 10\"\n",
    "dfNegative.loc[dfNegative['deepness'] > 10, 'deepness'] = \"> 10\""
   ]
  },
  {
   "cell_type": "markdown",
   "metadata": {},
   "source": [
    "#### Corpus Positivo"
   ]
  },
  {
   "cell_type": "code",
   "execution_count": 144,
   "metadata": {},
   "outputs": [
    {
     "data": {
      "text/html": [
       "<div>\n",
       "<style scoped>\n",
       "    .dataframe tbody tr th:only-of-type {\n",
       "        vertical-align: middle;\n",
       "    }\n",
       "\n",
       "    .dataframe tbody tr th {\n",
       "        vertical-align: top;\n",
       "    }\n",
       "\n",
       "    .dataframe thead th {\n",
       "        text-align: right;\n",
       "    }\n",
       "</style>\n",
       "<table border=\"1\" class=\"dataframe\">\n",
       "  <thead>\n",
       "    <tr style=\"text-align: right;\">\n",
       "      <th></th>\n",
       "      <th>counts</th>\n",
       "      <th>per</th>\n",
       "      <th>per100</th>\n",
       "    </tr>\n",
       "  </thead>\n",
       "  <tbody>\n",
       "    <tr>\n",
       "      <th>2</th>\n",
       "      <td>4761</td>\n",
       "      <td>0.261177</td>\n",
       "      <td>26.1%</td>\n",
       "    </tr>\n",
       "    <tr>\n",
       "      <th>3</th>\n",
       "      <td>3983</td>\n",
       "      <td>0.218498</td>\n",
       "      <td>21.8%</td>\n",
       "    </tr>\n",
       "    <tr>\n",
       "      <th>1</th>\n",
       "      <td>3041</td>\n",
       "      <td>0.166822</td>\n",
       "      <td>16.7%</td>\n",
       "    </tr>\n",
       "    <tr>\n",
       "      <th>4</th>\n",
       "      <td>2629</td>\n",
       "      <td>0.144221</td>\n",
       "      <td>14.4%</td>\n",
       "    </tr>\n",
       "    <tr>\n",
       "      <th>5</th>\n",
       "      <td>1692</td>\n",
       "      <td>0.092819</td>\n",
       "      <td>9.3%</td>\n",
       "    </tr>\n",
       "    <tr>\n",
       "      <th>6</th>\n",
       "      <td>995</td>\n",
       "      <td>0.054583</td>\n",
       "      <td>5.5%</td>\n",
       "    </tr>\n",
       "    <tr>\n",
       "      <th>7</th>\n",
       "      <td>598</td>\n",
       "      <td>0.032805</td>\n",
       "      <td>3.3%</td>\n",
       "    </tr>\n",
       "    <tr>\n",
       "      <th>8</th>\n",
       "      <td>283</td>\n",
       "      <td>0.015525</td>\n",
       "      <td>1.6%</td>\n",
       "    </tr>\n",
       "    <tr>\n",
       "      <th>9</th>\n",
       "      <td>149</td>\n",
       "      <td>0.008174</td>\n",
       "      <td>0.8%</td>\n",
       "    </tr>\n",
       "    <tr>\n",
       "      <th>10</th>\n",
       "      <td>55</td>\n",
       "      <td>0.003017</td>\n",
       "      <td>0.3%</td>\n",
       "    </tr>\n",
       "    <tr>\n",
       "      <th>&gt; 10</th>\n",
       "      <td>43</td>\n",
       "      <td>0.002359</td>\n",
       "      <td>0.2%</td>\n",
       "    </tr>\n",
       "  </tbody>\n",
       "</table>\n",
       "</div>"
      ],
      "text/plain": [
       "      counts       per per100\n",
       "2       4761  0.261177  26.1%\n",
       "3       3983  0.218498  21.8%\n",
       "1       3041  0.166822  16.7%\n",
       "4       2629  0.144221  14.4%\n",
       "5       1692  0.092819   9.3%\n",
       "6        995  0.054583   5.5%\n",
       "7        598  0.032805   3.3%\n",
       "8        283  0.015525   1.6%\n",
       "9        149  0.008174   0.8%\n",
       "10        55  0.003017   0.3%\n",
       "> 10      43  0.002359   0.2%"
      ]
     },
     "execution_count": 144,
     "metadata": {},
     "output_type": "execute_result"
    }
   ],
   "source": [
    "s = dfPositive.deepness\n",
    "counts = s.value_counts()\n",
    "percent = s.value_counts(normalize=True)\n",
    "percent100 = s.value_counts(normalize=True).mul(100).round(1).astype(str) + '%'\n",
    "pd.DataFrame({'counts': counts, 'per': percent, 'per100': percent100}).head(20)"
   ]
  },
  {
   "cell_type": "markdown",
   "metadata": {},
   "source": [
    "#### Corpus Negativo"
   ]
  },
  {
   "cell_type": "code",
   "execution_count": 145,
   "metadata": {},
   "outputs": [
    {
     "data": {
      "text/html": [
       "<div>\n",
       "<style scoped>\n",
       "    .dataframe tbody tr th:only-of-type {\n",
       "        vertical-align: middle;\n",
       "    }\n",
       "\n",
       "    .dataframe tbody tr th {\n",
       "        vertical-align: top;\n",
       "    }\n",
       "\n",
       "    .dataframe thead th {\n",
       "        text-align: right;\n",
       "    }\n",
       "</style>\n",
       "<table border=\"1\" class=\"dataframe\">\n",
       "  <thead>\n",
       "    <tr style=\"text-align: right;\">\n",
       "      <th></th>\n",
       "      <th>counts</th>\n",
       "      <th>per</th>\n",
       "      <th>per100</th>\n",
       "    </tr>\n",
       "  </thead>\n",
       "  <tbody>\n",
       "    <tr>\n",
       "      <th>2</th>\n",
       "      <td>7487</td>\n",
       "      <td>0.279397</td>\n",
       "      <td>27.9%</td>\n",
       "    </tr>\n",
       "    <tr>\n",
       "      <th>1</th>\n",
       "      <td>7219</td>\n",
       "      <td>0.269396</td>\n",
       "      <td>26.9%</td>\n",
       "    </tr>\n",
       "    <tr>\n",
       "      <th>3</th>\n",
       "      <td>5433</td>\n",
       "      <td>0.202747</td>\n",
       "      <td>20.3%</td>\n",
       "    </tr>\n",
       "    <tr>\n",
       "      <th>4</th>\n",
       "      <td>3142</td>\n",
       "      <td>0.117252</td>\n",
       "      <td>11.7%</td>\n",
       "    </tr>\n",
       "    <tr>\n",
       "      <th>5</th>\n",
       "      <td>1688</td>\n",
       "      <td>0.062992</td>\n",
       "      <td>6.3%</td>\n",
       "    </tr>\n",
       "    <tr>\n",
       "      <th>6</th>\n",
       "      <td>904</td>\n",
       "      <td>0.033735</td>\n",
       "      <td>3.4%</td>\n",
       "    </tr>\n",
       "    <tr>\n",
       "      <th>7</th>\n",
       "      <td>470</td>\n",
       "      <td>0.017539</td>\n",
       "      <td>1.8%</td>\n",
       "    </tr>\n",
       "    <tr>\n",
       "      <th>8</th>\n",
       "      <td>255</td>\n",
       "      <td>0.009516</td>\n",
       "      <td>1.0%</td>\n",
       "    </tr>\n",
       "    <tr>\n",
       "      <th>9</th>\n",
       "      <td>125</td>\n",
       "      <td>0.004665</td>\n",
       "      <td>0.5%</td>\n",
       "    </tr>\n",
       "    <tr>\n",
       "      <th>10</th>\n",
       "      <td>44</td>\n",
       "      <td>0.001642</td>\n",
       "      <td>0.2%</td>\n",
       "    </tr>\n",
       "  </tbody>\n",
       "</table>\n",
       "</div>"
      ],
      "text/plain": [
       "    counts       per per100\n",
       "2     7487  0.279397  27.9%\n",
       "1     7219  0.269396  26.9%\n",
       "3     5433  0.202747  20.3%\n",
       "4     3142  0.117252  11.7%\n",
       "5     1688  0.062992   6.3%\n",
       "6      904  0.033735   3.4%\n",
       "7      470  0.017539   1.8%\n",
       "8      255  0.009516   1.0%\n",
       "9      125  0.004665   0.5%\n",
       "10      44  0.001642   0.2%"
      ]
     },
     "execution_count": 145,
     "metadata": {},
     "output_type": "execute_result"
    }
   ],
   "source": [
    "s = dfNegative.deepness\n",
    "counts = s.value_counts()\n",
    "percent = s.value_counts(normalize=True)\n",
    "percent100 = s.value_counts(normalize=True).mul(100).round(1).astype(str) + '%'\n",
    "pd.DataFrame({'counts': counts, 'per': percent, 'per100': percent100}).head(10)"
   ]
  },
  {
   "cell_type": "code",
   "execution_count": null,
   "metadata": {},
   "outputs": [],
   "source": []
  }
 ],
 "metadata": {
  "kernelspec": {
   "display_name": "Python 3",
   "language": "python",
   "name": "python3"
  },
  "language_info": {
   "codemirror_mode": {
    "name": "ipython",
    "version": 3
   },
   "file_extension": ".py",
   "mimetype": "text/x-python",
   "name": "python",
   "nbconvert_exporter": "python",
   "pygments_lexer": "ipython3",
   "version": "3.7.3"
  }
 },
 "nbformat": 4,
 "nbformat_minor": 2
}
