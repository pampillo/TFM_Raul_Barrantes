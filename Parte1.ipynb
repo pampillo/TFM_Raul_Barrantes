{
 "cells": [
  {
   "cell_type": "markdown",
   "metadata": {},
   "source": [
    "## Parte 1 - Análisis inicial"
   ]
  },
  {
   "cell_type": "markdown",
   "metadata": {},
   "source": [
    "## Preparación de los datos"
   ]
  },
  {
   "cell_type": "markdown",
   "metadata": {},
   "source": [
    "Se llaman las librerías necesarias su efecto:"
   ]
  },
  {
   "cell_type": "code",
   "execution_count": 1,
   "metadata": {},
   "outputs": [],
   "source": [
    "import xml.etree.cElementTree as ET\n",
    "import os\n",
    "import random\n",
    "import pandas as pd\n",
    "import re\n",
    "%matplotlib inline\n",
    "import numpy as np\n",
    "import matplotlib.pyplot as plt\n",
    "\n"
   ]
  },
  {
   "cell_type": "markdown",
   "metadata": {},
   "source": [
    "Se extraen los datos de los archivos con diagnostico negativo de depresión. De los datos en el corpus se extraen el titulo y el texto."
   ]
  },
  {
   "cell_type": "code",
   "execution_count": null,
   "metadata": {},
   "outputs": [],
   "source": [
    "dirsNegative = ['SourceFiles/erisk 2017 - test split/negative_examples_anonymous/',\n",
    "               'SourceFiles/erisk 2017 - training split/negative_examples_anonymous/',\n",
    "               'SourceFiles/erisk 2018 - test split/neg/']\n",
    "corpusNegative  = []\n",
    "for direc in dirsNegative:\n",
    "    directory = os.fsencode(direc)\n",
    "    for file in os.listdir(directory):\n",
    "        filename = os.fsdecode(file)\n",
    "        tree = ET.parse(direc+filename)\n",
    "        root = tree.getroot()\n",
    "        i = 0\n",
    "        for elem in root:\n",
    "            if i > 0:\n",
    "                if elem.find(\"TITLE\").text.isspace():\n",
    "                    s_title = \"\" \n",
    "                else:\n",
    "                    s_title = re.sub('\\n', '', elem.find(\"TITLE\").text)\n",
    "                s_date = elem.find(\"DATE\").text \n",
    "                s_info = elem.find(\"INFO\").text \n",
    "                if elem.find(\"TEXT\").text.isspace():\n",
    "                    s_text = \"\" \n",
    "                else:\n",
    "                    s_text = re.sub('\\n', ' ', elem.find(\"TEXT\").text)\n",
    "                    \n",
    "                s_diagnose = \"false\"\n",
    "                corpusNegative.append({\"title\": s_title, \"date\": s_date, \"info\": s_info, \"text\": s_text, \"diagnose\": s_diagnose})\n",
    "            i = i + 1\n",
    "    "
   ]
  },
  {
   "cell_type": "markdown",
   "metadata": {},
   "source": [
    "Se extraen los datos de los archivos con diagnostico positivo de depresión."
   ]
  },
  {
   "cell_type": "code",
   "execution_count": 3,
   "metadata": {},
   "outputs": [],
   "source": [
    "dirsPositive = ['SourceFiles/erisk 2017 - test split/positive_examples_anonymous/',\n",
    "                'SourceFiles/erisk 2017 - training split/positive_examples_anonymous/',\n",
    "               'SourceFiles/erisk 2018 - test split/pos/']\n",
    "corpusPositive  = []\n",
    "for direc in dirsPositive:\n",
    "    directory = os.fsencode(direc)\n",
    "    for file in os.listdir(directory):\n",
    "        filename = os.fsdecode(file)\n",
    "        tree = ET.parse(direc+filename)\n",
    "        root = tree.getroot()\n",
    "        i = 0\n",
    "        for elem in root:\n",
    "            if i > 0:\n",
    "                if elem.find(\"TITLE\").text.isspace():\n",
    "                    s_title = \"\" \n",
    "                else:\n",
    "                    s_title = re.sub('\\n', '', elem.find(\"TITLE\").text)\n",
    "                s_date = elem.find(\"DATE\").text \n",
    "                s_info = elem.find(\"INFO\").text \n",
    "                if elem.find(\"TEXT\").text.isspace():\n",
    "                    s_text = \"\" \n",
    "                else:\n",
    "                    s_text = re.sub('\\n', ' ', elem.find(\"TEXT\").text)\n",
    "                s_diagnose = \"true\"\n",
    "                corpusPositive.append({\"title\": s_title, \"date\": s_date, \"info\": s_info, \"text\": s_text, \"diagnose\": s_diagnose})\n",
    "            i = i + 1\n",
    "    "
   ]
  },
  {
   "cell_type": "markdown",
   "metadata": {},
   "source": [
    "Esta es la longitud de cada corpus, de los textos con casos positivos y negativos."
   ]
  },
  {
   "cell_type": "code",
   "execution_count": 4,
   "metadata": {},
   "outputs": [
    {
     "data": {
      "text/plain": [
       "90222"
      ]
     },
     "execution_count": 4,
     "metadata": {},
     "output_type": "execute_result"
    }
   ],
   "source": [
    "len(corpusPositive)"
   ]
  },
  {
   "cell_type": "code",
   "execution_count": 5,
   "metadata": {},
   "outputs": [
    {
     "data": {
      "text/plain": [
       "986360"
      ]
     },
     "execution_count": 5,
     "metadata": {},
     "output_type": "execute_result"
    }
   ],
   "source": [
    "len(corpusNegative)"
   ]
  },
  {
   "cell_type": "markdown",
   "metadata": {},
   "source": [
    "Se convierten las listas dataframes de Pandas:"
   ]
  },
  {
   "cell_type": "code",
   "execution_count": 6,
   "metadata": {},
   "outputs": [],
   "source": [
    "dfPositive = pd.DataFrame(corpusPositive) "
   ]
  },
  {
   "cell_type": "code",
   "execution_count": 11,
   "metadata": {},
   "outputs": [],
   "source": [
    "dfNegative = pd.DataFrame(corpusNegative) "
   ]
  },
  {
   "cell_type": "code",
   "execution_count": 8,
   "metadata": {},
   "outputs": [],
   "source": [
    "dfPositive['text'] = dfPositive['title'].astype(str) + dfPositive['text'].astype(str)\n"
   ]
  },
  {
   "cell_type": "code",
   "execution_count": 13,
   "metadata": {},
   "outputs": [],
   "source": [
    "dfNegative['text'] = dfNegative['title'].astype(str) + dfNegative['text'].astype(str)\n",
    "dfNegative = dfNegative.drop(['title'], axis=1)"
   ]
  },
  {
   "cell_type": "code",
   "execution_count": null,
   "metadata": {},
   "outputs": [],
   "source": [
    "dfPositive = dfPositive.drop(['title'], axis=1)"
   ]
  },
  {
   "cell_type": "markdown",
   "metadata": {},
   "source": [
    "Se extraen los datos del conteo de palabras y carácteres del texto."
   ]
  },
  {
   "cell_type": "code",
   "execution_count": 14,
   "metadata": {},
   "outputs": [],
   "source": [
    "def word_count(sentence):\n",
    "    if sentence=='':\n",
    "        return 0\n",
    "    else:\n",
    "        return len(str(sentence).split(\" \"))\n",
    "\n",
    "\n",
    "dfPositive['word_count_text'] = dfPositive['text'].apply(lambda x: word_count(x))\n",
    "dfNegative['word_count_text'] = dfNegative['text'].apply(lambda x: word_count(x))"
   ]
  },
  {
   "cell_type": "code",
   "execution_count": 15,
   "metadata": {},
   "outputs": [],
   "source": [
    "dfPositive['char_count_text'] = dfPositive['text'].str.len() \n",
    "dfNegative['char_count_text'] = dfNegative['text'].str.len() "
   ]
  },
  {
   "cell_type": "markdown",
   "metadata": {},
   "source": [
    "Se extraen los datos del promedio de tamaño de las palabras en el texto."
   ]
  },
  {
   "cell_type": "code",
   "execution_count": 16,
   "metadata": {},
   "outputs": [],
   "source": [
    "def avg_word(sentence):\n",
    "    words = sentence.split()\n",
    "    if len(words) == 0:\n",
    "        return 0\n",
    "    else:\n",
    "      return (sum(len(word) for word in words)/len(words))\n",
    "\n",
    "dfPositive['avg_word_text'] = dfPositive['text'].apply(lambda x: avg_word(x))\n",
    "dfNegative['avg_word_text'] = dfNegative['text'].apply(lambda x: avg_word(x))\n"
   ]
  },
  {
   "cell_type": "markdown",
   "metadata": {},
   "source": [
    "Se extraen los datos del promedio de tamaño de las palabras en el texto."
   ]
  },
  {
   "cell_type": "code",
   "execution_count": 17,
   "metadata": {},
   "outputs": [],
   "source": [
    "from nltk.corpus import stopwords\n",
    "stop = stopwords.words('english')\n",
    "\n",
    "def stop_words(sentence):\n",
    "    words = sentence.split()\n",
    "    if len(words) == 0:\n",
    "        return -1\n",
    "    else:\n",
    "      return len([sentence for sentence in sentence.split() if sentence in stop])\n",
    "\n",
    "\n",
    "dfPositive['stopwords_text'] = dfPositive['text'].apply(lambda x: stop_words(x))\n",
    "dfNegative['stopwords_text'] = dfNegative['text'].apply(lambda x: stop_words(x))"
   ]
  },
  {
   "cell_type": "code",
   "execution_count": 18,
   "metadata": {},
   "outputs": [],
   "source": [
    "dfPositive['percentage_stopwords'] = dfPositive['stopwords_text']/(dfPositive['word_count_text']/100)\n",
    "dfNegative['percentage_stopwords'] = dfNegative['stopwords_text']/(dfNegative['word_count_text']/100)"
   ]
  },
  {
   "cell_type": "code",
   "execution_count": 19,
   "metadata": {},
   "outputs": [],
   "source": [
    "import pickle\n",
    "with open('dfPositive.pickle', 'wb') as handle:\n",
    "    pickle.dump(dfPositive, handle, protocol=pickle.HIGHEST_PROTOCOL)\n",
    "with open('dfNegative.pickle', 'wb') as handle:\n",
    "    pickle.dump(dfNegative, handle, protocol=pickle.HIGHEST_PROTOCOL)"
   ]
  },
  {
   "cell_type": "code",
   "execution_count": 7,
   "metadata": {},
   "outputs": [],
   "source": [
    "import pickle\n",
    "with open('dfPositive.pickle', 'rb') as handle:\n",
    "     dfPositive = pickle.load(handle)\n",
    "with open('dfNegative.pickle', 'rb') as handle:\n",
    "     dfNegative = pickle.load(handle)"
   ]
  },
  {
   "cell_type": "markdown",
   "metadata": {},
   "source": [
    "Aquí se pueden ver los dataframes de los datos positivos y negativos."
   ]
  },
  {
   "cell_type": "code",
   "execution_count": 19,
   "metadata": {},
   "outputs": [
    {
     "data": {
      "text/html": [
       "<div>\n",
       "<style scoped>\n",
       "    .dataframe tbody tr th:only-of-type {\n",
       "        vertical-align: middle;\n",
       "    }\n",
       "\n",
       "    .dataframe tbody tr th {\n",
       "        vertical-align: top;\n",
       "    }\n",
       "\n",
       "    .dataframe thead th {\n",
       "        text-align: right;\n",
       "    }\n",
       "</style>\n",
       "<table border=\"1\" class=\"dataframe\">\n",
       "  <thead>\n",
       "    <tr style=\"text-align: right;\">\n",
       "      <th></th>\n",
       "      <th>date</th>\n",
       "      <th>info</th>\n",
       "      <th>text</th>\n",
       "      <th>diagnose</th>\n",
       "      <th>word_count_text</th>\n",
       "      <th>char_count_text</th>\n",
       "      <th>avg_word_text</th>\n",
       "      <th>stopwords_text</th>\n",
       "      <th>percentage_stopwords</th>\n",
       "      <th>tree</th>\n",
       "    </tr>\n",
       "  </thead>\n",
       "  <tbody>\n",
       "    <tr>\n",
       "      <th>0</th>\n",
       "      <td>2015-05-04 07:25:36</td>\n",
       "      <td>reddit post</td>\n",
       "      <td>I go after what I want. Why should I wait for...</td>\n",
       "      <td>true</td>\n",
       "      <td>27</td>\n",
       "      <td>115</td>\n",
       "      <td>3.708333</td>\n",
       "      <td>10</td>\n",
       "      <td>37.037037</td>\n",
       "      <td>b'( Root (span 1 4)\\r\\n  ( Nucleus (leaf 1) (r...</td>\n",
       "    </tr>\n",
       "    <tr>\n",
       "      <th>1</th>\n",
       "      <td>2014-11-27 18:45:56</td>\n",
       "      <td>reddit post</td>\n",
       "      <td>Air travel on thanksgiving...</td>\n",
       "      <td>true</td>\n",
       "      <td>6</td>\n",
       "      <td>31</td>\n",
       "      <td>6.500000</td>\n",
       "      <td>1</td>\n",
       "      <td>16.666667</td>\n",
       "      <td>No</td>\n",
       "    </tr>\n",
       "    <tr>\n",
       "      <th>2</th>\n",
       "      <td>2014-10-29 03:17:24</td>\n",
       "      <td>reddit post</td>\n",
       "      <td>Go Cyclones!!!</td>\n",
       "      <td>true</td>\n",
       "      <td>5</td>\n",
       "      <td>17</td>\n",
       "      <td>6.500000</td>\n",
       "      <td>0</td>\n",
       "      <td>0.000000</td>\n",
       "      <td>No</td>\n",
       "    </tr>\n",
       "    <tr>\n",
       "      <th>3</th>\n",
       "      <td>2014-10-26 19:39:11</td>\n",
       "      <td>reddit post</td>\n",
       "      <td>My parents grew up here (New Holland). It's l...</td>\n",
       "      <td>true</td>\n",
       "      <td>32</td>\n",
       "      <td>176</td>\n",
       "      <td>5.000000</td>\n",
       "      <td>7</td>\n",
       "      <td>21.875000</td>\n",
       "      <td>b'( Root (span 1 6)\\r\\n  ( Nucleus (span 1 5) ...</td>\n",
       "    </tr>\n",
       "    <tr>\n",
       "      <th>4</th>\n",
       "      <td>2014-10-12 04:44:01</td>\n",
       "      <td>reddit post</td>\n",
       "      <td>Fifty Shades of Ebola</td>\n",
       "      <td>true</td>\n",
       "      <td>6</td>\n",
       "      <td>23</td>\n",
       "      <td>4.500000</td>\n",
       "      <td>1</td>\n",
       "      <td>16.666667</td>\n",
       "      <td>No</td>\n",
       "    </tr>\n",
       "    <tr>\n",
       "      <th>...</th>\n",
       "      <td>...</td>\n",
       "      <td>...</td>\n",
       "      <td>...</td>\n",
       "      <td>...</td>\n",
       "      <td>...</td>\n",
       "      <td>...</td>\n",
       "      <td>...</td>\n",
       "      <td>...</td>\n",
       "      <td>...</td>\n",
       "      <td>...</td>\n",
       "    </tr>\n",
       "    <tr>\n",
       "      <th>90217</th>\n",
       "      <td>2015-06-11 00:59:27</td>\n",
       "      <td>reddit post</td>\n",
       "      <td>Small claims court?</td>\n",
       "      <td>true</td>\n",
       "      <td>5</td>\n",
       "      <td>21</td>\n",
       "      <td>5.666667</td>\n",
       "      <td>0</td>\n",
       "      <td>0.000000</td>\n",
       "      <td>NaN</td>\n",
       "    </tr>\n",
       "    <tr>\n",
       "      <th>90218</th>\n",
       "      <td>2015-06-10 23:38:58</td>\n",
       "      <td>reddit post</td>\n",
       "      <td>His physique is so good, his muscles can meta...</td>\n",
       "      <td>true</td>\n",
       "      <td>30</td>\n",
       "      <td>144</td>\n",
       "      <td>4.259259</td>\n",
       "      <td>10</td>\n",
       "      <td>33.333333</td>\n",
       "      <td>NaN</td>\n",
       "    </tr>\n",
       "    <tr>\n",
       "      <th>90219</th>\n",
       "      <td>2015-06-10 20:14:38</td>\n",
       "      <td>reddit post</td>\n",
       "      <td>jetpack made of muscle  http://drmcninja.com...</td>\n",
       "      <td>true</td>\n",
       "      <td>9</td>\n",
       "      <td>68</td>\n",
       "      <td>12.000000</td>\n",
       "      <td>1</td>\n",
       "      <td>11.111111</td>\n",
       "      <td>NaN</td>\n",
       "    </tr>\n",
       "    <tr>\n",
       "      <th>90220</th>\n",
       "      <td>2015-05-29 15:06:29</td>\n",
       "      <td>reddit post</td>\n",
       "      <td>For one, she said it would invalidate his pr...</td>\n",
       "      <td>true</td>\n",
       "      <td>33</td>\n",
       "      <td>176</td>\n",
       "      <td>4.965517</td>\n",
       "      <td>11</td>\n",
       "      <td>33.333333</td>\n",
       "      <td>NaN</td>\n",
       "    </tr>\n",
       "    <tr>\n",
       "      <th>90221</th>\n",
       "      <td>2015-05-26 20:15:37</td>\n",
       "      <td>reddit post</td>\n",
       "      <td>Do you have any suggestions if I find that so...</td>\n",
       "      <td>true</td>\n",
       "      <td>18</td>\n",
       "      <td>88</td>\n",
       "      <td>4.437500</td>\n",
       "      <td>7</td>\n",
       "      <td>38.888889</td>\n",
       "      <td>NaN</td>\n",
       "    </tr>\n",
       "  </tbody>\n",
       "</table>\n",
       "<p>90222 rows × 10 columns</p>\n",
       "</div>"
      ],
      "text/plain": [
       "                        date           info  \\\n",
       "0       2015-05-04 07:25:36    reddit post    \n",
       "1       2014-11-27 18:45:56    reddit post    \n",
       "2       2014-10-29 03:17:24    reddit post    \n",
       "3       2014-10-26 19:39:11    reddit post    \n",
       "4       2014-10-12 04:44:01    reddit post    \n",
       "...                      ...            ...   \n",
       "90217   2015-06-11 00:59:27    reddit post    \n",
       "90218   2015-06-10 23:38:58    reddit post    \n",
       "90219   2015-06-10 20:14:38    reddit post    \n",
       "90220   2015-05-29 15:06:29    reddit post    \n",
       "90221   2015-05-26 20:15:37    reddit post    \n",
       "\n",
       "                                                    text diagnose  \\\n",
       "0       I go after what I want. Why should I wait for...     true   \n",
       "1                         Air travel on thanksgiving...      true   \n",
       "2                                       Go Cyclones!!!       true   \n",
       "3       My parents grew up here (New Holland). It's l...     true   \n",
       "4                                 Fifty Shades of Ebola      true   \n",
       "...                                                  ...      ...   \n",
       "90217                               Small claims court?      true   \n",
       "90218   His physique is so good, his muscles can meta...     true   \n",
       "90219    jetpack made of muscle  http://drmcninja.com...     true   \n",
       "90220    For one, she said it would invalidate his pr...     true   \n",
       "90221   Do you have any suggestions if I find that so...     true   \n",
       "\n",
       "       word_count_text  char_count_text  avg_word_text  stopwords_text  \\\n",
       "0                   27              115       3.708333              10   \n",
       "1                    6               31       6.500000               1   \n",
       "2                    5               17       6.500000               0   \n",
       "3                   32              176       5.000000               7   \n",
       "4                    6               23       4.500000               1   \n",
       "...                ...              ...            ...             ...   \n",
       "90217                5               21       5.666667               0   \n",
       "90218               30              144       4.259259              10   \n",
       "90219                9               68      12.000000               1   \n",
       "90220               33              176       4.965517              11   \n",
       "90221               18               88       4.437500               7   \n",
       "\n",
       "       percentage_stopwords                                               tree  \n",
       "0                 37.037037  b'( Root (span 1 4)\\r\\n  ( Nucleus (leaf 1) (r...  \n",
       "1                 16.666667                                                 No  \n",
       "2                  0.000000                                                 No  \n",
       "3                 21.875000  b'( Root (span 1 6)\\r\\n  ( Nucleus (span 1 5) ...  \n",
       "4                 16.666667                                                 No  \n",
       "...                     ...                                                ...  \n",
       "90217              0.000000                                                NaN  \n",
       "90218             33.333333                                                NaN  \n",
       "90219             11.111111                                                NaN  \n",
       "90220             33.333333                                                NaN  \n",
       "90221             38.888889                                                NaN  \n",
       "\n",
       "[90222 rows x 10 columns]"
      ]
     },
     "execution_count": 19,
     "metadata": {},
     "output_type": "execute_result"
    }
   ],
   "source": [
    "dfPositive"
   ]
  },
  {
   "cell_type": "code",
   "execution_count": 20,
   "metadata": {},
   "outputs": [
    {
     "data": {
      "text/html": [
       "<div>\n",
       "<style scoped>\n",
       "    .dataframe tbody tr th:only-of-type {\n",
       "        vertical-align: middle;\n",
       "    }\n",
       "\n",
       "    .dataframe tbody tr th {\n",
       "        vertical-align: top;\n",
       "    }\n",
       "\n",
       "    .dataframe thead th {\n",
       "        text-align: right;\n",
       "    }\n",
       "</style>\n",
       "<table border=\"1\" class=\"dataframe\">\n",
       "  <thead>\n",
       "    <tr style=\"text-align: right;\">\n",
       "      <th></th>\n",
       "      <th>date</th>\n",
       "      <th>info</th>\n",
       "      <th>text</th>\n",
       "      <th>diagnose</th>\n",
       "      <th>word_count_text</th>\n",
       "      <th>char_count_text</th>\n",
       "      <th>avg_word_text</th>\n",
       "      <th>stopwords_text</th>\n",
       "      <th>percentage_stopwords</th>\n",
       "    </tr>\n",
       "  </thead>\n",
       "  <tbody>\n",
       "    <tr>\n",
       "      <th>0</th>\n",
       "      <td>2015-07-22 04:10:12</td>\n",
       "      <td>reddit post</td>\n",
       "      <td>Or at least the best pickled herring you can ...</td>\n",
       "      <td>false</td>\n",
       "      <td>14</td>\n",
       "      <td>62</td>\n",
       "      <td>4.083333</td>\n",
       "      <td>5</td>\n",
       "      <td>35.714286</td>\n",
       "    </tr>\n",
       "    <tr>\n",
       "      <th>1</th>\n",
       "      <td>2015-07-22 04:09:18</td>\n",
       "      <td>reddit post</td>\n",
       "      <td>This is the best shit</td>\n",
       "      <td>false</td>\n",
       "      <td>7</td>\n",
       "      <td>23</td>\n",
       "      <td>3.400000</td>\n",
       "      <td>2</td>\n",
       "      <td>28.571429</td>\n",
       "    </tr>\n",
       "    <tr>\n",
       "      <th>2</th>\n",
       "      <td>2015-07-22 04:07:17</td>\n",
       "      <td>reddit post</td>\n",
       "      <td>My favorite snack (pickled herring + saltines)</td>\n",
       "      <td>false</td>\n",
       "      <td>9</td>\n",
       "      <td>48</td>\n",
       "      <td>5.714286</td>\n",
       "      <td>0</td>\n",
       "      <td>0.000000</td>\n",
       "    </tr>\n",
       "    <tr>\n",
       "      <th>3</th>\n",
       "      <td>2015-07-21 16:51:21</td>\n",
       "      <td>reddit post</td>\n",
       "      <td>I make curried butternut squash risotto. Fusi...</td>\n",
       "      <td>false</td>\n",
       "      <td>14</td>\n",
       "      <td>75</td>\n",
       "      <td>5.166667</td>\n",
       "      <td>1</td>\n",
       "      <td>7.142857</td>\n",
       "    </tr>\n",
       "    <tr>\n",
       "      <th>4</th>\n",
       "      <td>2015-07-21 15:40:41</td>\n",
       "      <td>reddit post</td>\n",
       "      <td>Bake like crazy.  You can also freeze some, b...</td>\n",
       "      <td>false</td>\n",
       "      <td>39</td>\n",
       "      <td>191</td>\n",
       "      <td>4.250000</td>\n",
       "      <td>15</td>\n",
       "      <td>38.461538</td>\n",
       "    </tr>\n",
       "    <tr>\n",
       "      <th>...</th>\n",
       "      <td>...</td>\n",
       "      <td>...</td>\n",
       "      <td>...</td>\n",
       "      <td>...</td>\n",
       "      <td>...</td>\n",
       "      <td>...</td>\n",
       "      <td>...</td>\n",
       "      <td>...</td>\n",
       "      <td>...</td>\n",
       "    </tr>\n",
       "    <tr>\n",
       "      <th>986355</th>\n",
       "      <td>2016-11-25 17:50:40</td>\n",
       "      <td>reddit post</td>\n",
       "      <td>In what alternate reality would someone get p...</td>\n",
       "      <td>false</td>\n",
       "      <td>22</td>\n",
       "      <td>118</td>\n",
       "      <td>4.850000</td>\n",
       "      <td>6</td>\n",
       "      <td>27.272727</td>\n",
       "    </tr>\n",
       "    <tr>\n",
       "      <th>986356</th>\n",
       "      <td>2016-11-25 17:42:31</td>\n",
       "      <td>reddit post</td>\n",
       "      <td>First you thought I was a propaganda bot, and...</td>\n",
       "      <td>false</td>\n",
       "      <td>20</td>\n",
       "      <td>95</td>\n",
       "      <td>4.222222</td>\n",
       "      <td>8</td>\n",
       "      <td>40.000000</td>\n",
       "    </tr>\n",
       "    <tr>\n",
       "      <th>986357</th>\n",
       "      <td>2016-11-25 17:25:23</td>\n",
       "      <td>reddit post</td>\n",
       "      <td>Look at your account. You do absolutely nothi...</td>\n",
       "      <td>false</td>\n",
       "      <td>37</td>\n",
       "      <td>213</td>\n",
       "      <td>5.057143</td>\n",
       "      <td>13</td>\n",
       "      <td>35.135135</td>\n",
       "    </tr>\n",
       "    <tr>\n",
       "      <th>986358</th>\n",
       "      <td>2016-11-25 17:25:03</td>\n",
       "      <td>reddit post</td>\n",
       "      <td>Look at your account. You do absolutely nothi...</td>\n",
       "      <td>false</td>\n",
       "      <td>37</td>\n",
       "      <td>215</td>\n",
       "      <td>5.114286</td>\n",
       "      <td>13</td>\n",
       "      <td>35.135135</td>\n",
       "    </tr>\n",
       "    <tr>\n",
       "      <th>986359</th>\n",
       "      <td>2016-11-25 17:24:21</td>\n",
       "      <td>reddit post</td>\n",
       "      <td>Look at your account. You do absolutely nothi...</td>\n",
       "      <td>false</td>\n",
       "      <td>37</td>\n",
       "      <td>215</td>\n",
       "      <td>5.114286</td>\n",
       "      <td>13</td>\n",
       "      <td>35.135135</td>\n",
       "    </tr>\n",
       "  </tbody>\n",
       "</table>\n",
       "<p>986360 rows × 9 columns</p>\n",
       "</div>"
      ],
      "text/plain": [
       "                         date           info  \\\n",
       "0        2015-07-22 04:10:12    reddit post    \n",
       "1        2015-07-22 04:09:18    reddit post    \n",
       "2        2015-07-22 04:07:17    reddit post    \n",
       "3        2015-07-21 16:51:21    reddit post    \n",
       "4        2015-07-21 15:40:41    reddit post    \n",
       "...                       ...            ...   \n",
       "986355   2016-11-25 17:50:40    reddit post    \n",
       "986356   2016-11-25 17:42:31    reddit post    \n",
       "986357   2016-11-25 17:25:23    reddit post    \n",
       "986358   2016-11-25 17:25:03    reddit post    \n",
       "986359   2016-11-25 17:24:21    reddit post    \n",
       "\n",
       "                                                     text diagnose  \\\n",
       "0        Or at least the best pickled herring you can ...    false   \n",
       "1                                  This is the best shit     false   \n",
       "2         My favorite snack (pickled herring + saltines)     false   \n",
       "3        I make curried butternut squash risotto. Fusi...    false   \n",
       "4        Bake like crazy.  You can also freeze some, b...    false   \n",
       "...                                                   ...      ...   \n",
       "986355   In what alternate reality would someone get p...    false   \n",
       "986356   First you thought I was a propaganda bot, and...    false   \n",
       "986357   Look at your account. You do absolutely nothi...    false   \n",
       "986358   Look at your account. You do absolutely nothi...    false   \n",
       "986359   Look at your account. You do absolutely nothi...    false   \n",
       "\n",
       "        word_count_text  char_count_text  avg_word_text  stopwords_text  \\\n",
       "0                    14               62       4.083333               5   \n",
       "1                     7               23       3.400000               2   \n",
       "2                     9               48       5.714286               0   \n",
       "3                    14               75       5.166667               1   \n",
       "4                    39              191       4.250000              15   \n",
       "...                 ...              ...            ...             ...   \n",
       "986355               22              118       4.850000               6   \n",
       "986356               20               95       4.222222               8   \n",
       "986357               37              213       5.057143              13   \n",
       "986358               37              215       5.114286              13   \n",
       "986359               37              215       5.114286              13   \n",
       "\n",
       "        percentage_stopwords  \n",
       "0                  35.714286  \n",
       "1                  28.571429  \n",
       "2                   0.000000  \n",
       "3                   7.142857  \n",
       "4                  38.461538  \n",
       "...                      ...  \n",
       "986355             27.272727  \n",
       "986356             40.000000  \n",
       "986357             35.135135  \n",
       "986358             35.135135  \n",
       "986359             35.135135  \n",
       "\n",
       "[986360 rows x 9 columns]"
      ]
     },
     "execution_count": 20,
     "metadata": {},
     "output_type": "execute_result"
    }
   ],
   "source": [
    "dfNegative"
   ]
  },
  {
   "cell_type": "markdown",
   "metadata": {},
   "source": [
    "## Análisis descriptivo de los datos"
   ]
  },
  {
   "cell_type": "markdown",
   "metadata": {},
   "source": [
    "### Histogramas con casos negativos"
   ]
  },
  {
   "cell_type": "markdown",
   "metadata": {},
   "source": [
    "#### Conteo de las palabras en el texto (de 1 a 100, sin contar los datos que están vacíos)."
   ]
  },
  {
   "cell_type": "code",
   "execution_count": 17,
   "metadata": {},
   "outputs": [
    {
     "data": {
      "image/png": "[encoded data removed]",
      "text/plain": [
       "<Figure size 432x288 with 1 Axes>"
      ]
     },
     "metadata": {
      "needs_background": "light"
     },
     "output_type": "display_data"
    }
   ],
   "source": [
    "hist = dfNegative.hist(column='word_count_text', bins=100, range=(1,100)) "
   ]
  },
  {
   "cell_type": "markdown",
   "metadata": {},
   "source": [
    "#### Conteo de caracteres en el texto (de 1 a 100, sin contar los datos que están vacíos)."
   ]
  },
  {
   "cell_type": "code",
   "execution_count": 18,
   "metadata": {},
   "outputs": [
    {
     "data": {
      "image/png": "[encoded data removed]",
      "text/plain": [
       "<Figure size 432x288 with 1 Axes>"
      ]
     },
     "metadata": {
      "needs_background": "light"
     },
     "output_type": "display_data"
    }
   ],
   "source": [
    "hist = dfNegative.hist(column='char_count_text', bins=100, range=(1,1000)) "
   ]
  },
  {
   "cell_type": "markdown",
   "metadata": {},
   "source": [
    "#### Promedio de caracteres por palabra en el título (mayores que 0)"
   ]
  },
  {
   "cell_type": "code",
   "execution_count": 19,
   "metadata": {},
   "outputs": [
    {
     "data": {
      "image/png": "[encoded data removed]",
      "text/plain": [
       "<Figure size 432x288 with 1 Axes>"
      ]
     },
     "metadata": {
      "needs_background": "light"
     },
     "output_type": "display_data"
    }
   ],
   "source": [
    "hist = dfNegative.hist(column='avg_word_text', bins=100, range=(1,20)) "
   ]
  },
  {
   "cell_type": "markdown",
   "metadata": {},
   "source": [
    "#### Número de stopwords en el texto (cuando el texto no es vacío)"
   ]
  },
  {
   "cell_type": "code",
   "execution_count": 20,
   "metadata": {},
   "outputs": [
    {
     "data": {
      "image/png": "[encoded data removed]",
      "text/plain": [
       "<Figure size 432x288 with 1 Axes>"
      ]
     },
     "metadata": {
      "needs_background": "light"
     },
     "output_type": "display_data"
    }
   ],
   "source": [
    "hist = dfNegative.hist(column='stopwords_text', bins=100, range=(0,100)) "
   ]
  },
  {
   "cell_type": "markdown",
   "metadata": {},
   "source": [
    "#### Porcentaje de stopwords en el texto (cuando el texto no es vacío)"
   ]
  },
  {
   "cell_type": "code",
   "execution_count": 21,
   "metadata": {},
   "outputs": [
    {
     "data": {
      "image/png": "[encoded data removed]",
      "text/plain": [
       "<Figure size 432x288 with 1 Axes>"
      ]
     },
     "metadata": {
      "needs_background": "light"
     },
     "output_type": "display_data"
    }
   ],
   "source": [
    "hist = dfPositive.hist(column='percentage_stopwords', bins=100, range=(0,100)) "
   ]
  },
  {
   "cell_type": "markdown",
   "metadata": {},
   "source": [
    "### Histograma con casos positivos"
   ]
  },
  {
   "cell_type": "markdown",
   "metadata": {},
   "source": [
    "#### Conteo de las palabras en el texto (de 1 a 100, sin contar los datos que están vacíos)."
   ]
  },
  {
   "cell_type": "code",
   "execution_count": 22,
   "metadata": {},
   "outputs": [
    {
     "data": {
      "image/png": "[encoded data removed]",
      "text/plain": [
       "<Figure size 432x288 with 1 Axes>"
      ]
     },
     "metadata": {
      "needs_background": "light"
     },
     "output_type": "display_data"
    }
   ],
   "source": [
    "hist = dfPositive.hist(column='word_count_text', bins=100, range=(1,100)) "
   ]
  },
  {
   "cell_type": "markdown",
   "metadata": {},
   "source": [
    "#### Conteo de caracteres en el texto (de 1 a 100, sin contar los datos que están vacíos)."
   ]
  },
  {
   "cell_type": "code",
   "execution_count": 23,
   "metadata": {},
   "outputs": [
    {
     "data": {
      "image/png": "[encoded data removed]",
      "text/plain": [
       "<Figure size 432x288 with 1 Axes>"
      ]
     },
     "metadata": {
      "needs_background": "light"
     },
     "output_type": "display_data"
    }
   ],
   "source": [
    "hist = dfPositive.hist(column='char_count_text', bins=100, range=(1,1000)) "
   ]
  },
  {
   "cell_type": "markdown",
   "metadata": {},
   "source": [
    "#### Promedio de caracteres por palabra en el texto (mayores que 0)"
   ]
  },
  {
   "cell_type": "code",
   "execution_count": 24,
   "metadata": {},
   "outputs": [
    {
     "data": {
      "image/png": "[encoded data removed]",
      "text/plain": [
       "<Figure size 432x288 with 1 Axes>"
      ]
     },
     "metadata": {
      "needs_background": "light"
     },
     "output_type": "display_data"
    }
   ],
   "source": [
    "hist = dfPositive.hist(column='avg_word_text', bins=100, range=(1,20)) "
   ]
  },
  {
   "cell_type": "markdown",
   "metadata": {},
   "source": [
    "#### Número de stopwords en el texto (cuando el texto no es vacío)"
   ]
  },
  {
   "cell_type": "code",
   "execution_count": 25,
   "metadata": {},
   "outputs": [
    {
     "data": {
      "image/png": "[encoded data removed]",
      "text/plain": [
       "<Figure size 432x288 with 1 Axes>"
      ]
     },
     "metadata": {
      "needs_background": "light"
     },
     "output_type": "display_data"
    }
   ],
   "source": [
    "hist = dfPositive.hist(column='percentage_stopwords', bins=100, range=(0,100)) "
   ]
  },
  {
   "cell_type": "markdown",
   "metadata": {},
   "source": [
    "### Histogramas con datos conjuntos"
   ]
  },
  {
   "cell_type": "markdown",
   "metadata": {},
   "source": [
    "Los datos del dataset con datos con diagnóstico negativo están en rojo y los datos con el diagnóstico positivo están en verde."
   ]
  },
  {
   "cell_type": "markdown",
   "metadata": {},
   "source": [
    "#### Conteo de las palabras en el texto (de 1 a 100, sin contar los datos que están vacíos)."
   ]
  },
  {
   "cell_type": "code",
   "execution_count": 26,
   "metadata": {},
   "outputs": [
    {
     "data": {
      "text/plain": [
       "<BarContainer object of 20 artists>"
      ]
     },
     "execution_count": 26,
     "metadata": {},
     "output_type": "execute_result"
    },
    {
     "data": {
      "image/png": "[encoded data removed]",
      "text/plain": [
       "<Figure size 432x288 with 1 Axes>"
      ]
     },
     "metadata": {
      "needs_background": "light"
     },
     "output_type": "display_data"
    }
   ],
   "source": [
    "fig, ax = plt.subplots()\n",
    "\n",
    "a_heights, a_bins = np.histogram(dfNegative['word_count_text'], bins=20, range=(1,100))\n",
    "b_heights, b_bins = np.histogram(dfPositive['word_count_text'], bins=20, range=(1,100))\n",
    "\n",
    "width = (a_bins[1] - a_bins[0])/3\n",
    "\n",
    "ax.bar(a_bins[:-1], a_heights, width=width, facecolor='red')\n",
    "ax.bar(b_bins[:-1]+width, b_heights, width=width, facecolor='seagreen')"
   ]
  },
  {
   "cell_type": "markdown",
   "metadata": {},
   "source": [
    "#### Conteo de las caracteres en el texto (de 1 a 100, sin contar los datos que están vacíos)."
   ]
  },
  {
   "cell_type": "code",
   "execution_count": 27,
   "metadata": {},
   "outputs": [
    {
     "data": {
      "text/plain": [
       "<BarContainer object of 20 artists>"
      ]
     },
     "execution_count": 27,
     "metadata": {},
     "output_type": "execute_result"
    },
    {
     "data": {
      "image/png": "[encoded data removed]",
      "text/plain": [
       "<Figure size 432x288 with 1 Axes>"
      ]
     },
     "metadata": {
      "needs_background": "light"
     },
     "output_type": "display_data"
    }
   ],
   "source": [
    "fig, ax = plt.subplots()\n",
    "\n",
    "a_heights, a_bins = np.histogram(dfNegative['char_count_text'], bins=20, range=(1,1000))\n",
    "b_heights, b_bins = np.histogram(dfPositive['char_count_text'], bins=20, range=(1,1000))\n",
    "\n",
    "width = (a_bins[1] - a_bins[0])/3\n",
    "\n",
    "ax.bar(a_bins[:-1], a_heights, width=width, facecolor='red')\n",
    "ax.bar(b_bins[:-1]+width, b_heights, width=width, facecolor='seagreen')"
   ]
  },
  {
   "cell_type": "markdown",
   "metadata": {},
   "source": [
    "#### Promedio de caracteres por palabras en el texto (de 1 a 10, sin contar los datos que están vacíos)."
   ]
  },
  {
   "cell_type": "code",
   "execution_count": 28,
   "metadata": {},
   "outputs": [
    {
     "data": {
      "text/plain": [
       "<BarContainer object of 20 artists>"
      ]
     },
     "execution_count": 28,
     "metadata": {},
     "output_type": "execute_result"
    },
    {
     "data": {
      "image/png": "[encoded data removed]",
      "text/plain": [
       "<Figure size 432x288 with 1 Axes>"
      ]
     },
     "metadata": {
      "needs_background": "light"
     },
     "output_type": "display_data"
    }
   ],
   "source": [
    "fig, ax = plt.subplots()\n",
    "\n",
    "a_heights, a_bins = np.histogram(dfNegative['avg_word_text'], bins=20, range=(1,10))\n",
    "b_heights, b_bins = np.histogram(dfPositive['avg_word_text'], bins=20, range=(1,10))\n",
    "\n",
    "width = (a_bins[1] - a_bins[0])/3\n",
    "\n",
    "ax.bar(a_bins[:-1], a_heights, width=width, facecolor='red')\n",
    "ax.bar(b_bins[:-1]+width, b_heights, width=width, facecolor='seagreen')"
   ]
  },
  {
   "cell_type": "markdown",
   "metadata": {},
   "source": [
    "#### Número de stopwords en el texto (de 1 a 20, sin contar los datos que están vacíos)."
   ]
  },
  {
   "cell_type": "code",
   "execution_count": 29,
   "metadata": {},
   "outputs": [
    {
     "data": {
      "text/plain": [
       "<BarContainer object of 20 artists>"
      ]
     },
     "execution_count": 29,
     "metadata": {},
     "output_type": "execute_result"
    },
    {
     "data": {
      "image/png": "[encoded data removed]",
      "text/plain": [
       "<Figure size 432x288 with 1 Axes>"
      ]
     },
     "metadata": {
      "needs_background": "light"
     },
     "output_type": "display_data"
    }
   ],
   "source": [
    "fig, ax = plt.subplots()\n",
    "\n",
    "a_heights, a_bins = np.histogram(dfNegative['stopwords_text'], bins=20, range=(1,20))\n",
    "b_heights, b_bins = np.histogram(dfPositive['stopwords_text'], bins=20, range=(1,20))\n",
    "\n",
    "width = (a_bins[1] - a_bins[0])/3\n",
    "\n",
    "ax.bar(a_bins[:-1], a_heights, width=width, facecolor='red')\n",
    "ax.bar(b_bins[:-1]+width, b_heights, width=width, facecolor='seagreen')"
   ]
  },
  {
   "cell_type": "markdown",
   "metadata": {},
   "source": [
    "#### Porcentaje de stopwords en el texto."
   ]
  },
  {
   "cell_type": "code",
   "execution_count": 30,
   "metadata": {},
   "outputs": [
    {
     "data": {
      "text/plain": [
       "<BarContainer object of 20 artists>"
      ]
     },
     "execution_count": 30,
     "metadata": {},
     "output_type": "execute_result"
    },
    {
     "data": {
      "image/png": "[encoded data removed]",
      "text/plain": [
       "<Figure size 432x288 with 1 Axes>"
      ]
     },
     "metadata": {
      "needs_background": "light"
     },
     "output_type": "display_data"
    }
   ],
   "source": [
    "fig, ax = plt.subplots()\n",
    "\n",
    "a_heights, a_bins = np.histogram(dfNegative['percentage_stopwords'], bins=20, range=(1,100))\n",
    "b_heights, b_bins = np.histogram(dfPositive['percentage_stopwords'], bins=20, range=(1,100))\n",
    "\n",
    "width = (a_bins[1] - a_bins[0])/3\n",
    "\n",
    "ax.bar(a_bins[:-1], a_heights, width=width, facecolor='red')\n",
    "ax.bar(b_bins[:-1]+width, b_heights, width=width, facecolor='seagreen')"
   ]
  },
  {
   "cell_type": "markdown",
   "metadata": {},
   "source": [
    "### Promedios de columnas"
   ]
  },
  {
   "cell_type": "markdown",
   "metadata": {},
   "source": [
    "**Promedio de cantidad de palabras:** Los textos con diagnostico positivo, tienen más palabras que los textos con diagnostico negativo."
   ]
  },
  {
   "cell_type": "code",
   "execution_count": 31,
   "metadata": {},
   "outputs": [
    {
     "data": {
      "text/plain": [
       "42.805779078273595"
      ]
     },
     "execution_count": 31,
     "metadata": {},
     "output_type": "execute_result"
    }
   ],
   "source": [
    "dfPositive[\"word_count_text\"].mean()"
   ]
  },
  {
   "cell_type": "code",
   "execution_count": 32,
   "metadata": {},
   "outputs": [
    {
     "data": {
      "text/plain": [
       "34.39070623301837"
      ]
     },
     "execution_count": 32,
     "metadata": {},
     "output_type": "execute_result"
    }
   ],
   "source": [
    "dfNegative[\"word_count_text\"].mean()"
   ]
  },
  {
   "cell_type": "markdown",
   "metadata": {},
   "source": [
    "**Promedio de cantidad de caracteres:** Los textos con diagnostico positivo, tienen más caracteres que los textos con diagnostico negativo."
   ]
  },
  {
   "cell_type": "code",
   "execution_count": 33,
   "metadata": {},
   "outputs": [
    {
     "data": {
      "text/plain": [
       "216.6376161025027"
      ]
     },
     "execution_count": 33,
     "metadata": {},
     "output_type": "execute_result"
    }
   ],
   "source": [
    "dfPositive[\"char_count_text\"].mean()"
   ]
  },
  {
   "cell_type": "code",
   "execution_count": 34,
   "metadata": {},
   "outputs": [
    {
     "data": {
      "text/plain": [
       "185.93815341254714"
      ]
     },
     "execution_count": 34,
     "metadata": {},
     "output_type": "execute_result"
    }
   ],
   "source": [
    "dfNegative[\"char_count_text\"].mean()"
   ]
  },
  {
   "cell_type": "markdown",
   "metadata": {},
   "source": [
    "**Promedio de cantidad de caracteres por palabra:** Los textos con diagnostico positivo, tienen menos caracteres por palabra que los textos con diagnostico negativo."
   ]
  },
  {
   "cell_type": "code",
   "execution_count": 35,
   "metadata": {},
   "outputs": [
    {
     "data": {
      "text/plain": [
       "4.872828461635376"
      ]
     },
     "execution_count": 35,
     "metadata": {},
     "output_type": "execute_result"
    }
   ],
   "source": [
    "dfPositive[\"avg_word_text\"].mean()"
   ]
  },
  {
   "cell_type": "code",
   "execution_count": 36,
   "metadata": {},
   "outputs": [
    {
     "data": {
      "text/plain": [
       "6.004193967515472"
      ]
     },
     "execution_count": 36,
     "metadata": {},
     "output_type": "execute_result"
    }
   ],
   "source": [
    "dfNegative[\"avg_word_text\"].mean()"
   ]
  },
  {
   "cell_type": "markdown",
   "metadata": {},
   "source": [
    "**Promedio de cantidad de stopwords:** Los textos con diagnostico positivo, tienen más stopwords que los textos con diagnostico negativo"
   ]
  },
  {
   "cell_type": "code",
   "execution_count": 37,
   "metadata": {},
   "outputs": [
    {
     "data": {
      "text/plain": [
       "15.866828489725345"
      ]
     },
     "execution_count": 37,
     "metadata": {},
     "output_type": "execute_result"
    }
   ],
   "source": [
    "dfPositive[\"stopwords_text\"].mean()"
   ]
  },
  {
   "cell_type": "code",
   "execution_count": 38,
   "metadata": {},
   "outputs": [
    {
     "data": {
      "text/plain": [
       "11.596888559957824"
      ]
     },
     "execution_count": 38,
     "metadata": {},
     "output_type": "execute_result"
    }
   ],
   "source": [
    "dfNegative[\"stopwords_text\"].mean()"
   ]
  },
  {
   "cell_type": "markdown",
   "metadata": {},
   "source": [
    "### Medianas de columnas"
   ]
  },
  {
   "cell_type": "markdown",
   "metadata": {},
   "source": [
    "**Mediana de porcentaje de cantidad de stopwords:** Los textos con diagnostico positivo, tienen más una mediana más grande que los textos con diagnostico negativo"
   ]
  },
  {
   "cell_type": "code",
   "execution_count": 39,
   "metadata": {},
   "outputs": [
    {
     "data": {
      "text/plain": [
       "32.55813953488372"
      ]
     },
     "execution_count": 39,
     "metadata": {},
     "output_type": "execute_result"
    }
   ],
   "source": [
    "dfPositive[\"percentage_stopwords\"].median()"
   ]
  },
  {
   "cell_type": "code",
   "execution_count": 40,
   "metadata": {},
   "outputs": [
    {
     "data": {
      "text/plain": [
       "27.586206896551726"
      ]
     },
     "execution_count": 40,
     "metadata": {},
     "output_type": "execute_result"
    }
   ],
   "source": [
    "dfNegative[\"percentage_stopwords\"].median()"
   ]
  },
  {
   "cell_type": "markdown",
   "metadata": {},
   "source": [
    "**Mediana de cantidad de palabras:** Los textos con diagnostico positivo, tienen más una mediana más grande que los textos con diagnostico negativo."
   ]
  },
  {
   "cell_type": "code",
   "execution_count": 41,
   "metadata": {},
   "outputs": [
    {
     "data": {
      "text/plain": [
       "20.0"
      ]
     },
     "execution_count": 41,
     "metadata": {},
     "output_type": "execute_result"
    }
   ],
   "source": [
    "dfPositive[\"word_count_text\"].median()"
   ]
  },
  {
   "cell_type": "code",
   "execution_count": 42,
   "metadata": {},
   "outputs": [
    {
     "data": {
      "text/plain": [
       "15.0"
      ]
     },
     "execution_count": 42,
     "metadata": {},
     "output_type": "execute_result"
    }
   ],
   "source": [
    "dfNegative[\"word_count_text\"].median()"
   ]
  },
  {
   "cell_type": "markdown",
   "metadata": {},
   "source": [
    "**Mediana de cantidad de caracteres:** Los textos con diagnostico positivo, tienen más una mediana más grande de más caracteres que los textos con diagnostico negativo.\n",
    "\n"
   ]
  },
  {
   "cell_type": "code",
   "execution_count": 43,
   "metadata": {},
   "outputs": [
    {
     "data": {
      "text/plain": [
       "95.0"
      ]
     },
     "execution_count": 43,
     "metadata": {},
     "output_type": "execute_result"
    }
   ],
   "source": [
    "dfPositive[\"char_count_text\"].median()"
   ]
  },
  {
   "cell_type": "code",
   "execution_count": 44,
   "metadata": {},
   "outputs": [
    {
     "data": {
      "text/plain": [
       "78.0"
      ]
     },
     "execution_count": 44,
     "metadata": {},
     "output_type": "execute_result"
    }
   ],
   "source": [
    "dfNegative[\"char_count_text\"].median()"
   ]
  },
  {
   "cell_type": "markdown",
   "metadata": {},
   "source": [
    "**Promedio de cantidad de caracteres por palabra:** Los textos con diagnostico positivo, tienen una media de menos caracteres por palabra que los textos con diagnostico negativo."
   ]
  },
  {
   "cell_type": "code",
   "execution_count": 45,
   "metadata": {},
   "outputs": [
    {
     "data": {
      "text/plain": [
       "4.375817552259223"
      ]
     },
     "execution_count": 45,
     "metadata": {},
     "output_type": "execute_result"
    }
   ],
   "source": [
    "dfPositive[\"avg_word_text\"].median()"
   ]
  },
  {
   "cell_type": "code",
   "execution_count": 46,
   "metadata": {},
   "outputs": [
    {
     "data": {
      "text/plain": [
       "4.714285714285714"
      ]
     },
     "execution_count": 46,
     "metadata": {},
     "output_type": "execute_result"
    }
   ],
   "source": [
    "dfNegative[\"avg_word_text\"].median()"
   ]
  },
  {
   "cell_type": "markdown",
   "metadata": {},
   "source": [
    "# Análisis de los textos usando Genisim"
   ]
  },
  {
   "cell_type": "markdown",
   "metadata": {},
   "source": [
    "Se importan las librerías necesarias:"
   ]
  },
  {
   "cell_type": "code",
   "execution_count": 47,
   "metadata": {},
   "outputs": [],
   "source": [
    "import gensim\n",
    "from gensim import corpora\n",
    "from pprint import pprint\n",
    "from gensim.utils import simple_preprocess\n",
    "from smart_open import smart_open\n",
    "from gensim import models\n",
    "import os"
   ]
  },
  {
   "cell_type": "markdown",
   "metadata": {},
   "source": [
    "Se toma crea y se extrae el texto del diccionario."
   ]
  },
  {
   "cell_type": "code",
   "execution_count": 48,
   "metadata": {},
   "outputs": [],
   "source": [
    "textNegative = [[text for text in doc.split()] for doc in dfNegative[\"text\"]]\n",
    "textPositive = [[text for text in doc.split()] for doc in dfPositive[\"text\"]]"
   ]
  },
  {
   "cell_type": "code",
   "execution_count": 49,
   "metadata": {},
   "outputs": [],
   "source": [
    "dictionaryNegative  = corpora.Dictionary(textNegative)\n",
    "dictionaryPositive  = corpora.Dictionary(textPositive)"
   ]
  },
  {
   "cell_type": "code",
   "execution_count": 50,
   "metadata": {},
   "outputs": [
    {
     "name": "stdout",
     "output_type": "stream",
     "text": [
      "Dictionary(189054 unique tokens: ['I', 'Why', 'after', 'else', 'expectations!']...)\n"
     ]
    }
   ],
   "source": [
    "print(dictionaryPositive)"
   ]
  },
  {
   "cell_type": "code",
   "execution_count": 58,
   "metadata": {},
   "outputs": [
    {
     "name": "stdout",
     "output_type": "stream",
     "text": [
      "Dictionary(1110933 unique tokens: ['Indiana.', 'Or', 'at', 'best', 'can']...)\n"
     ]
    }
   ],
   "source": [
    "print(dictionaryNegative)"
   ]
  },
  {
   "cell_type": "markdown",
   "metadata": {},
   "source": [
    "Se 'tokeniza' el texto."
   ]
  },
  {
   "cell_type": "code",
   "execution_count": 51,
   "metadata": {},
   "outputs": [],
   "source": [
    "tokenized_list_negative = [simple_preprocess(doc) for doc in dfNegative[\"text\"]]\n",
    "tokenized_list_positive = [simple_preprocess(doc) for doc in dfPositive[\"text\"]]"
   ]
  },
  {
   "cell_type": "markdown",
   "metadata": {},
   "source": [
    "Se extrae el corpus, y su frecuencia entre los textos."
   ]
  },
  {
   "cell_type": "code",
   "execution_count": 52,
   "metadata": {},
   "outputs": [],
   "source": [
    "mydict = corpora.Dictionary()\n",
    "\n",
    "corpus_negative = [mydict.doc2bow(doc, allow_update=True) for doc in tokenized_list_negative]\n",
    "corpus_positive = [mydict.doc2bow(doc, allow_update=True) for doc in tokenized_list_positive]"
   ]
  },
  {
   "cell_type": "code",
   "execution_count": 68,
   "metadata": {},
   "outputs": [
    {
     "data": {
      "text/plain": [
       "[(1, 1), (10, 1), (12, 1), (13, 1), (14, 1)]"
      ]
     },
     "execution_count": 68,
     "metadata": {},
     "output_type": "execute_result"
    }
   ],
   "source": [
    "corpus_negative[1]"
   ]
  },
  {
   "cell_type": "markdown",
   "metadata": {},
   "source": [
    "Se obtiene el valor TFI-DF de cada palabra."
   ]
  },
  {
   "cell_type": "code",
   "execution_count": 53,
   "metadata": {},
   "outputs": [],
   "source": [
    "tfidf_negative = models.TfidfModel(corpus_negative, smartirs='ntc')\n",
    "tfidf_positive = models.TfidfModel(corpus_positive, smartirs='ntc')"
   ]
  },
  {
   "cell_type": "code",
   "execution_count": 75,
   "metadata": {},
   "outputs": [
    {
     "data": {
      "text/plain": [
       "<gensim.models.tfidfmodel.TfidfModel at 0x1bc7e42f60>"
      ]
     },
     "execution_count": 75,
     "metadata": {},
     "output_type": "execute_result"
    }
   ],
   "source": [
    "tfidf_negative"
   ]
  },
  {
   "cell_type": "markdown",
   "metadata": {},
   "source": [
    "El valor TFI-DF de las primeras oraciones."
   ]
  },
  {
   "cell_type": "code",
   "execution_count": 56,
   "metadata": {},
   "outputs": [
    {
     "name": "stdout",
     "output_type": "stream",
     "text": [
      "[['at', 0.14], ['best', 0.22], ['can', 0.14], ['get', 0.16], ['herring', 0.54], ['in', 0.08], ['indiana', 0.43], ['least', 0.25], ['or', 0.14], ['pickled', 0.56], ['the', 0.05], ['you', 0.09]]\n",
      "[['best', 0.61], ['the', 0.13], ['is', 0.23], ['shit', 0.68], ['this', 0.3]]\n",
      "[['herring', 0.46], ['pickled', 0.47], ['favorite', 0.25], ['my', 0.11], ['saltines', 0.57], ['snack', 0.4]]\n",
      "[['is', 0.06], ['awesome', 0.21], ['butternut', 0.45], ['curried', 0.47], ['fusion', 0.35], ['make', 0.14], ['risotto', 0.43], ['squash', 0.39], ['too', 0.15], ['try', 0.18]]\n",
      "[['can', 0.08], ['in', 0.05], ['the', 0.06], ['you', 0.06], ['also', 0.11], ['and', 0.04], ['bake', 0.28], ['been', 0.11], ['but', 0.07], ['crazy', 0.19], ['doesn', 0.14], ['eating', 0.2], ['food', 0.17], ['for', 0.06], ['forever', 0.22], ['freeze', 0.27], ['freezer', 0.29], ['got', 0.13], ['had', 0.11], ['it', 0.05], ['jsyk', 0.48], ['last', 0.14], ['like', 0.08], ['made', 0.13], ['mistake', 0.22], ['months', 0.17], ['of', 0.04], ['poisoning', 0.29], ['some', 0.2], ['that', 0.1], ['way', 0.12]]\n",
      "[['is', 0.16], ['breadstick', 0.69], ['how', 0.16], ['life', 0.22], ['one', 0.15], ['only', 0.18], ['serving', 0.41], ['unfair', 0.42], ['why', 0.18]]\n",
      "[['get', 0.12], ['the', 0.04], ['you', 0.14], ['is', 0.06], ['also', 0.14], ['and', 0.05], ['it', 0.06], ['all', 0.11], ['as', 0.1], ['blocks', 0.31], ['buy', 0.21], ['cheaper', 0.29], ['cheese', 0.28], ['every', 0.17], ['found', 0.19], ['mini', 0.3], ['need', 0.16], ['needed', 0.24], ['out', 0.12], ['plus', 0.24], ['shred', 0.39], ['time', 0.27], ['to', 0.05], ['ve', 0.15], ['which', 0.15], ['work', 0.16]]\n",
      "[['it', 0.16], ['came', 0.55], ['glad', 0.67], ['through', 0.47]]\n",
      "[['card', 0.36], ['dominos', 0.65], ['gift', 0.42], ['hopefully', 0.37], ['sent', 0.37]]\n",
      "[['in', 0.08], ['indiana', 0.45], ['favorite', 0.31], ['my', 0.14], ['too', 0.21], ['chip', 0.44], ['ever', 0.24], ['flavor', 0.45], ['have', 0.12], ['here', 0.2], ['probably', 0.25], ['them', 0.19], ['we', 0.17]]\n"
     ]
    }
   ],
   "source": [
    "i=0\n",
    "for doc in tfidf_negative[corpus_negative]:\n",
    "    i=i+1\n",
    "    print([[mydict[id], np.around(freq, decimals=2)] for id, freq in doc])\n",
    "    if i==10:\n",
    "        break\n",
    "        "
   ]
  },
  {
   "cell_type": "code",
   "execution_count": 57,
   "metadata": {},
   "outputs": [
    {
     "name": "stdout",
     "output_type": "stream",
     "text": [
      "[['the', 0.05], ['my', 0.1], ['make', 0.2], ['for', 0.1], ['why', 0.21], ['to', 0.06], ['have', 0.11], ['after', 0.22], ['own', 0.27], ['what', 0.14], ['first', 0.21], ['if', 0.13], ['wait', 0.31], ['someone', 0.22], ['go', 0.19], ['move', 0.33], ['want', 0.19], ['should', 0.22], ['else', 0.26], ['expectations', 0.48]]\n",
      "[['on', 0.14], ['thanksgiving', 0.67], ['travel', 0.53], ['air', 0.5]]\n",
      "[['go', 0.24], ['cyclones', 0.97]]\n",
      "[['can', 0.08], ['the', 0.06], ['my', 0.12], ['and', 0.04], ['it', 0.04], ['like', 0.07], ['of', 0.05], ['here', 0.12], ['country', 0.21], ['what', 0.08], ['up', 0.09], ['second', 0.18], ['part', 0.16], ['beautiful', 0.2], ['new', 0.14], ['without', 0.16], ['fresh', 0.25], ['getting', 0.14], ['leave', 0.19], ['grew', 0.24], ['home', 0.16], ['parents', 0.18], ['air', 0.23], ['smelling', 0.35], ['holland', 0.38], ['achenbachs', 0.45]]\n",
      "[['of', 0.08], ['shades', 0.53], ['fifty', 0.58], ['ebola', 0.62]]\n",
      "[['the', 0.06], ['is', 0.1], ['brand', 0.47], ['duck', 0.63], ['printed', 0.6]]\n",
      "[['in', 0.08], ['my', 0.09], ['have', 0.1], ['with', 0.11], ['love', 0.2], ['absolutely', 0.3], ['machine', 0.38], ['sewing', 0.49], ['skirt', 0.49], ['fallen', 0.46]]\n",
      "[['the', 0.08], ['don', 0.23], ['bacon', 0.77], ['forget', 0.59]]\n",
      "[['and', 0.06], ['been', 0.16], ['had', 0.15], ['it', 0.12], ['just', 0.11], ['took', 0.25], ['know', 0.14], ['stopped', 0.3], ['before', 0.19], ['pic', 0.38], ['when', 0.14], ['didn', 0.19], ['posted', 0.3], ['mid', 0.34], ['oh', 0.23], ['bite', 0.4], ['noticed', 0.31]]\n",
      "[['in', 0.09], ['this', 0.11], ['like', 0.12], ['looks', 0.28], ['play', 0.26], ['photo', 0.39], ['pizza', 0.42], ['saver', 0.58], ['button', 0.4]]\n"
     ]
    }
   ],
   "source": [
    "i=0\n",
    "for doc in tfidf_positive[corpus_positive]:\n",
    "    i=i+1\n",
    "    print([[mydict[id], np.around(freq, decimals=2)] for id, freq in doc])\n",
    "    if i==10:\n",
    "        break"
   ]
  },
  {
   "cell_type": "markdown",
   "metadata": {},
   "source": [
    "# Análisis de los textos usando NLTK"
   ]
  },
  {
   "cell_type": "code",
   "execution_count": 65,
   "metadata": {},
   "outputs": [
    {
     "name": "stderr",
     "output_type": "stream",
     "text": [
      "[nltk_data] Downloading package punkt to\n",
      "[nltk_data]     /Users/raulbarrantes/nltk_data...\n",
      "[nltk_data]   Package punkt is already up-to-date!\n",
      "[nltk_data] Downloading package averaged_perceptron_tagger to\n",
      "[nltk_data]     /Users/raulbarrantes/nltk_data...\n",
      "[nltk_data]   Unzipping taggers/averaged_perceptron_tagger.zip.\n"
     ]
    },
    {
     "data": {
      "text/plain": [
       "True"
      ]
     },
     "execution_count": 65,
     "metadata": {},
     "output_type": "execute_result"
    }
   ],
   "source": [
    "import nltk\n",
    "nltk.download('punkt')\n",
    "nltk.download('averaged_perceptron_tagger')"
   ]
  },
  {
   "cell_type": "code",
   "execution_count": 63,
   "metadata": {},
   "outputs": [],
   "source": [
    "tokens_negative = [nltk.word_tokenize(doc) for doc in dfNegative[\"text\"]]\n",
    "tokens_positive = [nltk.word_tokenize(doc) for doc in dfPositive[\"text\"]]"
   ]
  },
  {
   "cell_type": "code",
   "execution_count": 66,
   "metadata": {},
   "outputs": [],
   "source": [
    "tagged_tokens_negative = [nltk.pos_tag(tokens) for tokens in tokens_negative]\n",
    "tagged_tokens_positive = [nltk.pos_tag(tokens) for tokens in tokens_positive]"
   ]
  },
  {
   "cell_type": "code",
   "execution_count": 73,
   "metadata": {},
   "outputs": [
    {
     "data": {
      "text/plain": [
       "[('Will', 'MD'),\n",
       " ('second', 'VB'),\n",
       " ('this', 'DT'),\n",
       " ('statement', 'NN'),\n",
       " ('...', ':'),\n",
       " ('...', ':'),\n",
       " ('What', 'WP'),\n",
       " ('the', 'DT'),\n",
       " ('actual', 'JJ'),\n",
       " ('fuck', 'NN'),\n",
       " ('did', 'VBD'),\n",
       " ('I', 'PRP'),\n",
       " ('just', 'RB'),\n",
       " ('read', 'VB'),\n",
       " ('?', '.')]"
      ]
     },
     "execution_count": 73,
     "metadata": {},
     "output_type": "execute_result"
    }
   ],
   "source": [
    "tagged_tokens_positive[100]"
   ]
  },
  {
   "cell_type": "code",
   "execution_count": 69,
   "metadata": {},
   "outputs": [
    {
     "data": {
      "text/plain": [
       "[('This', 'DT'), ('is', 'VBZ'), ('the', 'DT'), ('best', 'JJS'), ('shit', 'NN')]"
      ]
     },
     "execution_count": 69,
     "metadata": {},
     "output_type": "execute_result"
    }
   ],
   "source": [
    "tagged_tokens_negative[1]"
   ]
  },
  {
   "cell_type": "markdown",
   "metadata": {},
   "source": [
    "# Obtención de items más frecuentes"
   ]
  },
  {
   "cell_type": "code",
   "execution_count": 19,
   "metadata": {},
   "outputs": [],
   "source": [
    "from sklearn.feature_extraction.text import TfidfVectorizer\n",
    "from sklearn.feature_extraction.text import CountVectorizer"
   ]
  },
  {
   "cell_type": "markdown",
   "metadata": {},
   "source": [
    "## Corpus de casos positivos"
   ]
  },
  {
   "cell_type": "markdown",
   "metadata": {},
   "source": [
    "Se genera el objeto CountVectorizer, notar que se ponen como stop-words las palabras en inglés destinadas a ese tipo, según los diccionarios de los Vectorizer, además se filtran palabras con números usando regex."
   ]
  },
  {
   "cell_type": "code",
   "execution_count": 63,
   "metadata": {},
   "outputs": [],
   "source": [
    "cv=CountVectorizer(stop_words='english', min_df = 10, token_pattern=u'(?ui)\\\\b\\\\w*[a-z]+\\\\b')\n",
    "cv_fit=cv.fit_transform(dfPositive[\"text\"])   \n",
    "word_count_vector=cv.fit_transform(dfPositive[\"text\"])\n",
    "word_list = cv.get_feature_names();    \n",
    "count_list = cv_fit.toarray().sum(axis=0) \n",
    "x2 = dict(zip(word_list,count_list))\n",
    " "
   ]
  },
  {
   "cell_type": "markdown",
   "metadata": {},
   "source": [
    "Aqui la listas de las palabras más frecuentes."
   ]
  },
  {
   "cell_type": "code",
   "execution_count": 64,
   "metadata": {},
   "outputs": [
    {
     "name": "stdout",
     "output_type": "stream",
     "text": [
      "t: 37704\n",
      "s: 35833\n",
      "m: 20101\n",
      "just: 19837\n",
      "like: 19012\n",
      "don: 13456\n",
      "people: 10756\n",
      "know: 9989\n",
      "really: 9728\n",
      "ve: 9554\n",
      "time: 9137\n",
      "think: 9026\n",
      "good: 7121\n",
      "want: 6925\n",
      "feel: 6044\n",
      "d: 5748\n",
      "going: 5732\n",
      "make: 5428\n",
      "way: 5190\n",
      "got: 5156\n"
     ]
    }
   ],
   "source": [
    "i=0\n",
    "d_view = [ (v,k) for k,v in x2.items() ]\n",
    "d_view.sort(reverse=True) \n",
    "for v,k in d_view:\n",
    "    print (\"%s: %d\" % (k,v))\n",
    "    i=i+1\n",
    "    if(i==20):\n",
    "        break"
   ]
  },
  {
   "cell_type": "markdown",
   "metadata": {},
   "source": [
    "## Corpus de casos negativos"
   ]
  },
  {
   "cell_type": "markdown",
   "metadata": {},
   "source": [
    "Se genera el objeto CountVectorizer, notar que se ponen como stop-words las palabras en inglés destinadas a ese tipo, según los diccionarios de los Vectorizer, además se filtran palabras con números usando regex."
   ]
  },
  {
   "cell_type": "code",
   "execution_count": 65,
   "metadata": {},
   "outputs": [],
   "source": [
    "dfNegativeSample = pd.DataFrame(random.sample(corpusNegative, 90222)) "
   ]
  },
  {
   "cell_type": "code",
   "execution_count": 66,
   "metadata": {},
   "outputs": [],
   "source": [
    "cv_fit=cv.fit_transform(dfNegativeSample[\"text\"])   "
   ]
  },
  {
   "cell_type": "code",
   "execution_count": 67,
   "metadata": {},
   "outputs": [],
   "source": [
    "word_count_vector=cv.fit_transform(dfNegativeSample[\"text\"])"
   ]
  },
  {
   "cell_type": "code",
   "execution_count": 68,
   "metadata": {},
   "outputs": [],
   "source": [
    "word_list = cv.get_feature_names();    "
   ]
  },
  {
   "cell_type": "code",
   "execution_count": 69,
   "metadata": {},
   "outputs": [],
   "source": [
    "count_list = cv_fit.toarray().sum(axis=0) "
   ]
  },
  {
   "cell_type": "code",
   "execution_count": 70,
   "metadata": {},
   "outputs": [],
   "source": [
    "x2 = dict(zip(word_list,count_list))"
   ]
  },
  {
   "cell_type": "markdown",
   "metadata": {},
   "source": [
    "Aqui la listas de las palabras más frecuentes."
   ]
  },
  {
   "cell_type": "code",
   "execution_count": 71,
   "metadata": {},
   "outputs": [
    {
     "name": "stdout",
     "output_type": "stream",
     "text": [
      "s: 22046\n",
      "t: 19243\n",
      "like: 9966\n",
      "just: 9769\n",
      "com: 7771\n",
      "m: 6961\n",
      "http: 6399\n",
      "people: 6389\n",
      "don: 6287\n",
      "www: 5207\n",
      "think: 5093\n",
      "time: 5083\n",
      "know: 4848\n",
      "really: 4228\n",
      "good: 4188\n",
      "https: 3892\n",
      "ve: 3647\n",
      "d: 3422\n",
      "make: 3291\n",
      "way: 3239\n",
      "r: 3193\n",
      "want: 3166\n",
      "did: 3038\n",
      "new: 2996\n",
      "going: 2899\n",
      "right: 2866\n",
      "got: 2582\n",
      "say: 2390\n",
      "ll: 2387\n",
      "reddit: 2377\n",
      "work: 2344\n",
      "need: 2285\n",
      "said: 2280\n",
      "thing: 2242\n",
      "didn: 2160\n",
      "sure: 2153\n",
      "actually: 2122\n",
      "use: 2120\n",
      "game: 2119\n",
      "years: 2108\n",
      "does: 2107\n",
      "lot: 2098\n",
      "day: 2058\n",
      "things: 2045\n",
      "great: 2027\n",
      "better: 1961\n",
      "feel: 1912\n",
      "thanks: 1864\n",
      "doesn: 1855\n",
      "watch: 1835\n",
      "pretty: 1832\n",
      "look: 1797\n",
      "love: 1720\n",
      "post: 1703\n",
      "long: 1700\n",
      "life: 1698\n",
      "point: 1626\n",
      "year: 1604\n",
      "best: 1597\n",
      "little: 1589\n",
      "thought: 1562\n",
      "read: 1559\n",
      "probably: 1551\n",
      "used: 1514\n",
      "man: 1513\n",
      "world: 1501\n",
      "maybe: 1475\n",
      "let: 1464\n",
      "isn: 1437\n",
      "help: 1388\n",
      "bad: 1363\n",
      "yes: 1360\n",
      "different: 1344\n",
      "yeah: 1336\n",
      "comments: 1335\n",
      "getting: 1334\n",
      "money: 1316\n",
      "come: 1310\n",
      "doing: 1304\n",
      "try: 1295\n",
      "old: 1290\n",
      "mean: 1285\n",
      "guy: 1269\n",
      "story: 1257\n",
      "big: 1247\n",
      "u: 1245\n",
      "shit: 1245\n",
      "org: 1242\n",
      "movie: 1200\n",
      "youtube: 1188\n",
      "trying: 1183\n",
      "play: 1163\n",
      "far: 1150\n",
      "end: 1124\n",
      "seen: 1122\n",
      "place: 1122\n",
      "away: 1112\n",
      "person: 1105\n",
      "looking: 1105\n",
      "believe: 1103\n",
      "real: 1084\n",
      "trump: 1082\n",
      "news: 1079\n",
      "bit: 1075\n",
      "v: 1074\n",
      "makes: 1074\n",
      "free: 1067\n",
      "tell: 1058\n",
      "hard: 1043\n",
      "kind: 1042\n",
      "having: 1032\n",
      "times: 1024\n",
      "using: 1020\n",
      "left: 1018\n",
      "imgur: 1011\n",
      "went: 1002\n",
      "looks: 1002\n",
      "saying: 995\n",
      "high: 995\n",
      "wrong: 993\n",
      "video: 992\n",
      "article: 989\n",
      "oh: 983\n",
      "house: 979\n",
      "problem: 963\n",
      "question: 959\n",
      "start: 954\n",
      "games: 953\n",
      "idea: 952\n",
      "fuck: 949\n",
      "making: 942\n",
      "book: 942\n",
      "home: 941\n",
      "thank: 934\n",
      "edit: 932\n",
      "reason: 928\n",
      "change: 927\n",
      "won: 926\n",
      "started: 926\n",
      "able: 923\n",
      "live: 915\n",
      "wasn: 909\n",
      "days: 906\n",
      "stuff: 904\n",
      "true: 895\n",
      "wiki: 890\n",
      "came: 886\n",
      "state: 878\n",
      "remember: 876\n",
      "job: 872\n",
      "saw: 861\n",
      "night: 861\n",
      "case: 858\n",
      "fucking: 853\n",
      "ago: 853\n",
      "guess: 852\n",
      "removed: 846\n",
      "fact: 837\n",
      "hope: 829\n",
      "guys: 828\n",
      "link: 826\n",
      "nice: 819\n",
      "school: 818\n",
      "week: 814\n",
      "took: 812\n",
      "black: 800\n",
      "stop: 799\n",
      "god: 797\n",
      "en: 793\n",
      "wouldn: 792\n",
      "white: 790\n",
      "instead: 788\n",
      "car: 788\n",
      "run: 783\n",
      "wanted: 777\n",
      "mind: 777\n",
      "understand: 775\n",
      "care: 775\n",
      "called: 771\n",
      "sort: 769\n",
      "second: 768\n",
      "government: 766\n",
      "told: 763\n",
      "jpg: 762\n",
      "heard: 751\n",
      "small: 750\n",
      "pay: 744\n",
      "head: 741\n",
      "quite: 736\n",
      "sorry: 733\n",
      "set: 733\n",
      "buy: 733\n",
      "today: 730\n",
      "friends: 728\n",
      "based: 724\n",
      "source: 722\n",
      "agree: 718\n",
      "open: 712\n",
      "ask: 711\n",
      "message: 708\n"
     ]
    }
   ],
   "source": [
    "i=0\n",
    "d_view = [ (v,k) for k,v in x2.items() ]\n",
    "d_view.sort(reverse=True) \n",
    "for v,k in d_view:\n",
    "    print (\"%s: %d\" % (k,v))\n",
    "    i=i+1\n",
    "    if(i==200):\n",
    "        break"
   ]
  },
  {
   "cell_type": "markdown",
   "metadata": {},
   "source": [
    "# Obtención de items centrales"
   ]
  },
  {
   "cell_type": "markdown",
   "metadata": {},
   "source": [
    "Se inicializa el TfidfVectorizer para mostrar los elementos centrales del documento."
   ]
  },
  {
   "cell_type": "code",
   "execution_count": 72,
   "metadata": {},
   "outputs": [],
   "source": [
    "vectorizer = TfidfVectorizer(stop_words='english', min_df = 10,use_idf=True, token_pattern=u'(?ui)\\\\b\\\\w*[a-z]+\\\\b')\n",
    "X = vectorizer.fit_transform(dfNegativeSample[\"text\"])\n",
    "idf = vectorizer._tfidf.idf_\n",
    "x1 = dict(zip(vectorizer.get_feature_names(), idf))"
   ]
  },
  {
   "cell_type": "markdown",
   "metadata": {},
   "source": [
    "Aqui la listas de las palabras centrales."
   ]
  },
  {
   "cell_type": "code",
   "execution_count": 73,
   "metadata": {},
   "outputs": [
    {
     "name": "stdout",
     "output_type": "stream",
     "text": [
      "zack: 10.012144\n",
      "yummy: 10.012144\n",
      "yrs: 10.012144\n",
      "yolk: 10.012144\n",
      "yoda: 10.012144\n",
      "ymmv: 10.012144\n",
      "yeh: 10.012144\n",
      "yearly: 10.012144\n",
      "yanked: 10.012144\n",
      "xbone: 10.012144\n",
      "wrestlers: 10.012144\n",
      "wounded: 10.012144\n",
      "wouldve: 10.012144\n",
      "worm: 10.012144\n",
      "wives: 10.012144\n",
      "widget: 10.012144\n",
      "wicker: 10.012144\n",
      "whitehouse: 10.012144\n",
      "whiny: 10.012144\n",
      "weighs: 10.012144\n"
     ]
    }
   ],
   "source": [
    "i=0\n",
    "d_view = [ (v,k) for k,v in x1.items() ]\n",
    "d_view.sort(reverse=True)\n",
    "for v,k in d_view:\n",
    "    print (\"%s: %f\" % (k,v))\n",
    "    i=i+1\n",
    "    if(i==20):\n",
    "        break"
   ]
  },
  {
   "cell_type": "code",
   "execution_count": 74,
   "metadata": {},
   "outputs": [],
   "source": [
    "vectorizer = TfidfVectorizer(stop_words={'english'}, min_df = 10,use_idf=True, token_pattern=u'(?ui)\\\\b\\\\w*[a-z]+\\\\b')\n",
    "X = vectorizer.fit_transform(dfPositive[\"text\"])\n",
    "idf = vectorizer._tfidf.idf_\n",
    "x1 = dict(zip(vectorizer.get_feature_names(), idf))"
   ]
  },
  {
   "cell_type": "code",
   "execution_count": 75,
   "metadata": {},
   "outputs": [
    {
     "name": "stdout",
     "output_type": "stream",
     "text": [
      "youll: 10.012144\n",
      "xxx: 10.012144\n",
      "xt: 10.012144\n",
      "wrenching: 10.012144\n",
      "wrecks: 10.012144\n",
      "wraps: 10.012144\n",
      "wonderfully: 10.012144\n",
      "witches: 10.012144\n",
      "wip: 10.012144\n",
      "winnipeg: 10.012144\n",
      "winded: 10.012144\n",
      "whopping: 10.012144\n",
      "whispering: 10.012144\n",
      "westboro: 10.012144\n",
      "wendyfiore: 10.012144\n",
      "weezer: 10.012144\n",
      "weary: 10.012144\n",
      "wattpad: 10.012144\n",
      "warp: 10.012144\n",
      "wandered: 10.012144\n"
     ]
    }
   ],
   "source": [
    "i=0\n",
    "d_view = [ (v,k) for k,v in x1.items() ]\n",
    "d_view.sort(reverse=True)\n",
    "for v,k in d_view:\n",
    "    print (\"%s: %f\" % (k,v))\n",
    "    i=i+1\n",
    "    if(i==20):\n",
    "        break"
   ]
  }
 ],
 "metadata": {
  "kernelspec": {
   "display_name": "Python 3",
   "language": "python",
   "name": "python3"
  },
  "language_info": {
   "codemirror_mode": {
    "name": "ipython",
    "version": 3
   },
   "file_extension": ".py",
   "mimetype": "text/x-python",
   "name": "python",
   "nbconvert_exporter": "python",
   "pygments_lexer": "ipython3",
   "version": "3.7.3"
  }
 },
 "nbformat": 4,
 "nbformat_minor": 2
}
